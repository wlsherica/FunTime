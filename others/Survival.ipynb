{
 "cells": [
  {
   "cell_type": "markdown",
   "metadata": {},
   "source": [
    "## Survival Analysis in Python\n",
    "\n",
    "sas7bdat for Python: https://pypi.python.org/pypi/sas7bdat\n",
    "\n",
    "Raw data: ftp://ftp.wiley.com/public/sci_tech_med/survival\n",
    "\n",
    "- lifelines-0.8.0.2\n",
    "- sas7bdat 2.0.6\n",
    "\n",
    "Ref\n",
    "- http://www.ats.ucla.edu/stat/sas/seminars/sas_survival/\n",
    "- whas500 coding book https://www.umass.edu/statdata/statdata/data/whas500.txt\n",
    "- Hosmer, D.W. and Lemeshow, S. and May, S. (2008) Applied Survival Analysis: Regression Modeling of Time to Event Data: Second Edition, John Wiley and Sons Inc., New York, NY"
   ]
  },
  {
   "cell_type": "markdown",
   "metadata": {},
   "source": [
    "### Data from the Worcester Heart Attack Study whose main goal was to describe factors associated with trends over time in the incidence and survival rates following hospital admission for acute myocardial infarction."
   ]
  },
  {
   "cell_type": "code",
   "execution_count": 3,
   "metadata": {
    "collapsed": false
   },
   "outputs": [],
   "source": [
    "import pandas \n",
    "from sas7bdat import SAS7BDAT\n",
    "data_whas = '/Users/wlsherica/Documents/ElasticMining/whas500.sas7bdat'\n",
    "data_out = '/Users/wlsherica/Documents/ElasticMining/whas500.csv'\n",
    "f = SAS7BDAT(data_whas)\n",
    "df = f.to_data_frame()\n",
    "\n",
    "df.to_csv(data_out, sep='\\t')"
   ]
  },
  {
   "cell_type": "code",
   "execution_count": 9,
   "metadata": {
    "collapsed": false
   },
   "outputs": [
    {
     "data": {
      "text/html": [
       "<div>\n",
       "<table border=\"1\" class=\"dataframe\">\n",
       "  <thead>\n",
       "    <tr style=\"text-align: right;\">\n",
       "      <th></th>\n",
       "      <th>ID</th>\n",
       "      <th>AGE</th>\n",
       "      <th>GENDER</th>\n",
       "      <th>HR</th>\n",
       "      <th>SYSBP</th>\n",
       "      <th>DIASBP</th>\n",
       "      <th>BMI</th>\n",
       "      <th>CVD</th>\n",
       "      <th>AFB</th>\n",
       "      <th>SHO</th>\n",
       "      <th>CHF</th>\n",
       "      <th>AV3</th>\n",
       "      <th>MIORD</th>\n",
       "      <th>MITYPE</th>\n",
       "      <th>YEAR</th>\n",
       "      <th>LOS</th>\n",
       "      <th>DSTAT</th>\n",
       "      <th>LENFOL</th>\n",
       "      <th>FSTAT</th>\n",
       "    </tr>\n",
       "  </thead>\n",
       "  <tbody>\n",
       "    <tr>\n",
       "      <th>0</th>\n",
       "      <td>1</td>\n",
       "      <td>83</td>\n",
       "      <td>0</td>\n",
       "      <td>89</td>\n",
       "      <td>152</td>\n",
       "      <td>78</td>\n",
       "      <td>25.540510</td>\n",
       "      <td>1</td>\n",
       "      <td>1</td>\n",
       "      <td>0</td>\n",
       "      <td>0</td>\n",
       "      <td>0</td>\n",
       "      <td>1</td>\n",
       "      <td>0</td>\n",
       "      <td>1</td>\n",
       "      <td>5</td>\n",
       "      <td>0</td>\n",
       "      <td>2178</td>\n",
       "      <td>0</td>\n",
       "    </tr>\n",
       "    <tr>\n",
       "      <th>1</th>\n",
       "      <td>2</td>\n",
       "      <td>49</td>\n",
       "      <td>0</td>\n",
       "      <td>84</td>\n",
       "      <td>120</td>\n",
       "      <td>60</td>\n",
       "      <td>24.023979</td>\n",
       "      <td>1</td>\n",
       "      <td>0</td>\n",
       "      <td>0</td>\n",
       "      <td>0</td>\n",
       "      <td>0</td>\n",
       "      <td>0</td>\n",
       "      <td>1</td>\n",
       "      <td>1</td>\n",
       "      <td>5</td>\n",
       "      <td>0</td>\n",
       "      <td>2172</td>\n",
       "      <td>0</td>\n",
       "    </tr>\n",
       "    <tr>\n",
       "      <th>2</th>\n",
       "      <td>3</td>\n",
       "      <td>70</td>\n",
       "      <td>1</td>\n",
       "      <td>83</td>\n",
       "      <td>147</td>\n",
       "      <td>88</td>\n",
       "      <td>22.142900</td>\n",
       "      <td>0</td>\n",
       "      <td>0</td>\n",
       "      <td>0</td>\n",
       "      <td>0</td>\n",
       "      <td>0</td>\n",
       "      <td>0</td>\n",
       "      <td>1</td>\n",
       "      <td>1</td>\n",
       "      <td>5</td>\n",
       "      <td>0</td>\n",
       "      <td>2190</td>\n",
       "      <td>0</td>\n",
       "    </tr>\n",
       "  </tbody>\n",
       "</table>\n",
       "</div>"
      ],
      "text/plain": [
       "   ID  AGE  GENDER  HR  SYSBP  DIASBP        BMI  CVD  AFB  SHO  CHF  AV3  \\\n",
       "0   1   83       0  89    152      78  25.540510    1    1    0    0    0   \n",
       "1   2   49       0  84    120      60  24.023979    1    0    0    0    0   \n",
       "2   3   70       1  83    147      88  22.142900    0    0    0    0    0   \n",
       "\n",
       "   MIORD  MITYPE  YEAR  LOS  DSTAT  LENFOL  FSTAT  \n",
       "0      1       0     1    5      0    2178      0  \n",
       "1      0       1     1    5      0    2172      0  \n",
       "2      0       1     1    5      0    2190      0  "
      ]
     },
     "execution_count": 9,
     "metadata": {},
     "output_type": "execute_result"
    }
   ],
   "source": [
    "# n = 500\n",
    "df.head(3)"
   ]
  },
  {
   "cell_type": "markdown",
   "metadata": {},
   "source": [
    "- lenfol: length of followup, terminated either by death or censoring. The outcome in this study.\n",
    "- fstat: the censoring variable, loss to followup=0, death=1\n",
    "- age: age at hospitalization\n",
    "- bmi: body mass index\n",
    "- hr: initial heart rate\n",
    "- gender: males=0, females=1"
   ]
  },
  {
   "cell_type": "code",
   "execution_count": 7,
   "metadata": {
    "collapsed": false
   },
   "outputs": [],
   "source": [
    "# Load python libraries\n",
    "import numpy as np\n",
    "import pandas as pd\n",
    "import lifelines as ll\n",
    "\n",
    "from IPython.display import HTML\n",
    "%matplotlib inline\n",
    "import matplotlib.pyplot as plt\n",
    "\n",
    "#import plotly.plotly as py\n",
    "#import plotly.tools as tls   \n",
    "#from plotly.graph_objs import *\n",
    "\n",
    "#larger\n",
    "from pylab import rcParams\n",
    "rcParams['figure.figsize']=10, 5"
   ]
  },
  {
   "cell_type": "markdown",
   "metadata": {},
   "source": [
    "KaplanMeierFitter.fit(event_times, event_observed=None,\n",
    "                      timeline=None, label='KM-estimate',\n",
    "                      alpha=None)\n",
    "Parameters:\n",
    "-  event_times: an array, or pd.Series, of length n of times that the death event occured at\n",
    "-  event_observed: an array, or pd.Series, of length n -- True if the death was observed, False if the event was lost (right-censored). Defaults all True if event_observed==None\n",
    "-  timeline: set the index of the survival curve to this postively increasing array.\n",
    "-  label: a string to name the column of the estimate.\n",
    "-  alpha: the alpha value in the confidence intervals. Overrides the initializing alpha for this call to fit only.\n",
    "\n",
    "Returns: self, with new properties like 'survival_function_'."
   ]
  },
  {
   "cell_type": "code",
   "execution_count": 35,
   "metadata": {
    "collapsed": false
   },
   "outputs": [
    {
     "data": {
      "text/plain": [
       "<lifelines.KaplanMeierFitter: fitted with 500 observations, 285 censored>"
      ]
     },
     "execution_count": 35,
     "metadata": {},
     "output_type": "execute_result"
    }
   ],
   "source": [
    "from lifelines.estimation import KaplanMeierFitter\n",
    "kmf = KaplanMeierFitter()\n",
    "\n",
    "T = df['LENFOL']\n",
    "C = df['FSTAT']\n",
    "\n",
    "#kmf.fit(observed_lifetimes, event_observed=C)\n",
    "kmf.fit(T, event_observed=C)"
   ]
  },
  {
   "cell_type": "code",
   "execution_count": 36,
   "metadata": {
    "collapsed": false
   },
   "outputs": [
    {
     "data": {
      "text/plain": [
       "<matplotlib.axes.AxesSubplot at 0x10d893410>"
      ]
     },
     "execution_count": 36,
     "metadata": {},
     "output_type": "execute_result"
    },
    {
     "data": {
      "image/png": "[encoded data removed]",
      "text/plain": [
       "<matplotlib.figure.Figure at 0x10d9b6950>"
      ]
     },
     "metadata": {},
     "output_type": "display_data"
    }
   ],
   "source": [
    "# fitter methods have an internal plotting method.\n",
    "# plot the curve with the confidence intervals\n",
    "kmf.plot(title='Worcester Heart Attack Profile 1')"
   ]
  },
  {
   "cell_type": "markdown",
   "metadata": {},
   "source": [
    "How do we interpret this? The y-axis represents the probability a leader is still around after t days, where t days is on the x-axis. The survival function is undefined past this final interval at 2358 days. The blue-shaded area around the survival curve represents the 95% confidence band."
   ]
  },
  {
   "cell_type": "code",
   "execution_count": 37,
   "metadata": {
    "collapsed": false
   },
   "outputs": [
    {
     "data": {
      "image/png": "[encoded data removed]",
      "text/plain": [
       "<matplotlib.figure.Figure at 0x10dba8210>"
      ]
     },
     "metadata": {},
     "output_type": "display_data"
    }
   ],
   "source": [
    "kmf.fit(T, event_observed=C)\n",
    "kmf.survival_function_.plot()\n",
    "plt.title('Survival function of Worcester Heart Attack');"
   ]
  },
  {
   "cell_type": "code",
   "execution_count": 38,
   "metadata": {
    "collapsed": false
   },
   "outputs": [
    {
     "data": {
      "text/plain": [
       "1627.0"
      ]
     },
     "execution_count": 38,
     "metadata": {},
     "output_type": "execute_result"
    }
   ],
   "source": [
    "kmf.median_\n",
    "# we see that the median user stays X days which is realistic"
   ]
  },
  {
   "cell_type": "code",
   "execution_count": 39,
   "metadata": {
    "collapsed": false
   },
   "outputs": [
    {
     "data": {
      "text/plain": [
       "<matplotlib.text.Text at 0x10dd5fe10>"
      ]
     },
     "execution_count": 39,
     "metadata": {},
     "output_type": "execute_result"
    },
    {
     "data": {
      "image/png": "[encoded data removed]",
      "text/plain": [
       "<matplotlib.figure.Figure at 0x10dbb3e90>"
      ]
     },
     "metadata": {},
     "output_type": "display_data"
    }
   ],
   "source": [
    "ax = plt.subplot(111)\n",
    "\n",
    "T0 = df['LENFOL']\n",
    "C0 = df['FSTAT']\n",
    "\n",
    "dem = (df[\"GENDER\"] == 1)\n",
    "kmf.fit(T0[dem], event_observed=C0[dem], label=\"Female\")\n",
    "kmf.plot(ax=ax, ci_force_lines=True)\n",
    "kmf.fit(T0[~dem], event_observed=C0[~dem], label=\"Male\")\n",
    "kmf.plot(ax=ax, ci_force_lines=True)\n",
    "\n",
    "plt.ylim(0,1)\n",
    "plt.title(\"Lifespans of different gender\")"
   ]
  },
  {
   "cell_type": "code",
   "execution_count": 40,
   "metadata": {
    "collapsed": false
   },
   "outputs": [
    {
     "data": {
      "image/png": "[encoded data removed]",
      "text/plain": [
       "<matplotlib.figure.Figure at 0x10dc90f50>"
      ]
     },
     "metadata": {},
     "output_type": "display_data"
    }
   ],
   "source": [
    "#male\n",
    "f = df.GENDER==0\n",
    "T = df[f]['LENFOL']\n",
    "C = df[f]['FSTAT']\n",
    "#female\n",
    "f2 = df.GENDER==1\n",
    "T2 = df[f2]['LENFOL']\n",
    "C2 = df[f2]['FSTAT']\n",
    "\n",
    "ax = plt.subplot(111)\n",
    "\n",
    "kmf.fit(T, event_observed=C, label=['Male'])\n",
    "kmf.survival_function_.plot(ax=ax)\n",
    "kmf.fit(T2, event_observed=C2, label=['Female'])\n",
    "kmf.survival_function_.plot(ax=ax)\n",
    "\n",
    "plt.title('Lifespans of different gender')\n",
    "\n",
    "kmf2 = plt.gcf()"
   ]
  },
  {
   "cell_type": "code",
   "execution_count": 41,
   "metadata": {
    "collapsed": false
   },
   "outputs": [
    {
     "name": "stdout",
     "output_type": "stream",
     "text": [
      "Results\n",
      "   df: 1\n",
      "   alpha: 0.95\n",
      "   t 0: -1\n",
      "   test: logrank\n",
      "   null distribution: chi squared\n",
      "\n",
      "   __ p-value ___|__ test statistic __|____ test result ____|__ is significant __\n",
      "         0.00525 |              7.791 |      Reject Null    |        True       \n"
     ]
    }
   ],
   "source": [
    "# The function logrank_test is a common statistical test in survival analysis that \n",
    "#compares two event series’ generators.\n",
    "from lifelines.statistics import logrank_test\n",
    "\n",
    "results = logrank_test(T0[dem], T0[~dem], C0[dem], C0[~dem], alpha=.95 )\n",
    "results.print_summary()"
   ]
  },
  {
   "cell_type": "code",
   "execution_count": 68,
   "metadata": {
    "collapsed": false
   },
   "outputs": [
    {
     "data": {
      "text/html": [
       "<div>\n",
       "<table border=\"1\" class=\"dataframe\">\n",
       "  <thead>\n",
       "    <tr style=\"text-align: right;\">\n",
       "      <th></th>\n",
       "      <th>ID</th>\n",
       "      <th>AGE</th>\n",
       "      <th>GENDER</th>\n",
       "      <th>HR</th>\n",
       "      <th>SYSBP</th>\n",
       "      <th>DIASBP</th>\n",
       "      <th>BMI</th>\n",
       "      <th>CVD</th>\n",
       "      <th>AFB</th>\n",
       "      <th>SHO</th>\n",
       "      <th>CHF</th>\n",
       "      <th>AV3</th>\n",
       "      <th>MIORD</th>\n",
       "      <th>MITYPE</th>\n",
       "      <th>YEAR</th>\n",
       "      <th>LOS</th>\n",
       "      <th>DSTAT</th>\n",
       "      <th>LENFOL</th>\n",
       "      <th>FSTAT</th>\n",
       "      <th>YEAR_G</th>\n",
       "    </tr>\n",
       "  </thead>\n",
       "  <tbody>\n",
       "    <tr>\n",
       "      <th>0</th>\n",
       "      <td>1</td>\n",
       "      <td>83</td>\n",
       "      <td>0</td>\n",
       "      <td>89</td>\n",
       "      <td>152</td>\n",
       "      <td>78</td>\n",
       "      <td>25.540510</td>\n",
       "      <td>1</td>\n",
       "      <td>1</td>\n",
       "      <td>0</td>\n",
       "      <td>0</td>\n",
       "      <td>0</td>\n",
       "      <td>1</td>\n",
       "      <td>0</td>\n",
       "      <td>1</td>\n",
       "      <td>5</td>\n",
       "      <td>0</td>\n",
       "      <td>2178</td>\n",
       "      <td>0</td>\n",
       "      <td>One</td>\n",
       "    </tr>\n",
       "    <tr>\n",
       "      <th>1</th>\n",
       "      <td>2</td>\n",
       "      <td>49</td>\n",
       "      <td>0</td>\n",
       "      <td>84</td>\n",
       "      <td>120</td>\n",
       "      <td>60</td>\n",
       "      <td>24.023979</td>\n",
       "      <td>1</td>\n",
       "      <td>0</td>\n",
       "      <td>0</td>\n",
       "      <td>0</td>\n",
       "      <td>0</td>\n",
       "      <td>0</td>\n",
       "      <td>1</td>\n",
       "      <td>1</td>\n",
       "      <td>5</td>\n",
       "      <td>0</td>\n",
       "      <td>2172</td>\n",
       "      <td>0</td>\n",
       "      <td>One</td>\n",
       "    </tr>\n",
       "  </tbody>\n",
       "</table>\n",
       "</div>"
      ],
      "text/plain": [
       "   ID  AGE  GENDER  HR  SYSBP  DIASBP        BMI  CVD  AFB  SHO  CHF  AV3  \\\n",
       "0   1   83       0  89    152      78  25.540510    1    1    0    0    0   \n",
       "1   2   49       0  84    120      60  24.023979    1    0    0    0    0   \n",
       "\n",
       "   MIORD  MITYPE  YEAR  LOS  DSTAT  LENFOL  FSTAT YEAR_G  \n",
       "0      1       0     1    5      0    2178      0    One  \n",
       "1      0       1     1    5      0    2172      0    One  "
      ]
     },
     "execution_count": 68,
     "metadata": {},
     "output_type": "execute_result"
    }
   ],
   "source": [
    "def label_race(row):\n",
    "   if row['YEAR'] == 1 :\n",
    "      return 'One'\n",
    "   if row['YEAR'] == 2:\n",
    "      return 'Two'\n",
    "   if row['YEAR'] == 3 :\n",
    "      return 'Three'\n",
    "\n",
    "df2 = df\n",
    "df2['YEAR_G'] = df2.apply (lambda row: label_race (row),axis=1)\n",
    "df2.head(2)"
   ]
  },
  {
   "cell_type": "code",
   "execution_count": 69,
   "metadata": {
    "collapsed": false
   },
   "outputs": [
    {
     "data": {
      "text/html": [
       "<div>\n",
       "<table border=\"1\" class=\"dataframe\">\n",
       "  <thead>\n",
       "    <tr style=\"text-align: right;\">\n",
       "      <th></th>\n",
       "      <th>ID</th>\n",
       "      <th>AGE</th>\n",
       "      <th>GENDER</th>\n",
       "      <th>HR</th>\n",
       "      <th>SYSBP</th>\n",
       "      <th>DIASBP</th>\n",
       "      <th>BMI</th>\n",
       "      <th>CVD</th>\n",
       "      <th>AFB</th>\n",
       "      <th>SHO</th>\n",
       "      <th>CHF</th>\n",
       "      <th>AV3</th>\n",
       "      <th>MIORD</th>\n",
       "      <th>MITYPE</th>\n",
       "      <th>YEAR</th>\n",
       "      <th>LOS</th>\n",
       "      <th>DSTAT</th>\n",
       "      <th>LENFOL</th>\n",
       "      <th>FSTAT</th>\n",
       "    </tr>\n",
       "    <tr>\n",
       "      <th>YEAR_G</th>\n",
       "      <th></th>\n",
       "      <th></th>\n",
       "      <th></th>\n",
       "      <th></th>\n",
       "      <th></th>\n",
       "      <th></th>\n",
       "      <th></th>\n",
       "      <th></th>\n",
       "      <th></th>\n",
       "      <th></th>\n",
       "      <th></th>\n",
       "      <th></th>\n",
       "      <th></th>\n",
       "      <th></th>\n",
       "      <th></th>\n",
       "      <th></th>\n",
       "      <th></th>\n",
       "      <th></th>\n",
       "      <th></th>\n",
       "    </tr>\n",
       "  </thead>\n",
       "  <tbody>\n",
       "    <tr>\n",
       "      <th>One</th>\n",
       "      <td>160</td>\n",
       "      <td>160</td>\n",
       "      <td>160</td>\n",
       "      <td>160</td>\n",
       "      <td>160</td>\n",
       "      <td>160</td>\n",
       "      <td>160</td>\n",
       "      <td>160</td>\n",
       "      <td>160</td>\n",
       "      <td>160</td>\n",
       "      <td>160</td>\n",
       "      <td>160</td>\n",
       "      <td>160</td>\n",
       "      <td>160</td>\n",
       "      <td>160</td>\n",
       "      <td>160</td>\n",
       "      <td>160</td>\n",
       "      <td>160</td>\n",
       "      <td>160</td>\n",
       "    </tr>\n",
       "    <tr>\n",
       "      <th>Three</th>\n",
       "      <td>152</td>\n",
       "      <td>152</td>\n",
       "      <td>152</td>\n",
       "      <td>152</td>\n",
       "      <td>152</td>\n",
       "      <td>152</td>\n",
       "      <td>152</td>\n",
       "      <td>152</td>\n",
       "      <td>152</td>\n",
       "      <td>152</td>\n",
       "      <td>152</td>\n",
       "      <td>152</td>\n",
       "      <td>152</td>\n",
       "      <td>152</td>\n",
       "      <td>152</td>\n",
       "      <td>152</td>\n",
       "      <td>152</td>\n",
       "      <td>152</td>\n",
       "      <td>152</td>\n",
       "    </tr>\n",
       "    <tr>\n",
       "      <th>Two</th>\n",
       "      <td>188</td>\n",
       "      <td>188</td>\n",
       "      <td>188</td>\n",
       "      <td>188</td>\n",
       "      <td>188</td>\n",
       "      <td>188</td>\n",
       "      <td>188</td>\n",
       "      <td>188</td>\n",
       "      <td>188</td>\n",
       "      <td>188</td>\n",
       "      <td>188</td>\n",
       "      <td>188</td>\n",
       "      <td>188</td>\n",
       "      <td>188</td>\n",
       "      <td>188</td>\n",
       "      <td>188</td>\n",
       "      <td>188</td>\n",
       "      <td>188</td>\n",
       "      <td>188</td>\n",
       "    </tr>\n",
       "  </tbody>\n",
       "</table>\n",
       "</div>"
      ],
      "text/plain": [
       "         ID  AGE  GENDER   HR  SYSBP  DIASBP  BMI  CVD  AFB  SHO  CHF  AV3  \\\n",
       "YEAR_G                                                                       \n",
       "One     160  160     160  160    160     160  160  160  160  160  160  160   \n",
       "Three   152  152     152  152    152     152  152  152  152  152  152  152   \n",
       "Two     188  188     188  188    188     188  188  188  188  188  188  188   \n",
       "\n",
       "        MIORD  MITYPE  YEAR  LOS  DSTAT  LENFOL  FSTAT  \n",
       "YEAR_G                                                  \n",
       "One       160     160   160  160    160     160    160  \n",
       "Three     152     152   152  152    152     152    152  \n",
       "Two       188     188   188  188    188     188    188  "
      ]
     },
     "execution_count": 69,
     "metadata": {},
     "output_type": "execute_result"
    }
   ],
   "source": [
    "df2.groupby( [\"YEAR_G\"] ).count()"
   ]
  },
  {
   "cell_type": "code",
   "execution_count": 71,
   "metadata": {
    "collapsed": false
   },
   "outputs": [
    {
     "data": {
      "image/png": "[encoded data removed]",
      "text/plain": [
       "<matplotlib.figure.Figure at 0x10e98e3d0>"
      ]
     },
     "metadata": {},
     "output_type": "display_data"
    }
   ],
   "source": [
    "regime_types = df2['YEAR_G'].unique()\n",
    "\n",
    "T3 = df2['LENFOL']\n",
    "C3 = df2['FSTAT']\n",
    "\n",
    "for i, regime_type in enumerate(regime_types):\n",
    "    ax = plt.subplot(1,3,i+1)\n",
    "    ix = df['YEAR_G'] == regime_type \n",
    "    kmf.fit(T3[ix], C3[ix], label=regime_type)\n",
    "    kmf.plot(ax=ax, legend=False)\n",
    "    plt.title(regime_type)\n",
    "    plt.xlim(0,2500)\n",
    "    if i==0:\n",
    "        plt.ylabel('Frac. in power after $n$ days')\n",
    "plt.tight_layout()"
   ]
  },
  {
   "cell_type": "code",
   "execution_count": null,
   "metadata": {
    "collapsed": true
   },
   "outputs": [],
   "source": []
  }
 ],
 "metadata": {
  "kernelspec": {
   "display_name": "Python 2",
   "language": "python",
   "name": "python2"
  },
  "language_info": {
   "codemirror_mode": {
    "name": "ipython",
    "version": 2
   },
   "file_extension": ".py",
   "mimetype": "text/x-python",
   "name": "python",
   "nbconvert_exporter": "python",
   "pygments_lexer": "ipython2",
   "version": "2.7.10"
  }
 },
 "nbformat": 4,
 "nbformat_minor": 0
}
