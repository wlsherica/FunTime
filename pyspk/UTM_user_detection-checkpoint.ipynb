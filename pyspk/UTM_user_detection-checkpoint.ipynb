{
 "cells": [
  {
   "cell_type": "markdown",
   "metadata": {},
   "source": [
    "###Data prepared"
   ]
  },
  {
   "cell_type": "code",
   "execution_count": 1,
   "metadata": {
    "collapsed": false
   },
   "outputs": [
    {
     "name": "stdout",
     "output_type": "stream",
     "text": [
      "Duration: 0:00:05.524831\n"
     ]
    },
    {
     "name": "stderr",
     "output_type": "stream",
     "text": [
      "/Library/Python/2.7/site-packages/pandas/io/parsers.py:1170: DtypeWarning: Columns (7,17,18,28) have mixed types. Specify dtype option on import or set low_memory=False.\n",
      "  data = self._reader.read(nrows)\n"
     ]
    }
   ],
   "source": [
    "#Data prepare\n",
    "import json\n",
    "import pandas as pd\n",
    "import os.path\n",
    "from datetime import datetime\n",
    "\n",
    "pd.set_option('display.max_colwidth', -1)\n",
    "\n",
    "headers = [\"dates\",\"dates_int\",\"ip\", \"time\",\"cid\",\"act\", \"cat\", \"uid\", \"pid\", \"ptuple\", \"eruid\", \"oid\", \n",
    "\"keywords\", \"eturec\", \"url\", \"hostname\", \"agent\", \"paypid\", \"qty\", \"unit_price\", \"pcat\", \"pmk\", \"ercamp\", \"predn\", \n",
    "\"preurl\", \"lo\", \"ssid\", \"erad\", \"pstk\", \"ercampid\", \"eradurl\", \"eraddsc\", \"urefid\", \"acttype\", \"actstat\", \n",
    "\"utm_src\", \"utm_med\", \"utm_camp\", \"uxtime\"]\n",
    "\n",
    "start_time = datetime.now()\n",
    "\n",
    "userlog = pd.read_csv('/Users/etu/Desktop/kaggle/etmall/ec_testing.txt', sep='^', \n",
    "                      header = None, names = headers)\n",
    "\n",
    "end_time = datetime.now()\n",
    "print('Duration: {}'.format(end_time - start_time))"
   ]
  },
  {
   "cell_type": "code",
   "execution_count": 2,
   "metadata": {
    "collapsed": false
   },
   "outputs": [
    {
     "data": {
      "text/html": [
       "<div>\n",
       "<table border=\"1\" class=\"dataframe\">\n",
       "  <thead>\n",
       "    <tr style=\"text-align: right;\">\n",
       "      <th></th>\n",
       "      <th>dates</th>\n",
       "      <th>dates_int</th>\n",
       "      <th>ip</th>\n",
       "      <th>time</th>\n",
       "      <th>cid</th>\n",
       "      <th>act</th>\n",
       "      <th>cat</th>\n",
       "      <th>uid</th>\n",
       "      <th>pid</th>\n",
       "      <th>ptuple</th>\n",
       "      <th>...</th>\n",
       "      <th>ercampid</th>\n",
       "      <th>eradurl</th>\n",
       "      <th>eraddsc</th>\n",
       "      <th>urefid</th>\n",
       "      <th>acttype</th>\n",
       "      <th>actstat</th>\n",
       "      <th>utm_src</th>\n",
       "      <th>utm_med</th>\n",
       "      <th>utm_camp</th>\n",
       "      <th>uxtime</th>\n",
       "    </tr>\n",
       "  </thead>\n",
       "  <tbody>\n",
       "    <tr>\n",
       "      <th>0</th>\n",
       "      <td>2015-06-01</td>\n",
       "      <td>20150601</td>\n",
       "      <td>1.126.49.110</td>\n",
       "      <td>19:30:54</td>\n",
       "      <td>testing</td>\n",
       "      <td>view</td>\n",
       "      <td>NaN</td>\n",
       "      <td>NaN</td>\n",
       "      <td>NaN</td>\n",
       "      <td>NaN</td>\n",
       "      <td>...</td>\n",
       "      <td>NaN</td>\n",
       "      <td>NaN</td>\n",
       "      <td>NaN</td>\n",
       "      <td>NaN</td>\n",
       "      <td>NaN</td>\n",
       "      <td>NaN</td>\n",
       "      <td>AFFILIATES</td>\n",
       "      <td>CPA</td>\n",
       "      <td>2014</td>\n",
       "      <td>1433158254</td>\n",
       "    </tr>\n",
       "  </tbody>\n",
       "</table>\n",
       "<p>1 rows × 39 columns</p>\n",
       "</div>"
      ],
      "text/plain": [
       "        dates  dates_int            ip      time      cid   act  cat  uid  \\\n",
       "0  2015-06-01  20150601   1.126.49.110  19:30:54  testing  view  NaN  NaN   \n",
       "\n",
       "   pid ptuple     ...     ercampid eradurl eraddsc  urefid acttype actstat  \\\n",
       "0 NaN   NaN       ...      NaN     NaN      NaN     NaN     NaN    NaN       \n",
       "\n",
       "      utm_src utm_med utm_camp      uxtime  \n",
       "0  AFFILIATES  CPA     2014     1433158254  \n",
       "\n",
       "[1 rows x 39 columns]"
      ]
     },
     "execution_count": 2,
     "metadata": {},
     "output_type": "execute_result"
    }
   ],
   "source": [
    "userlog.head(1)"
   ]
  },
  {
   "cell_type": "code",
   "execution_count": 2,
   "metadata": {
    "collapsed": false
   },
   "outputs": [
    {
     "name": "stdout",
     "output_type": "stream",
     "text": [
      "<pyspark.sql.context.SQLContext object at 0x10c8f94d0>\n"
     ]
    }
   ],
   "source": [
    "from pyspark import SparkContext\n",
    "from pyspark.sql import *\n",
    "\n",
    "sqlContext = SQLContext(sc)\n",
    "print sqlContext"
   ]
  },
  {
   "cell_type": "code",
   "execution_count": 113,
   "metadata": {
    "collapsed": false
   },
   "outputs": [],
   "source": [
    "delete_1 = ['dates','cid', \"cid\", \"ptuple\", \"oid\", \n",
    "\"keywords\", \"eturec\", \"url\", \"hostname\", \"paypid\", \"qty\", \"unit_price\", \"pcat\", \"pmk\", \"ercamp\", \"predn\", \n",
    "\"preurl\", \"erad\", \"pstk\", \"ercampid\", \"eradurl\", \"eraddsc\", \"urefid\", \"acttype\", \"actstat\", \n",
    "\"utm_src\", \"utm_med\", \"utm_camp\", \"uxtime\"]\n",
    "\n",
    "thin_testlog = userlog.drop(delete_1, axis=1).fillna('')\n"
   ]
  },
  {
   "cell_type": "code",
   "execution_count": 115,
   "metadata": {
    "collapsed": false
   },
   "outputs": [
    {
     "data": {
      "text/html": [
       "<div>\n",
       "<table border=\"1\" class=\"dataframe\">\n",
       "  <thead>\n",
       "    <tr style=\"text-align: right;\">\n",
       "      <th></th>\n",
       "      <th>dates_int</th>\n",
       "      <th>ip</th>\n",
       "      <th>time</th>\n",
       "      <th>act</th>\n",
       "      <th>cat</th>\n",
       "      <th>uid</th>\n",
       "      <th>pid</th>\n",
       "      <th>eruid</th>\n",
       "      <th>agent</th>\n",
       "      <th>lo</th>\n",
       "      <th>ssid</th>\n",
       "    </tr>\n",
       "  </thead>\n",
       "  <tbody>\n",
       "    <tr>\n",
       "      <th>0</th>\n",
       "      <td>20150601</td>\n",
       "      <td>1.126.49.110</td>\n",
       "      <td>19:30:54</td>\n",
       "      <td>view</td>\n",
       "      <td></td>\n",
       "      <td></td>\n",
       "      <td></td>\n",
       "      <td>4e9ce2ec-3342-1e7e-68f3-c4bece6137e3</td>\n",
       "      <td>Mozilla/5.0 (iPad; CPU OS 8_1_3 like Mac OS X) AppleWebKit/600.1.4 (KHTML, like Gecko) Version/8.0 Mobile/12B466 Safari/600.1.4</td>\n",
       "      <td>0</td>\n",
       "      <td>1u5m7mrsbiabf</td>\n",
       "    </tr>\n",
       "  </tbody>\n",
       "</table>\n",
       "</div>"
      ],
      "text/plain": [
       "   dates_int            ip      time   act cat uid pid  \\\n",
       "0  20150601   1.126.49.110  19:30:54  view               \n",
       "\n",
       "                                  eruid  \\\n",
       "0  4e9ce2ec-3342-1e7e-68f3-c4bece6137e3   \n",
       "\n",
       "                                                                                                                             agent  \\\n",
       "0  Mozilla/5.0 (iPad; CPU OS 8_1_3 like Mac OS X) AppleWebKit/600.1.4 (KHTML, like Gecko) Version/8.0 Mobile/12B466 Safari/600.1.4   \n",
       "\n",
       "  lo           ssid  \n",
       "0  0  1u5m7mrsbiabf  "
      ]
     },
     "execution_count": 115,
     "metadata": {},
     "output_type": "execute_result"
    }
   ],
   "source": [
    "thin_testlog.head(1)"
   ]
  },
  {
   "cell_type": "markdown",
   "metadata": {},
   "source": [
    "###User Agent Parser\n",
    "#### To identify devices (phones, tablets) and their capabilities by parsing (browser/HTTP) user agent strings"
   ]
  },
  {
   "cell_type": "code",
   "execution_count": 112,
   "metadata": {
    "collapsed": false
   },
   "outputs": [
    {
     "name": "stdout",
     "output_type": "stream",
     "text": [
      "17\n"
     ]
    }
   ],
   "source": [
    "#a = agt_10.groupby('eruid').agent.unique()\n",
    "#b = a.add_suffix('').reset_index()\n",
    "\n"
   ]
  },
  {
   "cell_type": "code",
   "execution_count": 147,
   "metadata": {
    "collapsed": false
   },
   "outputs": [],
   "source": [
    "sqlContext.registerFunction(\"getDevice\", lambda x: parse(x).device.family)\n",
    "sqlContext.registerFunction(\"getBrowser\", lambda x: parse(x).browser.family)\n",
    "sqlContext.registerFunction(\"getOS\", lambda x: parse(x).os.family)\n",
    "\n",
    "def deviceDetect(string):\n",
    "    user_agt = parse(string)\n",
    "    if user_agt.is_mobile:\n",
    "        device = \"Mobile\"\n",
    "    elif user_agt.is_tablet:\n",
    "        device = \"Tablet\"\n",
    "    elif user_agt.is_touch_capable:\n",
    "        device = \"TouchCapable\"\n",
    "    elif user_agt.is_pc:\n",
    "        device = \"pc\"\n",
    "    elif user_agt.is_bot:\n",
    "        device = \"bot\"\n",
    "    else:\n",
    "        device = \"Others\"\n",
    "    return device\n",
    "\n",
    "sqlContext.registerFunction(\"getSDevice\", lambda x: deviceDetect(x))\n",
    " \n",
    "agent = sqlContext.sql(\"select distinct eruid, getSDevice(agent) as device, getBrowser(agent) as browser, \\\n",
    "                        getOS(agent) as OS from log\")\n",
    "\n",
    "agent.registerTempTable(\"agent\")\n",
    "#agt_10 = userlog.head(200)\n",
    "\n",
    "#agt_10.is_copy = False\n",
    "#agt_10['Browser'] = agt_10.apply(lambda row: parse(row['agent']).browser.family, axis=1)\n",
    "#agt_10['Os'] = agt_10.apply(lambda row: parse(row['agent']).os.family, axis=1)\n",
    "#agt_10['Device'] = agt_10.apply(lambda row: parse(row['agent']).device.family, axis=1)"
   ]
  },
  {
   "cell_type": "code",
   "execution_count": 138,
   "metadata": {
    "collapsed": false
   },
   "outputs": [
    {
     "name": "stdout",
     "output_type": "stream",
     "text": [
      "Android 26\n",
      "Opera 3\n",
      "QQ Browser Mobile 9\n",
      "Safari 19\n",
      "IE 336\n",
      "UC Browser 1\n",
      "QQ Browser 1\n",
      "Firefox 74\n",
      "Chrome Mobile 20\n",
      "Puffin 1\n",
      "Mobile Safari 73\n",
      "Maxthon 1\n",
      "Chrome 436\n"
     ]
    }
   ],
   "source": [
    "device = sqlContext.sql(\"select browser, count(*) as cnt from agent group by browser\")\n",
    "\n",
    "for i, v in device.collect():\n",
    "    print i, v"
   ]
  },
  {
   "cell_type": "code",
   "execution_count": 149,
   "metadata": {
    "collapsed": false
   },
   "outputs": [
    {
     "data": {
      "text/plain": [
       "<matplotlib.axes.AxesSubplot at 0x113d97d10>"
      ]
     },
     "execution_count": 149,
     "metadata": {},
     "output_type": "execute_result"
    },
    {
     "data": {
      "image/png": "[encoded data removed]",
      "text/plain": [
       "<matplotlib.figure.Figure at 0x113d9b850>"
      ]
     },
     "metadata": {},
     "output_type": "display_data"
    }
   ],
   "source": [
    "sns.countplot(x=\"device\", data=agent.toPandas(), palette=\"Greens_d\")"
   ]
  },
  {
   "cell_type": "code",
   "execution_count": 144,
   "metadata": {
    "collapsed": false
   },
   "outputs": [
    {
     "data": {
      "text/plain": [
       "<matplotlib.axes.AxesSubplot at 0x1139ecb90>"
      ]
     },
     "execution_count": 144,
     "metadata": {},
     "output_type": "execute_result"
    },
    {
     "data": {
      "image/png": "[encoded data removed]",
      "text/plain": [
       "<matplotlib.figure.Figure at 0x1139ad290>"
      ]
     },
     "metadata": {},
     "output_type": "display_data"
    }
   ],
   "source": [
    "sns.countplot(y=\"browser\", data=agent.toPandas(), palette=\"Greens_d\")"
   ]
  },
  {
   "cell_type": "code",
   "execution_count": 145,
   "metadata": {
    "collapsed": false
   },
   "outputs": [
    {
     "data": {
      "text/plain": [
       "<matplotlib.axes.AxesSubplot at 0x1139cde90>"
      ]
     },
     "execution_count": 145,
     "metadata": {},
     "output_type": "execute_result"
    },
    {
     "data": {
      "image/png": "[encoded data removed]",
      "text/plain": [
       "<matplotlib.figure.Figure at 0x113ac3fd0>"
      ]
     },
     "metadata": {},
     "output_type": "display_data"
    }
   ],
   "source": [
    "sns.countplot(y=\"OS\", data=agent.toPandas(), palette=\"Greens_d\")"
   ]
  },
  {
   "cell_type": "code",
   "execution_count": 92,
   "metadata": {
    "collapsed": false
   },
   "outputs": [
    {
     "data": {
      "text/plain": [
       "<matplotlib.axes.AxesSubplot at 0x112ba2e90>"
      ]
     },
     "execution_count": 92,
     "metadata": {},
     "output_type": "execute_result"
    },
    {
     "data": {
      "image/png": "[encoded data removed]",
      "text/plain": [
       "<matplotlib.figure.Figure at 0x112b806d0>"
      ]
     },
     "metadata": {},
     "output_type": "display_data"
    }
   ],
   "source": [
    "sns.countplot(x=\"Device\", data=agt_10.sort(\"Device\"), palette=\"Greens_d\")"
   ]
  },
  {
   "cell_type": "code",
   "execution_count": 139,
   "metadata": {
    "collapsed": false
   },
   "outputs": [
    {
     "name": "stdout",
     "output_type": "stream",
     "text": [
      "Browser:  Android\n",
      "Os Family:  Android\n",
      "Device:  Samsung GT-N7000\n",
      "Mobile?:  True\n",
      "Tablet?:  False\n",
      "Touch Capable?:  True\n",
      "PC?:  False\n",
      "Bot?:  False\n",
      "Samsung GT-N7000 / Android 4.1.2 / Android 4.1.2\n"
     ]
    }
   ],
   "source": [
    "from user_agents import parse\n",
    "user_string='Mozilla/5.0 (Linux; U; Android 4.1.2; zh-tw; GT-N7000 Build/JZO54K) AppleWebKit/534.30 (KHTML, like Gecko) Version/4.0 Mobile Safari/534'\n",
    "user_agent = parse(user_string)\n",
    "\n",
    "#u'Mobile Safari'\n",
    "print \"Browser: \", user_agent.browser.family\n",
    "#u'iOS'\n",
    "print \"Os Family: \", user_agent.os.family\n",
    "#Samsung\n",
    "print \"Device: \", user_agent.device.family\n",
    "#\n",
    "print \"Mobile?: \", user_agent.is_mobile # returns True\n",
    "print \"Tablet?: \", user_agent.is_tablet # returns False\n",
    "print \"Touch Capable?: \", user_agent.is_touch_capable # returns False\n",
    "print \"PC?: \", user_agent.is_pc # returns False\n",
    "print \"Bot?: \", user_agent.is_bot # returns False\n",
    "\n",
    "print str(user_agent)"
   ]
  },
  {
   "cell_type": "markdown",
   "metadata": {},
   "source": [
    "### Random Sampling 1000"
   ]
  },
  {
   "cell_type": "code",
   "execution_count": 116,
   "metadata": {
    "collapsed": false
   },
   "outputs": [],
   "source": [
    "import random\n",
    "import numpy as np\n",
    "from random import sample\n",
    "#thin_testlog_2w = thin_testlog.loc[sample(thin_testlog.index, 20000)]\n",
    "\n",
    "#2M\n",
    "eruid_1000 = np.random.choice(thin_testlog.eruid.unique(), 1000) \n",
    "\n",
    "##Remove useless userlog\n",
    "fit_userlog = thin_testlog[thin_testlog['eruid'].isin(eruid_1000)]"
   ]
  },
  {
   "cell_type": "code",
   "execution_count": 117,
   "metadata": {
    "collapsed": false
   },
   "outputs": [
    {
     "data": {
      "text/plain": [
       "991"
      ]
     },
     "execution_count": 117,
     "metadata": {},
     "output_type": "execute_result"
    }
   ],
   "source": [
    "fit_userlog['eruid'].nunique() #991 2.7M 8437rows"
   ]
  },
  {
   "cell_type": "code",
   "execution_count": 118,
   "metadata": {
    "collapsed": false
   },
   "outputs": [],
   "source": [
    "#export small json file for testing\n",
    "t100 = fit_userlog\n",
    "d = [ \n",
    "    dict([\n",
    "        (colname, row[i]) \n",
    "        for i, colname in enumerate(t100.columns)\n",
    "    ])\n",
    "    for row in t100.values\n",
    "]"
   ]
  },
  {
   "cell_type": "code",
   "execution_count": 119,
   "metadata": {
    "collapsed": false
   },
   "outputs": [],
   "source": [
    "import json\n",
    "\n",
    "output='/Users/etu/Desktop/kaggle/etmall/file3.json'\n",
    "\n",
    "with open(output, 'w') as fp:\n",
    "    json.dump(d, fp)\n",
    "    #json.dump(d, fp, sort_keys = True, indent = 4, ensure_ascii=False) #can't use for sqlcontext"
   ]
  },
  {
   "cell_type": "code",
   "execution_count": 50,
   "metadata": {
    "collapsed": false
   },
   "outputs": [
    {
     "name": "stdout",
     "output_type": "stream",
     "text": [
      "dates dates_int ip time cid act cat uid pid ptuple eruid oid keywords eturec url hostname agent paypid qty unit_price pcat pmk ercamp predn preurl lo ssid erad pstk ercampid eradurl eraddsc urefid acttype actstat utm_src utm_med utm_camp uxtime\n"
     ]
    }
   ],
   "source": [
    "#DSchema = list(thin_testlog.columns)\n",
    "DSchema = \" \".join(headers)\n",
    "print DSchema"
   ]
  },
  {
   "cell_type": "code",
   "execution_count": 120,
   "metadata": {
    "collapsed": false
   },
   "outputs": [
    {
     "name": "stdout",
     "output_type": "stream",
     "text": [
      "Duration: 0:00:00.260921\n"
     ]
    }
   ],
   "source": [
    "output='/Users/etu/Desktop/kaggle/etmall/file3.json'\n",
    "\n",
    "start_time = datetime.now()\n",
    "\n",
    "#inputFile = output\n",
    "log = sqlContext.jsonFile(output)\n",
    "\n",
    "end_time = datetime.now()\n",
    "print('Duration: {}'.format(end_time - start_time))"
   ]
  },
  {
   "cell_type": "code",
   "execution_count": 121,
   "metadata": {
    "collapsed": false
   },
   "outputs": [
    {
     "name": "stdout",
     "output_type": "stream",
     "text": [
      "root\n",
      " |-- act: string (nullable = true)\n",
      " |-- agent: string (nullable = true)\n",
      " |-- cat: string (nullable = true)\n",
      " |-- dates_int: long (nullable = true)\n",
      " |-- eruid: string (nullable = true)\n",
      " |-- ip: string (nullable = true)\n",
      " |-- lo: double (nullable = true)\n",
      " |-- pid: double (nullable = true)\n",
      " |-- ssid: string (nullable = true)\n",
      " |-- time: string (nullable = true)\n",
      " |-- uid: string (nullable = true)\n",
      "\n"
     ]
    }
   ],
   "source": [
    "log.printSchema()"
   ]
  },
  {
   "cell_type": "code",
   "execution_count": 122,
   "metadata": {
    "collapsed": false
   },
   "outputs": [
    {
     "data": {
      "text/plain": [
       "[Row(c0=8437)]"
      ]
     },
     "execution_count": 122,
     "metadata": {},
     "output_type": "execute_result"
    }
   ],
   "source": [
    "#[Row(act=u'view', cat=u'', dates_int=20150601, eruid=u'4e9ce2ec-3342-1e7e-68f3-c4bece6137e3', \n",
    "#ip=u'1.126.49.110', lo=0.0, pid=None, ssid=u'1u5m7mrsbiabf', time=u'19:30:54', uid=u'')]\n",
    "file_cnt = sqlContext.sql(\"SELECT count(*) FROM log\")\n",
    "file_cnt.take(1)"
   ]
  },
  {
   "cell_type": "code",
   "execution_count": 123,
   "metadata": {
    "collapsed": false
   },
   "outputs": [
    {
     "name": "stdout",
     "output_type": "stream",
     "text": [
      "eruid                ssid_cnt cat_cnt ip_cnt item_cnt item_uniq_cnt uid_cnt\n",
      "46cc4ee0-df08-634... 1        3       1      0        0             1      \n",
      "5bfc75e8-32fe-7d9... 1        10      1      10       9             1      \n",
      "3bfb6aeb-c0c4-841... 1        6       1      3        3             2      \n",
      "561f12ea-cf44-a88... 11       7       1      2        2             1      \n",
      "1cb379dc-8c6d-465... 1        2       1      0        0             1      \n",
      "19478593-e35b-69d... 1        3       1      2        1             1      \n",
      "f717370-47b0-add9... 1        1       1      1        1             1      \n",
      "488913f-a15a-707c... 1        1       1      0        0             1      \n",
      "4437127a-9620-7a4... 1        7       1      8        7             1      \n",
      "9768b6c0-a146-ba6... 1        2       1      1        1             1      \n",
      "41bfea24-d070-20a... 1        13      1      11       7             2      \n",
      "a62228f0-65d2-bd4... 1        3       1      0        0             1      \n",
      "2d7b5535-2749-eec... 1        1       1      0        0             1      \n",
      "b96114fd-f75a-494... 1        1       1      0        0             1      \n",
      "e9fae7c8-884e-254... 1        3       1      0        0             2      \n",
      "efcc786a-d867-d24... 1        1       1      0        0             1      \n",
      "bfdcbe93-49f2-266... 1        1       1      1        1             1      \n",
      "fedb9c14-ceb5-7ab... 1        3       1      6        3             1      \n",
      "118f10bd-c4d6-196... 13       5       1      3        3             1      \n",
      "c668df80-3f95-4d8... 1        2       1      2        1             1      \n"
     ]
    }
   ],
   "source": [
    "log.registerTempTable(\"log\")\n",
    "sqlContext.registerFunction(\"lengthSQL\", lambda x: len(x.split(\",\")))\n",
    "sqlContext.registerFunction(\"getHour\", lambda x: int(x.split(\":\")[0]))\n",
    "\n",
    "count = sqlContext.sql(\"select distinct(getHour(time)) as hours , eruid from log\")\n",
    "\n",
    "count = sqlContext.sql(\"SELECT eruid, \\\n",
    "                        count(distinct ssid) AS ssid_cnt, \\\n",
    "                        count(distinct cat) AS cat_cnt, \\\n",
    "                        count(distinct ip) AS ip_cnt, \\\n",
    "                        count(pid) AS item_cnt, \\\n",
    "                        count(distinct pid) AS item_uniq_cnt, \\\n",
    "                        count(distinct uid) AS uid_cnt \\\n",
    "                        FROM log \\\n",
    "                        GROUP BY eruid\")\n",
    "\n",
    "count.show()\n",
    "#for i, v in count.map(lambda p: (p[0], p[1])).collect():\n",
    "#    print i, v"
   ]
  },
  {
   "cell_type": "markdown",
   "metadata": {},
   "source": [
    "###Scatter Plot"
   ]
  },
  {
   "cell_type": "code",
   "execution_count": 124,
   "metadata": {
    "collapsed": false
   },
   "outputs": [
    {
     "data": {
      "text/plain": [
       "<seaborn.axisgrid.JointGrid at 0x112a2e290>"
      ]
     },
     "execution_count": 124,
     "metadata": {},
     "output_type": "execute_result"
    },
    {
     "data": {
      "image/png": "[encoded data removed]",
      "text/plain": [
       "<matplotlib.figure.Figure at 0x112ba2790>"
      ]
     },
     "metadata": {},
     "output_type": "display_data"
    }
   ],
   "source": [
    "%matplotlib inline\n",
    "import matplotlib as mpl\n",
    "import matplotlib.pyplot as plt\n",
    "\n",
    "import seaborn as sns\n",
    "from scipy import stats, integrate\n",
    "\n",
    "sns.set(color_codes=True)\n",
    "\n",
    "sns.jointplot(x=\"cat_cnt\", y=\"item_cnt\", data=count.toPandas());\n",
    "#count.toPandas()"
   ]
  },
  {
   "cell_type": "code",
   "execution_count": 125,
   "metadata": {
    "collapsed": false
   },
   "outputs": [
    {
     "data": {
      "image/png": "[encoded data removed]",
      "text/plain": [
       "<matplotlib.figure.Figure at 0x10ebaa190>"
      ]
     },
     "metadata": {},
     "output_type": "display_data"
    }
   ],
   "source": [
    "sns.jointplot(x=\"ssid_cnt\", y=\"ip_cnt\", data=count.toPandas());"
   ]
  },
  {
   "cell_type": "markdown",
   "metadata": {},
   "source": [
    "###Linear Regression Plot"
   ]
  },
  {
   "cell_type": "code",
   "execution_count": 126,
   "metadata": {
    "collapsed": false
   },
   "outputs": [
    {
     "data": {
      "image/png": "[encoded data removed]",
      "text/plain": [
       "<matplotlib.figure.Figure at 0x113211090>"
      ]
     },
     "metadata": {},
     "output_type": "display_data"
    }
   ],
   "source": [
    "sns.regplot(x=\"cat_cnt\", y=\"item_cnt\", data=count.toPandas());"
   ]
  },
  {
   "cell_type": "markdown",
   "metadata": {},
   "source": [
    "###Univariate Plot"
   ]
  },
  {
   "cell_type": "code",
   "execution_count": 127,
   "metadata": {
    "collapsed": false
   },
   "outputs": [
    {
     "data": {
      "image/png": "[encoded data removed]",
      "text/plain": [
       "<matplotlib.figure.Figure at 0x112ee0b10>"
      ]
     },
     "metadata": {},
     "output_type": "display_data"
    }
   ],
   "source": [
    "sns.distplot(count.toPandas().ip_cnt);"
   ]
  },
  {
   "cell_type": "code",
   "execution_count": 15,
   "metadata": {
    "collapsed": false
   },
   "outputs": [
    {
     "name": "stdout",
     "output_type": "stream",
     "text": [
      "eruid                PM08 PM09 PM10 PM11 AM00 AM01 AM02 AM03 AM04 AM05 AM06 AM07 AM08 AM09 AM10 AM11 AM12 PM01 PM02 PM03 PM04 PM05 PM06 PM07\n",
      "b16ac608-727f-d25... 0    0    0    0    0    0    0    0    0    0    0    0    1    0    0    0    0    0    0    0    0    0    0    0   \n",
      "b2135ffb-ad6b-472... 0    0    0    0    0    0    0    0    0    0    0    0    0    0    0    0    0    0    0    0    1    0    0    0   \n",
      "84779434-ac9-c124... 0    0    0    0    0    0    0    0    0    0    0    0    0    0    0    14   0    0    0    0    0    0    0    0   \n",
      "bc2bd9a2-360-ef20... 0    0    0    0    0    1    0    0    0    0    0    0    0    0    0    0    0    0    0    0    0    0    0    0   \n",
      "abefcfd7-2411-7fe... 0    0    0    15   0    0    0    0    0    0    0    0    0    0    0    0    0    0    0    0    0    0    0    0   \n",
      "e377490a-5ce0-3c5... 0    0    0    0    1    0    0    0    0    0    0    0    0    0    0    0    0    0    0    0    0    0    0    0   \n",
      "f76bc891-185f-aa0... 0    0    0    0    0    0    0    0    0    0    0    0    0    0    0    0    0    0    0    0    0    1    0    0   \n",
      "d559dcb9-5cb4-597... 0    0    0    0    0    0    0    0    0    0    0    0    4    0    0    0    0    0    0    0    0    0    0    0   \n",
      "946c95dc-5c77-702... 0    0    0    0    0    0    0    0    0    0    0    0    0    0    0    0    0    0    0    0    4    0    0    0   \n",
      "289bc96-d26-3e36-... 0    0    0    0    0    0    0    0    0    0    0    0    0    0    0    0    0    0    0    0    0    0    0    4   \n",
      "b96114fd-f75a-494... 0    0    0    0    1    0    0    0    0    0    0    0    0    0    0    0    0    0    0    0    0    0    0    0   \n",
      "dde1742a-de74-d18... 0    0    0    5    0    0    0    0    0    0    0    0    0    0    0    0    0    0    0    0    0    0    0    0   \n",
      "ae0cfb8b-b595-309... 0    0    0    3    0    0    0    0    0    0    0    0    0    0    0    0    0    0    0    0    0    0    0    0   \n",
      "162a8f9-cd7d-f11d... 0    0    0    0    0    0    0    0    0    0    0    0    0    0    0    0    0    0    0    1    0    0    0    0   \n",
      "fa06dd9-d294-f4b4... 0    0    0    0    0    0    0    0    0    0    0    0    0    0    0    0    2    0    0    0    0    0    0    0   \n",
      "118f10bd-c4d6-196... 0    0    0    0    0    0    0    0    0    0    0    0    0    0    0    0    0    0    0    0    0    13   0    0   \n",
      "fe09d498-cb9b-618... 0    0    0    0    0    0    0    0    0    0    0    0    0    0    0    0    0    0    0    0    7    0    0    0   \n",
      "fef23a1-d3d2-9d8c... 0    0    0    0    0    0    0    0    0    0    0    0    0    0    0    0    0    0    0    0    0    34   0    0   \n",
      "e9d757b9-87d3-26c... 7    0    0    0    0    0    0    0    0    0    6    0    0    0    0    0    0    0    0    0    0    0    0    0   \n",
      "8f85304-6388-ea77... 0    0    0    0    0    0    0    0    0    0    0    0    0    0    0    0    0    0    0    15   0    0    0    0   \n",
      "Duration: 0:04:40.076646\n"
     ]
    }
   ],
   "source": [
    "#from pyspark.sql import HiveContext, Row\n",
    "#sqlContext = SQLContext(sc) #HiveContext(sc)\n",
    "sqlContext.registerFunction(\"getHour\", lambda x: int(x.split(\":\")[0]))\n",
    "\n",
    "start_time = datetime.now()\n",
    "\n",
    "hours = sqlContext.sql(\"select eruid, hours, count(hours) as hr_cnt \\\n",
    "                        from (select eruid, getHour(time) as hours from log) as x\\\n",
    "                        group by eruid, hours\")\n",
    "\n",
    "hours.registerTempTable(\"hours\")\n",
    "#case when is ok ha~\n",
    "tb_PM8 = sqlContext.sql(\"select x.eruid, case when y.hr_cnt is null then 0 else y.hr_cnt END AS PM08 \\\n",
    "                         from (select distinct eruid from hours) as x \\\n",
    "                         left join (select eruid, hr_cnt from hours where hours = 20) as y \\\n",
    "                         on x.eruid = y.eruid \")\n",
    "\n",
    "tb_PM8.registerTempTable(\"tb_PM8\")\n",
    "tb_PM9 = sqlContext.sql(\"select x.eruid, x.PM08, case when y.hr_cnt is null then 0 else y.hr_cnt END AS PM09\\\n",
    "                         from tb_PM8 as x\\\n",
    "                         left join (select eruid, hr_cnt from hours where hours = 21) as y \\\n",
    "                         on x.eruid = y.eruid\")\n",
    "\n",
    "tb_PM9.registerTempTable(\"tb_PM9\")\n",
    "tb_PM10 = sqlContext.sql(\"select x.eruid, x.PM08, x.PM09, case when y.hr_cnt is null then 0 else y.hr_cnt END AS PM10\\\n",
    "                         from tb_PM9 as x\\\n",
    "                         left join (select eruid, hr_cnt from hours where hours = 22) as y \\\n",
    "                         on x.eruid = y.eruid\")\n",
    "\n",
    "tb_PM10.registerTempTable(\"tb_PM10\")\n",
    "tb_PM11 = sqlContext.sql(\"select x.eruid, x.PM08, x.PM09, x.PM10, \\\n",
    "                         case when y.hr_cnt is null then 0 else y.hr_cnt END AS PM11\\\n",
    "                         from tb_PM10 as x\\\n",
    "                         left join (select eruid, hr_cnt from hours where hours = 23) as y \\\n",
    "                         on x.eruid = y.eruid\")\n",
    "\n",
    "tb_PM11.registerTempTable(\"tb_PM11\")\n",
    "tb_PM12 = sqlContext.sql(\"select x.eruid, x.PM08, x.PM09, x.PM10, x.PM11, \\\n",
    "                         case when y.hr_cnt is null then 0 else y.hr_cnt END AS AM00\\\n",
    "                         from tb_PM11 as x\\\n",
    "                         left join (select eruid, hr_cnt from hours where hours = 0) as y \\\n",
    "                         on x.eruid = y.eruid\")\n",
    "\n",
    "tb_PM12.registerTempTable(\"tb_PM12\")\n",
    "tb_AM01 = sqlContext.sql(\"select x.eruid, x.PM08, x.PM09, x.PM10, x.PM11, x.AM00, \\\n",
    "                         case when y.hr_cnt is null then 0 else y.hr_cnt END AS AM01\\\n",
    "                         from tb_PM12 as x\\\n",
    "                         left join (select eruid, hr_cnt from hours where hours = 1) as y \\\n",
    "                         on x.eruid = y.eruid\")\n",
    "\n",
    "tb_AM01.registerTempTable(\"tb_AM01\")\n",
    "tb_AM02 = sqlContext.sql(\"select x.eruid, x.PM08, x.PM09, x.PM10, x.PM11, x.AM00 , x.AM01,\\\n",
    "                         case when y.hr_cnt is null then 0 else y.hr_cnt END AS AM02\\\n",
    "                         from tb_AM01 as x\\\n",
    "                         left join (select eruid, hr_cnt from hours where hours = 2) as y \\\n",
    "                         on x.eruid = y.eruid\")\n",
    "\n",
    "tb_AM02.registerTempTable(\"tb_AM02\")\n",
    "tb_AM03 = sqlContext.sql(\"select x.eruid, x.PM08, x.PM09, x.PM10, x.PM11, x.AM00, x.AM01, x.AM02,\\\n",
    "                         case when y.hr_cnt is null then 0 else y.hr_cnt END AS AM03\\\n",
    "                         from tb_AM02 as x\\\n",
    "                         left join (select eruid, hr_cnt from hours where hours = 3) as y \\\n",
    "                         on x.eruid = y.eruid\")\n",
    "\n",
    "tb_AM03.registerTempTable(\"tb_AM03\")\n",
    "tb_AM04 = sqlContext.sql(\"select x.eruid, x.PM08, x.PM09, x.PM10, x.PM11, x.AM00, x.AM01, x.AM02, x.AM03,\\\n",
    "                         case when y.hr_cnt is null then 0 else y.hr_cnt END AS AM04\\\n",
    "                         from tb_AM03 as x\\\n",
    "                         left join (select eruid, hr_cnt from hours where hours = 4) as y \\\n",
    "                         on x.eruid = y.eruid\")\n",
    "\n",
    "tb_AM04.registerTempTable(\"tb_AM04\")\n",
    "tb_AM05 = sqlContext.sql(\"select x.eruid, x.PM08, x.PM09, x.PM10, x.PM11, x.AM00, x.AM01, x.AM02, x.AM03, x.AM04,\\\n",
    "                         case when y.hr_cnt is null then 0 else y.hr_cnt END AS AM05\\\n",
    "                         from tb_AM04 as x\\\n",
    "                         left join (select eruid, hr_cnt from hours where hours = 5) as y \\\n",
    "                         on x.eruid = y.eruid\")\n",
    "\n",
    "tb_AM05.registerTempTable(\"tb_AM05\")\n",
    "tb_AM06 = sqlContext.sql(\"select x.eruid, x.PM08, x.PM09, x.PM10, x.PM11, x.AM00, x.AM01, x.AM02, x.AM03, x.AM04\\\n",
    "                         , x.AM05,\\\n",
    "                         case when y.hr_cnt is null then 0 else y.hr_cnt END AS AM06\\\n",
    "                         from tb_AM05 as x\\\n",
    "                         left join (select eruid, hr_cnt from hours where hours = 6) as y \\\n",
    "                         on x.eruid = y.eruid\")\n",
    "\n",
    "tb_AM06.registerTempTable(\"tb_AM06\")\n",
    "tb_AM07 = sqlContext.sql(\"select x.eruid, x.PM08, x.PM09, x.PM10, x.PM11, x.AM00, x.AM01, x.AM02, x.AM03, x.AM04\\\n",
    "                         , x.AM05, x.AM06,\\\n",
    "                         case when y.hr_cnt is null then 0 else y.hr_cnt END AS AM07\\\n",
    "                         from tb_AM06 as x\\\n",
    "                         left join (select eruid, hr_cnt from hours where hours = 7) as y \\\n",
    "                         on x.eruid = y.eruid\")\n",
    "\n",
    "tb_AM07.registerTempTable(\"tb_AM07\")\n",
    "tb_AM08 = sqlContext.sql(\"select x.eruid, x.PM08, x.PM09, x.PM10, x.PM11, x.AM00, x.AM01, x.AM02, x.AM03, x.AM04\\\n",
    "                         , x.AM05, x.AM06, x.AM07,\\\n",
    "                         case when y.hr_cnt is null then 0 else y.hr_cnt END AS AM08\\\n",
    "                         from tb_AM07 as x\\\n",
    "                         left join (select eruid, hr_cnt from hours where hours = 8) as y \\\n",
    "                         on x.eruid = y.eruid\")\n",
    "\n",
    "tb_AM08.registerTempTable(\"tb_AM08\")\n",
    "tb_AM09 = sqlContext.sql(\"select x.eruid, x.PM08, x.PM09, x.PM10, x.PM11, x.AM00, x.AM01, x.AM02, x.AM03, x.AM04\\\n",
    "                         , x.AM05, x.AM06, x.AM07, x.AM08,\\\n",
    "                         case when y.hr_cnt is null then 0 else y.hr_cnt END AS AM09\\\n",
    "                         from tb_AM08 as x\\\n",
    "                         left join (select eruid, hr_cnt from hours where hours = 9) as y \\\n",
    "                         on x.eruid = y.eruid\")\n",
    "\n",
    "tb_AM09.registerTempTable(\"tb_AM09\")\n",
    "tb_AM10 = sqlContext.sql(\"select x.eruid, x.PM08, x.PM09, x.PM10, x.PM11, x.AM00, x.AM01, x.AM02, x.AM03, x.AM04\\\n",
    "                         , x.AM05, x.AM06, x.AM07, x.AM08, x.AM09,\\\n",
    "                         case when y.hr_cnt is null then 0 else y.hr_cnt END AS AM10\\\n",
    "                         from tb_AM09 as x\\\n",
    "                         left join (select eruid, hr_cnt from hours where hours = 10) as y \\\n",
    "                         on x.eruid = y.eruid\")\n",
    "tb_AM10.registerTempTable(\"tb_AM10\")\n",
    "tb_AM11 = sqlContext.sql(\"select x.eruid, x.PM08, x.PM09, x.PM10, x.PM11, x.AM00, x.AM01, x.AM02, x.AM03, x.AM04\\\n",
    "                         , x.AM05, x.AM06, x.AM07, x.AM08, x.AM09, x.AM10,\\\n",
    "                         case when y.hr_cnt is null then 0 else y.hr_cnt END AS AM11\\\n",
    "                         from tb_AM10 as x\\\n",
    "                         left join (select eruid, hr_cnt from hours where hours = 11) as y \\\n",
    "                         on x.eruid = y.eruid\")\n",
    "tb_AM11.registerTempTable(\"tb_AM11\")\n",
    "tb_AM12 = sqlContext.sql(\"select x.eruid, x.PM08, x.PM09, x.PM10, x.PM11, x.AM00, x.AM01, x.AM02, x.AM03, x.AM04\\\n",
    "                         , x.AM05, x.AM06, x.AM07, x.AM08, x.AM09, x.AM10, x.AM11,\\\n",
    "                         case when y.hr_cnt is null then 0 else y.hr_cnt END AS AM12\\\n",
    "                         from tb_AM11 as x\\\n",
    "                         left join (select eruid, hr_cnt from hours where hours = 12) as y \\\n",
    "                         on x.eruid = y.eruid\")\n",
    "tb_AM12.registerTempTable(\"tb_AM12\")\n",
    "tb_AM13 = sqlContext.sql(\"select x.eruid, x.PM08, x.PM09, x.PM10, x.PM11, x.AM00, x.AM01, x.AM02, x.AM03, x.AM04\\\n",
    "                         , x.AM05, x.AM06, x.AM07, x.AM08, x.AM09, x.AM10, x.AM11, x.AM12,\\\n",
    "                         case when y.hr_cnt is null then 0 else y.hr_cnt END AS PM01\\\n",
    "                         from tb_AM12 as x\\\n",
    "                         left join (select eruid, hr_cnt from hours where hours = 13) as y \\\n",
    "                         on x.eruid = y.eruid\")\n",
    "tb_AM13.registerTempTable(\"tb_AM13\")\n",
    "tb_AM14 = sqlContext.sql(\"select x.eruid, x.PM08, x.PM09, x.PM10, x.PM11, x.AM00, x.AM01, x.AM02, x.AM03, x.AM04\\\n",
    "                         , x.AM05, x.AM06, x.AM07, x.AM08, x.AM09, x.AM10, x.AM11, x.AM12, x.PM01,\\\n",
    "                         case when y.hr_cnt is null then 0 else y.hr_cnt END AS PM02\\\n",
    "                         from tb_AM13 as x\\\n",
    "                         left join (select eruid, hr_cnt from hours where hours = 14) as y \\\n",
    "                         on x.eruid = y.eruid\")\n",
    "tb_AM14.registerTempTable(\"tb_AM14\")\n",
    "tb_AM15 = sqlContext.sql(\"select x.eruid, x.PM08, x.PM09, x.PM10, x.PM11, x.AM00, x.AM01, x.AM02, x.AM03, x.AM04\\\n",
    "                         , x.AM05, x.AM06, x.AM07, x.AM08, x.AM09, x.AM10, x.AM11, x.AM12, x.PM01, x.PM02,\\\n",
    "                         case when y.hr_cnt is null then 0 else y.hr_cnt END AS PM03\\\n",
    "                         from tb_AM14 as x\\\n",
    "                         left join (select eruid, hr_cnt from hours where hours = 15) as y \\\n",
    "                         on x.eruid = y.eruid\")\n",
    "tb_AM15.registerTempTable(\"tb_AM15\")\n",
    "tb_AM16 = sqlContext.sql(\"select x.eruid, x.PM08, x.PM09, x.PM10, x.PM11, x.AM00, x.AM01, x.AM02, x.AM03, x.AM04\\\n",
    "                         , x.AM05, x.AM06, x.AM07, x.AM08, x.AM09, x.AM10, x.AM11, x.AM12, x.PM01, x.PM02, x.PM03,\\\n",
    "                         case when y.hr_cnt is null then 0 else y.hr_cnt END AS PM04\\\n",
    "                         from tb_AM15 as x\\\n",
    "                         left join (select eruid, hr_cnt from hours where hours = 16) as y \\\n",
    "                         on x.eruid = y.eruid\")\n",
    "tb_AM16.registerTempTable(\"tb_AM16\")\n",
    "tb_AM17 = sqlContext.sql(\"select x.eruid, x.PM08, x.PM09, x.PM10, x.PM11, x.AM00, x.AM01, x.AM02, x.AM03, x.AM04\\\n",
    "                         , x.AM05, x.AM06, x.AM07, x.AM08, x.AM09, x.AM10, x.AM11, x.AM12, x.PM01, x.PM02, x.PM03\\\n",
    "                         , x.PM04,\\\n",
    "                         case when y.hr_cnt is null then 0 else y.hr_cnt END AS PM05\\\n",
    "                         from tb_AM16 as x\\\n",
    "                         left join (select eruid, hr_cnt from hours where hours = 17) as y \\\n",
    "                         on x.eruid = y.eruid\")\n",
    "tb_AM17.registerTempTable(\"tb_AM17\")\n",
    "tb_AM18 = sqlContext.sql(\"select x.eruid, x.PM08, x.PM09, x.PM10, x.PM11, x.AM00, x.AM01, x.AM02, x.AM03, x.AM04\\\n",
    "                         , x.AM05, x.AM06, x.AM07, x.AM08, x.AM09, x.AM10, x.AM11, x.AM12, x.PM01, x.PM02, x.PM03\\\n",
    "                         , x.PM04, x.PM05,\\\n",
    "                         case when y.hr_cnt is null then 0 else y.hr_cnt END AS PM06\\\n",
    "                         from tb_AM17 as x\\\n",
    "                         left join (select eruid, hr_cnt from hours where hours = 18) as y \\\n",
    "                         on x.eruid = y.eruid\")\n",
    "tb_AM18.registerTempTable(\"tb_AM18\")\n",
    "time_tbl = sqlContext.sql(\"select x.eruid, x.PM08, x.PM09, x.PM10, x.PM11, x.AM00, x.AM01, x.AM02, x.AM03, x.AM04\\\n",
    "                         , x.AM05, x.AM06, x.AM07, x.AM08, x.AM09, x.AM10, x.AM11, x.AM12, x.PM01, x.PM02, x.PM03\\\n",
    "                         , x.PM04, x.PM05, x.PM06,\\\n",
    "                         case when y.hr_cnt is null then 0 else y.hr_cnt END AS PM07\\\n",
    "                         from tb_AM18 as x\\\n",
    "                         left join (select eruid, hr_cnt from hours where hours = 19) as y \\\n",
    "                         on x.eruid = y.eruid\")\n",
    "\n",
    "#join1 = tb_PM8.join(tb_PM9, tb_PM8.eruid == tb_PM9.eruid, 'left').select(tb_PM8.eruid, tb_PM8.PM8, tb_PM9.PM9)\n",
    "\n",
    "#cost 54s\n",
    "time_tbl.show()\n",
    "#map((lambda (x,y): (x, list(y))), sorted(hours.map(lambda x: (x[0], x[1])).groupByKey().collect()))\n",
    "#hours.map(lambda x: (x[0], int(x[1]))).reduceByKey(add).collect()\n",
    "end_time = datetime.now()\n",
    "print('Duration: {}'.format(end_time - start_time))"
   ]
  },
  {
   "cell_type": "code",
   "execution_count": 17,
   "metadata": {
    "collapsed": false
   },
   "outputs": [
    {
     "name": "stdout",
     "output_type": "stream",
     "text": [
      "root\n",
      " |-- eruid: string (nullable = true)\n",
      " |-- PM08: long (nullable = true)\n",
      " |-- PM09: long (nullable = true)\n",
      " |-- PM10: long (nullable = true)\n",
      " |-- PM11: long (nullable = true)\n",
      " |-- AM00: long (nullable = true)\n",
      " |-- AM01: long (nullable = true)\n",
      " |-- AM02: long (nullable = true)\n",
      " |-- AM03: long (nullable = true)\n",
      " |-- AM04: long (nullable = true)\n",
      " |-- AM05: long (nullable = true)\n",
      " |-- AM06: long (nullable = true)\n",
      " |-- AM07: long (nullable = true)\n",
      " |-- AM08: long (nullable = true)\n",
      " |-- AM09: long (nullable = true)\n",
      " |-- AM10: long (nullable = true)\n",
      " |-- AM11: long (nullable = true)\n",
      " |-- AM12: long (nullable = true)\n",
      " |-- PM01: long (nullable = true)\n",
      " |-- PM02: long (nullable = true)\n",
      " |-- PM03: long (nullable = true)\n",
      " |-- PM04: long (nullable = true)\n",
      " |-- PM05: long (nullable = true)\n",
      " |-- PM06: long (nullable = true)\n",
      " |-- PM07: long (nullable = true)\n",
      "\n"
     ]
    }
   ],
   "source": [
    "time_tbl.printSchema()"
   ]
  },
  {
   "cell_type": "code",
   "execution_count": 128,
   "metadata": {
    "collapsed": false
   },
   "outputs": [
    {
     "name": "stdout",
     "output_type": "stream",
     "text": [
      "root\n",
      " |-- eruid: string (nullable = true)\n",
      " |-- hours: long (nullable = true)\n",
      " |-- hr_cnt: long (nullable = true)\n",
      "\n"
     ]
    }
   ],
   "source": [
    "new_type = hours.map(lambda p: Row(eruid =p[0], hours =int(p[1]), hr_cnt=int(p[2])))\n",
    "new_type = sqlContext.inferSchema(new_type)\n",
    "new_type.printSchema()"
   ]
  },
  {
   "cell_type": "code",
   "execution_count": 129,
   "metadata": {
    "collapsed": false
   },
   "outputs": [
    {
     "data": {
      "text/plain": [
       "<matplotlib.axes.AxesSubplot at 0x10eb75810>"
      ]
     },
     "execution_count": 129,
     "metadata": {},
     "output_type": "execute_result"
    },
    {
     "data": {
      "image/png": "[encoded data removed]",
      "text/plain": [
       "<matplotlib.figure.Figure at 0x10ed23c90>"
      ]
     },
     "metadata": {},
     "output_type": "display_data"
    }
   ],
   "source": [
    "sns.countplot(x=\"hours\", data=new_type.toPandas().sort(\"hours\"), palette=\"Greens_d\")"
   ]
  },
  {
   "cell_type": "code",
   "execution_count": 30,
   "metadata": {
    "collapsed": false
   },
   "outputs": [
    {
     "data": {
      "text/html": [
       "<div>\n",
       "<table border=\"1\" class=\"dataframe\">\n",
       "  <thead>\n",
       "    <tr style=\"text-align: right;\">\n",
       "      <th></th>\n",
       "      <th>total_bill</th>\n",
       "      <th>tip</th>\n",
       "      <th>sex</th>\n",
       "      <th>smoker</th>\n",
       "      <th>day</th>\n",
       "      <th>time</th>\n",
       "      <th>size</th>\n",
       "    </tr>\n",
       "  </thead>\n",
       "  <tbody>\n",
       "    <tr>\n",
       "      <th>0</th>\n",
       "      <td>16.99</td>\n",
       "      <td>1.01</td>\n",
       "      <td>Female</td>\n",
       "      <td>No</td>\n",
       "      <td>Sun</td>\n",
       "      <td>Dinner</td>\n",
       "      <td>2</td>\n",
       "    </tr>\n",
       "  </tbody>\n",
       "</table>\n",
       "</div>"
      ],
      "text/plain": [
       "   total_bill   tip     sex smoker  day    time  size\n",
       "0  16.99       1.01  Female  No     Sun  Dinner  2   "
      ]
     },
     "execution_count": 30,
     "metadata": {},
     "output_type": "execute_result"
    }
   ],
   "source": [
    "import seaborn as sns\n",
    "sns.set(style=\"whitegrid\", color_codes=True)\n",
    "tips = sns.load_dataset(\"tips\")\n",
    "tips.head(1)\n",
    "#sns.stripplot(x=\"hours\", y=\"hr_cnt\", data=tips)\n",
    "#hours.take(1) #hours.toPandas()"
   ]
  },
  {
   "cell_type": "code",
   "execution_count": 34,
   "metadata": {
    "collapsed": false
   },
   "outputs": [
    {
     "data": {
      "image/png": "[encoded data removed]",
      "text/plain": [
       "<matplotlib.figure.Figure at 0x116d8db90>"
      ]
     },
     "metadata": {},
     "output_type": "display_data"
    }
   ],
   "source": [
    "sns.barplot(x=\"day\", y=\"total_bill\", hue=\"sex\", data=tips);\n",
    "\n",
    "#sns.barplot(x=\"sex\", y=\"survived\", hue=\"class\", data=titanic);"
   ]
  },
  {
   "cell_type": "code",
   "execution_count": 72,
   "metadata": {
    "collapsed": false
   },
   "outputs": [
    {
     "data": {
      "text/plain": [
       "PythonRDD[615] at RDD at PythonRDD.scala:42"
      ]
     },
     "execution_count": 72,
     "metadata": {},
     "output_type": "execute_result"
    }
   ],
   "source": [
    "def col2row(record):\n",
    "    for key in record[1].split(','):\n",
    "        yield record[0], key\n",
    "        \n",
    "cat_log = sqlContext.sql(\"select eruid, cat as cat1 from log where cat <> ''\") \n",
    "\n",
    "cat_2row = cat_log.map(lambda x: (x[0], x[1])).flatMap(col2row)\n",
    "cat_2row"
   ]
  },
  {
   "cell_type": "code",
   "execution_count": 19,
   "metadata": {
    "collapsed": false
   },
   "outputs": [
    {
     "data": {
      "text/html": [
       "<div>\n",
       "<table border=\"1\" class=\"dataframe\">\n",
       "  <thead>\n",
       "    <tr style=\"text-align: right;\">\n",
       "      <th></th>\n",
       "      <th>act</th>\n",
       "      <th>c1</th>\n",
       "    </tr>\n",
       "  </thead>\n",
       "  <tbody>\n",
       "    <tr>\n",
       "      <th>0</th>\n",
       "      <td>view</td>\n",
       "      <td>50</td>\n",
       "    </tr>\n",
       "    <tr>\n",
       "      <th>1</th>\n",
       "      <td>acart</td>\n",
       "      <td>1</td>\n",
       "    </tr>\n",
       "    <tr>\n",
       "      <th>2</th>\n",
       "      <td>search</td>\n",
       "      <td>40</td>\n",
       "    </tr>\n",
       "    <tr>\n",
       "      <th>3</th>\n",
       "      <td>order</td>\n",
       "      <td>1</td>\n",
       "    </tr>\n",
       "    <tr>\n",
       "      <th>4</th>\n",
       "      <td>cart</td>\n",
       "      <td>3</td>\n",
       "    </tr>\n",
       "    <tr>\n",
       "      <th>5</th>\n",
       "      <td>reg</td>\n",
       "      <td>4</td>\n",
       "    </tr>\n",
       "    <tr>\n",
       "      <th>6</th>\n",
       "      <td>login</td>\n",
       "      <td>1</td>\n",
       "    </tr>\n",
       "  </tbody>\n",
       "</table>\n",
       "</div>"
      ],
      "text/plain": [
       "      act  c1\n",
       "0  view    50\n",
       "1  acart   1 \n",
       "2  search  40\n",
       "3  order   1 \n",
       "4  cart    3 \n",
       "5  reg     4 \n",
       "6  login   1 "
      ]
     },
     "execution_count": 19,
     "metadata": {},
     "output_type": "execute_result"
    }
   ],
   "source": [
    "count.toPandas()"
   ]
  },
  {
   "cell_type": "code",
   "execution_count": null,
   "metadata": {
    "collapsed": true
   },
   "outputs": [],
   "source": []
  },
  {
   "cell_type": "code",
   "execution_count": 36,
   "metadata": {
    "collapsed": false
   },
   "outputs": [
    {
     "data": {
      "text/plain": [
       "<matplotlib.axes.AxesSubplot at 0x110a416d0>"
      ]
     },
     "execution_count": 36,
     "metadata": {},
     "output_type": "execute_result"
    },
    {
     "data": {
      "image/png": "[encoded data removed]",
      "text/plain": [
       "<matplotlib.figure.Figure at 0x110a41f90>"
      ]
     },
     "metadata": {},
     "output_type": "display_data"
    }
   ],
   "source": [
    "act = sqlContext.sql(\"SELECT act FROM log\")\n",
    "sns.countplot(x=\"act\", data=act.toPandas(), palette=\"Greens_d\")"
   ]
  },
  {
   "cell_type": "markdown",
   "metadata": {},
   "source": [
    "###Descriptive analysis"
   ]
  },
  {
   "cell_type": "code",
   "execution_count": 16,
   "metadata": {
    "collapsed": false,
    "scrolled": true
   },
   "outputs": [
    {
     "data": {
      "text/html": [
       "<div>\n",
       "<table border=\"1\" class=\"dataframe\">\n",
       "  <thead>\n",
       "    <tr style=\"text-align: right;\">\n",
       "      <th></th>\n",
       "      <th>dates_int</th>\n",
       "      <th>ip</th>\n",
       "      <th>act</th>\n",
       "      <th>uid</th>\n",
       "      <th>pid</th>\n",
       "      <th>eruid</th>\n",
       "      <th>ssid</th>\n",
       "    </tr>\n",
       "    <tr>\n",
       "      <th>lo</th>\n",
       "      <th></th>\n",
       "      <th></th>\n",
       "      <th></th>\n",
       "      <th></th>\n",
       "      <th></th>\n",
       "      <th></th>\n",
       "      <th></th>\n",
       "    </tr>\n",
       "  </thead>\n",
       "  <tbody>\n",
       "    <tr>\n",
       "      <th>0</th>\n",
       "      <td>304319</td>\n",
       "      <td>304319</td>\n",
       "      <td>304319</td>\n",
       "      <td>107450</td>\n",
       "      <td>75165</td>\n",
       "      <td>304311</td>\n",
       "      <td>304319</td>\n",
       "    </tr>\n",
       "    <tr>\n",
       "      <th>1</th>\n",
       "      <td>198264</td>\n",
       "      <td>198264</td>\n",
       "      <td>198264</td>\n",
       "      <td>198264</td>\n",
       "      <td>36054</td>\n",
       "      <td>198249</td>\n",
       "      <td>198264</td>\n",
       "    </tr>\n",
       "  </tbody>\n",
       "</table>\n",
       "</div>"
      ],
      "text/plain": [
       "    dates_int      ip     act     uid    pid   eruid    ssid\n",
       "lo                                                          \n",
       "0   304319     304319  304319  107450  75165  304311  304319\n",
       "1   198264     198264  198264  198264  36054  198249  198264"
      ]
     },
     "execution_count": 16,
     "metadata": {},
     "output_type": "execute_result"
    }
   ],
   "source": [
    "thin_testlog.groupby(['lo']).count()"
   ]
  },
  {
   "cell_type": "code",
   "execution_count": 51,
   "metadata": {
    "collapsed": false
   },
   "outputs": [
    {
     "data": {
      "text/plain": [
       "196869"
      ]
     },
     "execution_count": 51,
     "metadata": {},
     "output_type": "execute_result"
    }
   ],
   "source": []
  },
  {
   "cell_type": "code",
   "execution_count": 26,
   "metadata": {
    "collapsed": false
   },
   "outputs": [
    {
     "data": {
      "text/html": [
       "<div>\n",
       "<table border=\"1\" class=\"dataframe\">\n",
       "  <thead>\n",
       "    <tr style=\"text-align: right;\">\n",
       "      <th></th>\n",
       "      <th>dates_int</th>\n",
       "      <th>ip</th>\n",
       "      <th>uid</th>\n",
       "      <th>pid</th>\n",
       "      <th>eruid</th>\n",
       "      <th>lo</th>\n",
       "      <th>ssid</th>\n",
       "    </tr>\n",
       "    <tr>\n",
       "      <th>act</th>\n",
       "      <th></th>\n",
       "      <th></th>\n",
       "      <th></th>\n",
       "      <th></th>\n",
       "      <th></th>\n",
       "      <th></th>\n",
       "      <th></th>\n",
       "    </tr>\n",
       "  </thead>\n",
       "  <tbody>\n",
       "    <tr>\n",
       "      <th>acart</th>\n",
       "      <td>10966</td>\n",
       "      <td>10966</td>\n",
       "      <td>9281</td>\n",
       "      <td>0</td>\n",
       "      <td>10965</td>\n",
       "      <td>10966</td>\n",
       "      <td>10966</td>\n",
       "    </tr>\n",
       "    <tr>\n",
       "      <th>alist</th>\n",
       "      <td>1045</td>\n",
       "      <td>1045</td>\n",
       "      <td>924</td>\n",
       "      <td>0</td>\n",
       "      <td>1045</td>\n",
       "      <td>1045</td>\n",
       "      <td>1045</td>\n",
       "    </tr>\n",
       "    <tr>\n",
       "      <th>cart</th>\n",
       "      <td>24073</td>\n",
       "      <td>24073</td>\n",
       "      <td>24073</td>\n",
       "      <td>0</td>\n",
       "      <td>24073</td>\n",
       "      <td>24073</td>\n",
       "      <td>24073</td>\n",
       "    </tr>\n",
       "    <tr>\n",
       "      <th>clicmp</th>\n",
       "      <td>14518</td>\n",
       "      <td>14518</td>\n",
       "      <td>9939</td>\n",
       "      <td>0</td>\n",
       "      <td>14518</td>\n",
       "      <td>14518</td>\n",
       "      <td>14518</td>\n",
       "    </tr>\n",
       "    <tr>\n",
       "      <th>dcart</th>\n",
       "      <td>5190</td>\n",
       "      <td>5190</td>\n",
       "      <td>5190</td>\n",
       "      <td>0</td>\n",
       "      <td>5190</td>\n",
       "      <td>5190</td>\n",
       "      <td>5190</td>\n",
       "    </tr>\n",
       "    <tr>\n",
       "      <th>dlist</th>\n",
       "      <td>164</td>\n",
       "      <td>164</td>\n",
       "      <td>164</td>\n",
       "      <td>0</td>\n",
       "      <td>164</td>\n",
       "      <td>164</td>\n",
       "      <td>164</td>\n",
       "    </tr>\n",
       "    <tr>\n",
       "      <th>login</th>\n",
       "      <td>15872</td>\n",
       "      <td>15872</td>\n",
       "      <td>3008</td>\n",
       "      <td>0</td>\n",
       "      <td>15872</td>\n",
       "      <td>15872</td>\n",
       "      <td>15872</td>\n",
       "    </tr>\n",
       "    <tr>\n",
       "      <th>order</th>\n",
       "      <td>2207</td>\n",
       "      <td>2207</td>\n",
       "      <td>2207</td>\n",
       "      <td>0</td>\n",
       "      <td>2207</td>\n",
       "      <td>2207</td>\n",
       "      <td>2207</td>\n",
       "    </tr>\n",
       "    <tr>\n",
       "      <th>reg</th>\n",
       "      <td>2044</td>\n",
       "      <td>2044</td>\n",
       "      <td>523</td>\n",
       "      <td>0</td>\n",
       "      <td>2044</td>\n",
       "      <td>2044</td>\n",
       "      <td>2044</td>\n",
       "    </tr>\n",
       "    <tr>\n",
       "      <th>search</th>\n",
       "      <td>56397</td>\n",
       "      <td>56397</td>\n",
       "      <td>23625</td>\n",
       "      <td>0</td>\n",
       "      <td>56397</td>\n",
       "      <td>56397</td>\n",
       "      <td>56397</td>\n",
       "    </tr>\n",
       "    <tr>\n",
       "      <th>view</th>\n",
       "      <td>370108</td>\n",
       "      <td>370108</td>\n",
       "      <td>226781</td>\n",
       "      <td>111219</td>\n",
       "      <td>370086</td>\n",
       "      <td>370107</td>\n",
       "      <td>370108</td>\n",
       "    </tr>\n",
       "  </tbody>\n",
       "</table>\n",
       "</div>"
      ],
      "text/plain": [
       "        dates_int      ip     uid     pid   eruid      lo    ssid\n",
       "act                                                              \n",
       "acart   10966      10966   9281    0       10965   10966   10966 \n",
       "alist   1045       1045    924     0       1045    1045    1045  \n",
       "cart    24073      24073   24073   0       24073   24073   24073 \n",
       "clicmp  14518      14518   9939    0       14518   14518   14518 \n",
       "dcart   5190       5190    5190    0       5190    5190    5190  \n",
       "dlist   164        164     164     0       164     164     164   \n",
       "login   15872      15872   3008    0       15872   15872   15872 \n",
       "order   2207       2207    2207    0       2207    2207    2207  \n",
       "reg     2044       2044    523     0       2044    2044    2044  \n",
       "search  56397      56397   23625   0       56397   56397   56397 \n",
       "view    370108     370108  226781  111219  370086  370107  370108"
      ]
     },
     "execution_count": 26,
     "metadata": {},
     "output_type": "execute_result"
    }
   ],
   "source": [
    "thin_testlog.groupby(['act']).count()"
   ]
  },
  {
   "cell_type": "code",
   "execution_count": 53,
   "metadata": {
    "collapsed": false
   },
   "outputs": [
    {
     "name": "stdout",
     "output_type": "stream",
     "text": [
      "Total Row Number: 502584\n",
      "Distinct IP Number: 48546 , 0.097 \n",
      "Distinct user ID Number: 20866\n",
      "Null user ID number: 196869\n",
      "Distinct cookie ID Number: 56195\n"
     ]
    }
   ],
   "source": [
    "n = thin_testlog['dates_int'].count()\n",
    "uniq_ip_n = thin_testlog['ip'].nunique()\n",
    "ip_pct = (uniq_ip_n*1.0/n)\n",
    "uniq_uid_n = thin_testlog['uid'].nunique()\n",
    "uniq_cookie_n = thin_testlog['eruid'].nunique()\n",
    "null_uid_n = thin_testlog['uid'].isnull().sum()\n",
    "\n",
    "print \"Total Row Number: %d\" %(n)\n",
    "print \"Distinct IP Number: %d , %.3f \" %(uniq_ip_n, ip_pct) \n",
    "print \"Distinct user ID Number: %d\"%(uniq_uid_n)\n",
    "print \"Null user ID number: %d\"%(null_uid_n)\n",
    "print \"Distinct cookie ID Number: %d\"%(uniq_cookie_n)"
   ]
  },
  {
   "cell_type": "code",
   "execution_count": 44,
   "metadata": {
    "collapsed": false
   },
   "outputs": [
    {
     "data": {
      "text/plain": [
       "<matplotlib.axes.AxesSubplot at 0x110d04510>"
      ]
     },
     "execution_count": 44,
     "metadata": {},
     "output_type": "execute_result"
    },
    {
     "data": {
      "image/png": "[encoded data removed]",
      "text/plain": [
       "<matplotlib.figure.Figure at 0x1105567d0>"
      ]
     },
     "metadata": {},
     "output_type": "display_data"
    }
   ],
   "source": [
    "%matplotlib inline\n",
    "import matplotlib as mpl\n",
    "import matplotlib.pyplot as plt\n",
    "\n",
    "import seaborn as sns\n",
    "from scipy import stats, integrate\n",
    "sns.set(color_codes=True)\n",
    "\n",
    "#tips = sns.load_dataset(\"tips\")\n",
    "\n",
    "#thin_testlog.head(1)\n",
    "#sns.distplot(final_action_2['dt_cnt']);\n",
    "\n",
    "sns.countplot(x=\"act\", data=thin_testlog, palette=\"Greens_d\")"
   ]
  },
  {
   "cell_type": "code",
   "execution_count": 46,
   "metadata": {
    "collapsed": false
   },
   "outputs": [
    {
     "data": {
      "image/png": "[encoded data removed]",
      "text/plain": [
       "<matplotlib.figure.Figure at 0x11629ced0>"
      ]
     },
     "metadata": {},
     "output_type": "display_data"
    }
   ],
   "source": [
    "sns.countplot(y=\"lo\", data=thin_testlog, palette=\"Greens_d\");"
   ]
  },
  {
   "cell_type": "code",
   "execution_count": null,
   "metadata": {
    "collapsed": true
   },
   "outputs": [],
   "source": [
    "sns.boxplot(x=\"tag\", y=\"dis_act_cnt_byDt\", data=final_action_2);"
   ]
  },
  {
   "cell_type": "code",
   "execution_count": null,
   "metadata": {
    "collapsed": true
   },
   "outputs": [],
   "source": [
    "sns.countplot(x=\"hr\", data=thin_testlog[(thin_testlog.tag == 0)], palette=\"Greens_d\");"
   ]
  }
 ],
 "metadata": {
  "kernelspec": {
   "display_name": "Python 2",
   "language": "python",
   "name": "python2"
  },
  "language_info": {
   "codemirror_mode": {
    "name": "ipython",
    "version": 2
   },
   "file_extension": ".py",
   "mimetype": "text/x-python",
   "name": "python",
   "nbconvert_exporter": "python",
   "pygments_lexer": "ipython2",
   "version": "2.7.5"
  }
 },
 "nbformat": 4,
 "nbformat_minor": 0
}
