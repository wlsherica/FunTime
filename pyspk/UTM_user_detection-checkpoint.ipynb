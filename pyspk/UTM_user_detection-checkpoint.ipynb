{
 "cells": [
  {
   "cell_type": "markdown",
   "metadata": {},
   "source": [
    "###Data prepared"
   ]
  },
  {
   "cell_type": "code",
   "execution_count": 1,
   "metadata": {
    "collapsed": false
   },
   "outputs": [
    {
     "name": "stdout",
     "output_type": "stream",
     "text": [
      "Duration: 0:00:04.445813\n"
     ]
    },
    {
     "name": "stderr",
     "output_type": "stream",
     "text": [
      "/Library/Python/2.7/site-packages/pandas/io/parsers.py:1170: DtypeWarning: Columns (7,17,18,28) have mixed types. Specify dtype option on import or set low_memory=False.\n",
      "  data = self._reader.read(nrows)\n"
     ]
    }
   ],
   "source": [
    "#Data prepare\n",
    "import json\n",
    "import pandas as pd\n",
    "import os.path\n",
    "from datetime import datetime\n",
    "\n",
    "pd.set_option('display.max_colwidth', -1)\n",
    "\n",
    "headers = [\"dates\",\"dates_int\",\"ip\", \"time\",\"cid\",\"act\", \"cat\", \"uid\", \"pid\", \"ptuple\", \"eruid\", \"oid\", \n",
    "\"keywords\", \"eturec\", \"url\", \"hostname\", \"agent\", \"paypid\", \"qty\", \"unit_price\", \"pcat\", \"pmk\", \"ercamp\", \"predn\", \n",
    "\"preurl\", \"lo\", \"ssid\", \"erad\", \"pstk\", \"ercampid\", \"eradurl\", \"eraddsc\", \"urefid\", \"acttype\", \"actstat\", \n",
    "\"utm_src\", \"utm_med\", \"utm_camp\", \"uxtime\"]\n",
    "\n",
    "start_time = datetime.now()\n",
    "\n",
    "userlog = pd.read_csv('/Users/etu/Desktop/kaggle/etmall/ec_testing.txt', sep='^', \n",
    "                      header = None, names = headers)\n",
    "\n",
    "end_time = datetime.now()\n",
    "print('Duration: {}'.format(end_time - start_time))"
   ]
  },
  {
   "cell_type": "code",
   "execution_count": 2,
   "metadata": {
    "collapsed": false
   },
   "outputs": [
    {
     "data": {
      "text/html": [
       "<div>\n",
       "<table border=\"1\" class=\"dataframe\">\n",
       "  <thead>\n",
       "    <tr style=\"text-align: right;\">\n",
       "      <th></th>\n",
       "      <th>dates</th>\n",
       "      <th>dates_int</th>\n",
       "      <th>ip</th>\n",
       "      <th>time</th>\n",
       "      <th>cid</th>\n",
       "      <th>act</th>\n",
       "      <th>cat</th>\n",
       "      <th>uid</th>\n",
       "      <th>pid</th>\n",
       "      <th>ptuple</th>\n",
       "      <th>...</th>\n",
       "      <th>ercampid</th>\n",
       "      <th>eradurl</th>\n",
       "      <th>eraddsc</th>\n",
       "      <th>urefid</th>\n",
       "      <th>acttype</th>\n",
       "      <th>actstat</th>\n",
       "      <th>utm_src</th>\n",
       "      <th>utm_med</th>\n",
       "      <th>utm_camp</th>\n",
       "      <th>uxtime</th>\n",
       "    </tr>\n",
       "  </thead>\n",
       "  <tbody>\n",
       "    <tr>\n",
       "      <th>0</th>\n",
       "      <td>2015-06-01</td>\n",
       "      <td>20150601</td>\n",
       "      <td>1.126.49.110</td>\n",
       "      <td>19:30:54</td>\n",
       "      <td>testing</td>\n",
       "      <td>view</td>\n",
       "      <td>NaN</td>\n",
       "      <td>NaN</td>\n",
       "      <td>NaN</td>\n",
       "      <td>NaN</td>\n",
       "      <td>...</td>\n",
       "      <td>NaN</td>\n",
       "      <td>NaN</td>\n",
       "      <td>NaN</td>\n",
       "      <td>NaN</td>\n",
       "      <td>NaN</td>\n",
       "      <td>NaN</td>\n",
       "      <td>AFFILIATES</td>\n",
       "      <td>CPA</td>\n",
       "      <td>2014</td>\n",
       "      <td>1433158254</td>\n",
       "    </tr>\n",
       "  </tbody>\n",
       "</table>\n",
       "<p>1 rows × 39 columns</p>\n",
       "</div>"
      ],
      "text/plain": [
       "        dates  dates_int            ip      time      cid   act  cat  uid  \\\n",
       "0  2015-06-01  20150601   1.126.49.110  19:30:54  testing  view  NaN  NaN   \n",
       "\n",
       "   pid ptuple     ...     ercampid eradurl eraddsc  urefid acttype actstat  \\\n",
       "0 NaN   NaN       ...      NaN     NaN      NaN     NaN     NaN    NaN       \n",
       "\n",
       "      utm_src utm_med utm_camp      uxtime  \n",
       "0  AFFILIATES  CPA     2014     1433158254  \n",
       "\n",
       "[1 rows x 39 columns]"
      ]
     },
     "execution_count": 2,
     "metadata": {},
     "output_type": "execute_result"
    }
   ],
   "source": [
    "userlog.head(1)"
   ]
  },
  {
   "cell_type": "code",
   "execution_count": 3,
   "metadata": {
    "collapsed": false
   },
   "outputs": [
    {
     "name": "stdout",
     "output_type": "stream",
     "text": [
      "<pyspark.sql.context.SQLContext object at 0x110c0bd50>\n"
     ]
    }
   ],
   "source": [
    "from pyspark import SparkContext\n",
    "from pyspark.sql import *\n",
    "\n",
    "sqlContext = SQLContext(sc)\n",
    "print sqlContext"
   ]
  },
  {
   "cell_type": "code",
   "execution_count": 2,
   "metadata": {
    "collapsed": false
   },
   "outputs": [],
   "source": [
    "delete_1 = ['dates','cid', \"cid\", \"ptuple\", \"oid\", \n",
    "\"keywords\", \"eturec\", \"url\", \"hostname\", \"agent\", \"paypid\", \"qty\", \"unit_price\", \"pcat\", \"pmk\", \"ercamp\", \"predn\", \n",
    "\"preurl\", \"erad\", \"pstk\", \"ercampid\", \"eradurl\", \"eraddsc\", \"urefid\", \"acttype\", \"actstat\", \n",
    "\"utm_src\", \"utm_med\", \"utm_camp\", \"uxtime\"]\n",
    "\n",
    "thin_testlog = userlog.drop(delete_1, axis=1).fillna('')\n"
   ]
  },
  {
   "cell_type": "code",
   "execution_count": 22,
   "metadata": {
    "collapsed": false
   },
   "outputs": [
    {
     "data": {
      "text/html": [
       "<div>\n",
       "<table border=\"1\" class=\"dataframe\">\n",
       "  <thead>\n",
       "    <tr style=\"text-align: right;\">\n",
       "      <th></th>\n",
       "      <th>dates_int</th>\n",
       "      <th>ip</th>\n",
       "      <th>time</th>\n",
       "      <th>act</th>\n",
       "      <th>cat</th>\n",
       "      <th>uid</th>\n",
       "      <th>pid</th>\n",
       "      <th>eruid</th>\n",
       "      <th>lo</th>\n",
       "      <th>ssid</th>\n",
       "    </tr>\n",
       "  </thead>\n",
       "  <tbody>\n",
       "    <tr>\n",
       "      <th>0</th>\n",
       "      <td>20150601</td>\n",
       "      <td>1.126.49.110</td>\n",
       "      <td>19:30:54</td>\n",
       "      <td>view</td>\n",
       "      <td></td>\n",
       "      <td></td>\n",
       "      <td></td>\n",
       "      <td>4e9ce2ec-3342-1e7e-68f3-c4bece6137e3</td>\n",
       "      <td>0</td>\n",
       "      <td>1u5m7mrsbiabf</td>\n",
       "    </tr>\n",
       "    <tr>\n",
       "      <th>1</th>\n",
       "      <td>20150601</td>\n",
       "      <td>1.160.10.204</td>\n",
       "      <td>00:23:21</td>\n",
       "      <td>view</td>\n",
       "      <td>31138,31139,33430,33467</td>\n",
       "      <td></td>\n",
       "      <td>235500</td>\n",
       "      <td>481a5a5b-c8f0-ffb-b722-101e6d0da6</td>\n",
       "      <td>0</td>\n",
       "      <td>1l083ta2ocjn2</td>\n",
       "    </tr>\n",
       "    <tr>\n",
       "      <th>2</th>\n",
       "      <td>20150601</td>\n",
       "      <td>1.160.10.204</td>\n",
       "      <td>00:23:58</td>\n",
       "      <td>view</td>\n",
       "      <td></td>\n",
       "      <td></td>\n",
       "      <td></td>\n",
       "      <td>481a5a5b-c8f0-ffb-b722-101e6d0da6</td>\n",
       "      <td>0</td>\n",
       "      <td>1l083ta2ocjn2</td>\n",
       "    </tr>\n",
       "  </tbody>\n",
       "</table>\n",
       "</div>"
      ],
      "text/plain": [
       "   dates_int            ip      time   act                      cat uid  \\\n",
       "0  20150601   1.126.49.110  19:30:54  view                                \n",
       "1  20150601   1.160.10.204  00:23:21  view  31138,31139,33430,33467       \n",
       "2  20150601   1.160.10.204  00:23:58  view                                \n",
       "\n",
       "      pid                                 eruid lo           ssid  \n",
       "0          4e9ce2ec-3342-1e7e-68f3-c4bece6137e3  0  1u5m7mrsbiabf  \n",
       "1  235500  481a5a5b-c8f0-ffb-b722-101e6d0da6     0  1l083ta2ocjn2  \n",
       "2          481a5a5b-c8f0-ffb-b722-101e6d0da6     0  1l083ta2ocjn2  "
      ]
     },
     "execution_count": 22,
     "metadata": {},
     "output_type": "execute_result"
    }
   ],
   "source": [
    "thin_testlog.head(3)"
   ]
  },
  {
   "cell_type": "code",
   "execution_count": 10,
   "metadata": {
    "collapsed": false
   },
   "outputs": [],
   "source": [
    "t100 = thin_testlog.head(100)\n",
    "d = [ \n",
    "    dict([\n",
    "        (colname, row[i]) \n",
    "        for i, colname in enumerate(t100.columns)\n",
    "    ])\n",
    "    for row in t100.values\n",
    "]"
   ]
  },
  {
   "cell_type": "code",
   "execution_count": 11,
   "metadata": {
    "collapsed": true
   },
   "outputs": [],
   "source": [
    "import json\n",
    "\n",
    "output='/Users/etu/Desktop/kaggle/etmall/file2.json'\n",
    "\n",
    "with open(output, 'w') as fp:\n",
    "    json.dump(d, fp)"
   ]
  },
  {
   "cell_type": "code",
   "execution_count": 28,
   "metadata": {
    "collapsed": false
   },
   "outputs": [
    {
     "name": "stdout",
     "output_type": "stream",
     "text": [
      "dates dates_int ip time cid act cat uid pid ptuple eruid oid keywords eturec url hostname agent paypid qty unit_price pcat pmk ercamp predn preurl lo ssid erad pstk ercampid eradurl eraddsc urefid acttype actstat utm_src utm_med utm_camp uxtime\n"
     ]
    }
   ],
   "source": [
    "#DSchema = list(thin_testlog.columns)\n",
    "DSchema = \" \".join(headers)\n",
    "print DSchema"
   ]
  },
  {
   "cell_type": "code",
   "execution_count": 45,
   "metadata": {
    "collapsed": false
   },
   "outputs": [
    {
     "data": {
      "text/plain": [
       "'uxtime'"
      ]
     },
     "execution_count": 45,
     "metadata": {},
     "output_type": "execute_result"
    }
   ],
   "source": [
    "headers[38]"
   ]
  },
  {
   "cell_type": "code",
   "execution_count": 97,
   "metadata": {
    "collapsed": false
   },
   "outputs": [],
   "source": [
    "output='/Users/etu/Desktop/kaggle/etmall/file2.json'\n",
    "\n",
    "#inputFile = output\n",
    "log = sqlContext.jsonFile(output)"
   ]
  },
  {
   "cell_type": "code",
   "execution_count": 98,
   "metadata": {
    "collapsed": false
   },
   "outputs": [
    {
     "name": "stdout",
     "output_type": "stream",
     "text": [
      "root\n",
      " |-- act: string (nullable = true)\n",
      " |-- cat: string (nullable = true)\n",
      " |-- dates_int: long (nullable = true)\n",
      " |-- eruid: string (nullable = true)\n",
      " |-- ip: string (nullable = true)\n",
      " |-- lo: double (nullable = true)\n",
      " |-- pid: double (nullable = true)\n",
      " |-- ssid: string (nullable = true)\n",
      " |-- time: string (nullable = true)\n",
      " |-- uid: string (nullable = true)\n",
      "\n"
     ]
    }
   ],
   "source": [
    "log.printSchema()"
   ]
  },
  {
   "cell_type": "code",
   "execution_count": 36,
   "metadata": {
    "collapsed": false
   },
   "outputs": [
    {
     "data": {
      "text/plain": [
       "[u'19:30:54']"
      ]
     },
     "execution_count": 36,
     "metadata": {},
     "output_type": "execute_result"
    }
   ],
   "source": [
    "#[Row(act=u'view', cat=u'', dates_int=20150601, eruid=u'4e9ce2ec-3342-1e7e-68f3-c4bece6137e3', \n",
    "#ip=u'1.126.49.110', lo=0.0, pid=None, ssid=u'1u5m7mrsbiabf', time=u'19:30:54', uid=u'')]"
   ]
  },
  {
   "cell_type": "code",
   "execution_count": 99,
   "metadata": {
    "collapsed": false
   },
   "outputs": [
    {
     "name": "stdout",
     "output_type": "stream",
     "text": [
      "eruid                ssid_cnt cat_cnt ip_cnt item_cnt item_uniq_cnt uid_cnt\n",
      "c420bf7-e417-4f2c... 1        41      1      6        6             1      \n",
      "4e9ce2ec-3342-1e7... 1        1       1      0        0             1      \n",
      "3af7361-9e7-6c30-... 1        11      1      5        5             2      \n",
      "da5ea61e-d0f7-81d... 1        1       1      1        1             1      \n",
      "339aeea3-72c-8d9c... 1        4       1      0        0             1      \n",
      "f5da35d4-e7de-6a1... 1        1       1      0        0             1      \n",
      "dc1c93d-debb-7bff... 1        9       1      4        4             1      \n",
      "f2a1b88a-75f0-736... 1        1       1      1        1             1      \n",
      "481a5a5b-c8f0-ffb... 1        31      1      2        1             2      \n"
     ]
    }
   ],
   "source": [
    "log.registerTempTable(\"log\")\n",
    "sqlContext.registerFunction(\"lengthSQL\", lambda x: len(x))\n",
    "sqlContext.registerFunction(\"getHour\", lambda x: int(x.split(\":\")[0]))\n",
    "\n",
    "#count = sqlContext.sql(\"select getHour(time) as hours , eruid from log\")\n",
    "\n",
    "count = sqlContext.sql(\"SELECT eruid, \\\n",
    "                        count(distinct ssid) AS ssid_cnt, \\\n",
    "                        count(lengthSQL(cat)) AS cat_cnt, \\\n",
    "                        count(distinct ip) AS ip_cnt, \\\n",
    "                        count(pid) AS item_cnt, \\\n",
    "                        count(distinct pid) AS item_uniq_cnt, \\\n",
    "                        count(distinct uid) AS uid_cnt \\\n",
    "                        FROM log \\\n",
    "                        GROUP BY eruid\")\n",
    "\n",
    "count.show()\n",
    "#for i, v in count.map(lambda p: (p[0], p[1])).collect():\n",
    "#    print i, v"
   ]
  },
  {
   "cell_type": "code",
   "execution_count": 119,
   "metadata": {
    "collapsed": false
   },
   "outputs": [
    {
     "name": "stdout",
     "output_type": "stream",
     "text": [
      "eruid                PM8 PM9\n",
      "c420bf7-e417-4f2c... 41  0  \n",
      "4e9ce2ec-3342-1e7... 0   0  \n",
      "3af7361-9e7-6c30-... 0   8  \n",
      "da5ea61e-d0f7-81d... 0   0  \n",
      "339aeea3-72c-8d9c... 0   0  \n",
      "f5da35d4-e7de-6a1... 0   0  \n",
      "dc1c93d-debb-7bff... 8   1  \n",
      "f2a1b88a-75f0-736... 0   0  \n",
      "481a5a5b-c8f0-ffb... 0   0  \n"
     ]
    }
   ],
   "source": [
    "#from pyspark.sql import HiveContext, Row\n",
    "#sqlContext = SQLContext(sc) #HiveContext(sc)\n",
    "sqlContext.registerFunction(\"getHour\", lambda x: int(x.split(\":\")[0]))\n",
    "\n",
    "hours = sqlContext.sql(\"select eruid, hours, count(hours) as hr_cnt \\\n",
    "                        from (select eruid, getHour(time) as hours from log) as x\\\n",
    "                        group by eruid, hours\")\n",
    "\n",
    "\n",
    "hours.registerTempTable(\"hours\")\n",
    "#case when is ok ha~\n",
    "tb_PM8 = sqlContext.sql(\"select x.eruid, case when y.hr_cnt is null then 0 else y.hr_cnt END AS PM8 \\\n",
    "                         from (select distinct eruid from hours) as x \\\n",
    "                         left join (select eruid, hr_cnt from hours where hours = 20) as y \\\n",
    "                         on x.eruid = y.eruid \")\n",
    "\n",
    "tb_PM8.registerTempTable(\"tb_PM8\")\n",
    "\n",
    "tb_PM9 = sqlContext.sql(\"select x.eruid, x.PM8, case when y.hr_cnt is null then 0 else y.hr_cnt END AS PM9\\\n",
    "                         from tb_PM8 as x\\\n",
    "                         left join (select eruid, hr_cnt from hours where hours = 21) as y \\\n",
    "                         on x.eruid = y.eruid\")\n",
    "\n",
    "#tb_PM10 = sqlContext.sql(\"select eruid, hr_cnt AS PM10 from hours where hours = 22\")\n",
    "\n",
    "#join1 = tb_PM8.join(tb_PM9, tb_PM8.eruid == tb_PM9.eruid, 'left').select(tb_PM8.eruid, tb_PM8.PM8, tb_PM9.PM9)\n",
    "\n",
    "tb_PM9.show()\n",
    "#map((lambda (x,y): (x, list(y))), sorted(hours.map(lambda x: (x[0], x[1])).groupByKey().collect()))\n",
    "#hours.map(lambda x: (x[0], int(x[1]))).reduceByKey(add).collect()"
   ]
  },
  {
   "cell_type": "code",
   "execution_count": 72,
   "metadata": {
    "collapsed": false
   },
   "outputs": [
    {
     "data": {
      "text/plain": [
       "PythonRDD[615] at RDD at PythonRDD.scala:42"
      ]
     },
     "execution_count": 72,
     "metadata": {},
     "output_type": "execute_result"
    }
   ],
   "source": [
    "def col2row(record):\n",
    "    for key in record[1].split(','):\n",
    "        yield record[0], key\n",
    "        \n",
    "cat_log = sqlContext.sql(\"select eruid, cat as cat1 from log where cat <> ''\") \n",
    "\n",
    "cat_2row = cat_log.map(lambda x: (x[0], x[1])).flatMap(col2row)\n",
    "cat_2row"
   ]
  },
  {
   "cell_type": "code",
   "execution_count": 19,
   "metadata": {
    "collapsed": false
   },
   "outputs": [
    {
     "data": {
      "text/html": [
       "<div>\n",
       "<table border=\"1\" class=\"dataframe\">\n",
       "  <thead>\n",
       "    <tr style=\"text-align: right;\">\n",
       "      <th></th>\n",
       "      <th>act</th>\n",
       "      <th>c1</th>\n",
       "    </tr>\n",
       "  </thead>\n",
       "  <tbody>\n",
       "    <tr>\n",
       "      <th>0</th>\n",
       "      <td>view</td>\n",
       "      <td>50</td>\n",
       "    </tr>\n",
       "    <tr>\n",
       "      <th>1</th>\n",
       "      <td>acart</td>\n",
       "      <td>1</td>\n",
       "    </tr>\n",
       "    <tr>\n",
       "      <th>2</th>\n",
       "      <td>search</td>\n",
       "      <td>40</td>\n",
       "    </tr>\n",
       "    <tr>\n",
       "      <th>3</th>\n",
       "      <td>order</td>\n",
       "      <td>1</td>\n",
       "    </tr>\n",
       "    <tr>\n",
       "      <th>4</th>\n",
       "      <td>cart</td>\n",
       "      <td>3</td>\n",
       "    </tr>\n",
       "    <tr>\n",
       "      <th>5</th>\n",
       "      <td>reg</td>\n",
       "      <td>4</td>\n",
       "    </tr>\n",
       "    <tr>\n",
       "      <th>6</th>\n",
       "      <td>login</td>\n",
       "      <td>1</td>\n",
       "    </tr>\n",
       "  </tbody>\n",
       "</table>\n",
       "</div>"
      ],
      "text/plain": [
       "      act  c1\n",
       "0  view    50\n",
       "1  acart   1 \n",
       "2  search  40\n",
       "3  order   1 \n",
       "4  cart    3 \n",
       "5  reg     4 \n",
       "6  login   1 "
      ]
     },
     "execution_count": 19,
     "metadata": {},
     "output_type": "execute_result"
    }
   ],
   "source": [
    "count.toPandas()"
   ]
  },
  {
   "cell_type": "code",
   "execution_count": null,
   "metadata": {
    "collapsed": true
   },
   "outputs": [],
   "source": []
  },
  {
   "cell_type": "code",
   "execution_count": 22,
   "metadata": {
    "collapsed": false
   },
   "outputs": [
    {
     "data": {
      "text/plain": [
       "<matplotlib.axes.AxesSubplot at 0x11457af10>"
      ]
     },
     "execution_count": 22,
     "metadata": {},
     "output_type": "execute_result"
    },
    {
     "data": {
      "image/png": "[encoded data removed]",
      "text/plain": [
       "<matplotlib.figure.Figure at 0x11451c1d0>"
      ]
     },
     "metadata": {},
     "output_type": "display_data"
    }
   ],
   "source": [
    "%matplotlib inline\n",
    "import matplotlib as mpl\n",
    "import matplotlib.pyplot as plt\n",
    "\n",
    "import seaborn as sns\n",
    "from scipy import stats, integrate\n",
    "\n",
    "sns.set(color_codes=True)\n",
    "\n",
    "count = sqlContext.sql(\"SELECT act FROM log\")\n",
    "sns.countplot(x=\"act\", data=count.toPandas(), palette=\"Greens_d\")"
   ]
  },
  {
   "cell_type": "markdown",
   "metadata": {},
   "source": [
    "###Descriptive analysis"
   ]
  },
  {
   "cell_type": "code",
   "execution_count": 16,
   "metadata": {
    "collapsed": false,
    "scrolled": true
   },
   "outputs": [
    {
     "data": {
      "text/html": [
       "<div>\n",
       "<table border=\"1\" class=\"dataframe\">\n",
       "  <thead>\n",
       "    <tr style=\"text-align: right;\">\n",
       "      <th></th>\n",
       "      <th>dates_int</th>\n",
       "      <th>ip</th>\n",
       "      <th>act</th>\n",
       "      <th>uid</th>\n",
       "      <th>pid</th>\n",
       "      <th>eruid</th>\n",
       "      <th>ssid</th>\n",
       "    </tr>\n",
       "    <tr>\n",
       "      <th>lo</th>\n",
       "      <th></th>\n",
       "      <th></th>\n",
       "      <th></th>\n",
       "      <th></th>\n",
       "      <th></th>\n",
       "      <th></th>\n",
       "      <th></th>\n",
       "    </tr>\n",
       "  </thead>\n",
       "  <tbody>\n",
       "    <tr>\n",
       "      <th>0</th>\n",
       "      <td>304319</td>\n",
       "      <td>304319</td>\n",
       "      <td>304319</td>\n",
       "      <td>107450</td>\n",
       "      <td>75165</td>\n",
       "      <td>304311</td>\n",
       "      <td>304319</td>\n",
       "    </tr>\n",
       "    <tr>\n",
       "      <th>1</th>\n",
       "      <td>198264</td>\n",
       "      <td>198264</td>\n",
       "      <td>198264</td>\n",
       "      <td>198264</td>\n",
       "      <td>36054</td>\n",
       "      <td>198249</td>\n",
       "      <td>198264</td>\n",
       "    </tr>\n",
       "  </tbody>\n",
       "</table>\n",
       "</div>"
      ],
      "text/plain": [
       "    dates_int      ip     act     uid    pid   eruid    ssid\n",
       "lo                                                          \n",
       "0   304319     304319  304319  107450  75165  304311  304319\n",
       "1   198264     198264  198264  198264  36054  198249  198264"
      ]
     },
     "execution_count": 16,
     "metadata": {},
     "output_type": "execute_result"
    }
   ],
   "source": [
    "thin_testlog.groupby(['lo']).count()"
   ]
  },
  {
   "cell_type": "code",
   "execution_count": 51,
   "metadata": {
    "collapsed": false
   },
   "outputs": [
    {
     "data": {
      "text/plain": [
       "196869"
      ]
     },
     "execution_count": 51,
     "metadata": {},
     "output_type": "execute_result"
    }
   ],
   "source": []
  },
  {
   "cell_type": "code",
   "execution_count": 26,
   "metadata": {
    "collapsed": false
   },
   "outputs": [
    {
     "data": {
      "text/html": [
       "<div>\n",
       "<table border=\"1\" class=\"dataframe\">\n",
       "  <thead>\n",
       "    <tr style=\"text-align: right;\">\n",
       "      <th></th>\n",
       "      <th>dates_int</th>\n",
       "      <th>ip</th>\n",
       "      <th>uid</th>\n",
       "      <th>pid</th>\n",
       "      <th>eruid</th>\n",
       "      <th>lo</th>\n",
       "      <th>ssid</th>\n",
       "    </tr>\n",
       "    <tr>\n",
       "      <th>act</th>\n",
       "      <th></th>\n",
       "      <th></th>\n",
       "      <th></th>\n",
       "      <th></th>\n",
       "      <th></th>\n",
       "      <th></th>\n",
       "      <th></th>\n",
       "    </tr>\n",
       "  </thead>\n",
       "  <tbody>\n",
       "    <tr>\n",
       "      <th>acart</th>\n",
       "      <td>10966</td>\n",
       "      <td>10966</td>\n",
       "      <td>9281</td>\n",
       "      <td>0</td>\n",
       "      <td>10965</td>\n",
       "      <td>10966</td>\n",
       "      <td>10966</td>\n",
       "    </tr>\n",
       "    <tr>\n",
       "      <th>alist</th>\n",
       "      <td>1045</td>\n",
       "      <td>1045</td>\n",
       "      <td>924</td>\n",
       "      <td>0</td>\n",
       "      <td>1045</td>\n",
       "      <td>1045</td>\n",
       "      <td>1045</td>\n",
       "    </tr>\n",
       "    <tr>\n",
       "      <th>cart</th>\n",
       "      <td>24073</td>\n",
       "      <td>24073</td>\n",
       "      <td>24073</td>\n",
       "      <td>0</td>\n",
       "      <td>24073</td>\n",
       "      <td>24073</td>\n",
       "      <td>24073</td>\n",
       "    </tr>\n",
       "    <tr>\n",
       "      <th>clicmp</th>\n",
       "      <td>14518</td>\n",
       "      <td>14518</td>\n",
       "      <td>9939</td>\n",
       "      <td>0</td>\n",
       "      <td>14518</td>\n",
       "      <td>14518</td>\n",
       "      <td>14518</td>\n",
       "    </tr>\n",
       "    <tr>\n",
       "      <th>dcart</th>\n",
       "      <td>5190</td>\n",
       "      <td>5190</td>\n",
       "      <td>5190</td>\n",
       "      <td>0</td>\n",
       "      <td>5190</td>\n",
       "      <td>5190</td>\n",
       "      <td>5190</td>\n",
       "    </tr>\n",
       "    <tr>\n",
       "      <th>dlist</th>\n",
       "      <td>164</td>\n",
       "      <td>164</td>\n",
       "      <td>164</td>\n",
       "      <td>0</td>\n",
       "      <td>164</td>\n",
       "      <td>164</td>\n",
       "      <td>164</td>\n",
       "    </tr>\n",
       "    <tr>\n",
       "      <th>login</th>\n",
       "      <td>15872</td>\n",
       "      <td>15872</td>\n",
       "      <td>3008</td>\n",
       "      <td>0</td>\n",
       "      <td>15872</td>\n",
       "      <td>15872</td>\n",
       "      <td>15872</td>\n",
       "    </tr>\n",
       "    <tr>\n",
       "      <th>order</th>\n",
       "      <td>2207</td>\n",
       "      <td>2207</td>\n",
       "      <td>2207</td>\n",
       "      <td>0</td>\n",
       "      <td>2207</td>\n",
       "      <td>2207</td>\n",
       "      <td>2207</td>\n",
       "    </tr>\n",
       "    <tr>\n",
       "      <th>reg</th>\n",
       "      <td>2044</td>\n",
       "      <td>2044</td>\n",
       "      <td>523</td>\n",
       "      <td>0</td>\n",
       "      <td>2044</td>\n",
       "      <td>2044</td>\n",
       "      <td>2044</td>\n",
       "    </tr>\n",
       "    <tr>\n",
       "      <th>search</th>\n",
       "      <td>56397</td>\n",
       "      <td>56397</td>\n",
       "      <td>23625</td>\n",
       "      <td>0</td>\n",
       "      <td>56397</td>\n",
       "      <td>56397</td>\n",
       "      <td>56397</td>\n",
       "    </tr>\n",
       "    <tr>\n",
       "      <th>view</th>\n",
       "      <td>370108</td>\n",
       "      <td>370108</td>\n",
       "      <td>226781</td>\n",
       "      <td>111219</td>\n",
       "      <td>370086</td>\n",
       "      <td>370107</td>\n",
       "      <td>370108</td>\n",
       "    </tr>\n",
       "  </tbody>\n",
       "</table>\n",
       "</div>"
      ],
      "text/plain": [
       "        dates_int      ip     uid     pid   eruid      lo    ssid\n",
       "act                                                              \n",
       "acart   10966      10966   9281    0       10965   10966   10966 \n",
       "alist   1045       1045    924     0       1045    1045    1045  \n",
       "cart    24073      24073   24073   0       24073   24073   24073 \n",
       "clicmp  14518      14518   9939    0       14518   14518   14518 \n",
       "dcart   5190       5190    5190    0       5190    5190    5190  \n",
       "dlist   164        164     164     0       164     164     164   \n",
       "login   15872      15872   3008    0       15872   15872   15872 \n",
       "order   2207       2207    2207    0       2207    2207    2207  \n",
       "reg     2044       2044    523     0       2044    2044    2044  \n",
       "search  56397      56397   23625   0       56397   56397   56397 \n",
       "view    370108     370108  226781  111219  370086  370107  370108"
      ]
     },
     "execution_count": 26,
     "metadata": {},
     "output_type": "execute_result"
    }
   ],
   "source": [
    "thin_testlog.groupby(['act']).count()"
   ]
  },
  {
   "cell_type": "code",
   "execution_count": 53,
   "metadata": {
    "collapsed": false
   },
   "outputs": [
    {
     "name": "stdout",
     "output_type": "stream",
     "text": [
      "Total Row Number: 502584\n",
      "Distinct IP Number: 48546 , 0.097 \n",
      "Distinct user ID Number: 20866\n",
      "Null user ID number: 196869\n",
      "Distinct cookie ID Number: 56195\n"
     ]
    }
   ],
   "source": [
    "n = thin_testlog['dates_int'].count()\n",
    "uniq_ip_n = thin_testlog['ip'].nunique()\n",
    "ip_pct = (uniq_ip_n*1.0/n)\n",
    "uniq_uid_n = thin_testlog['uid'].nunique()\n",
    "uniq_cookie_n = thin_testlog['eruid'].nunique()\n",
    "null_uid_n = thin_testlog['uid'].isnull().sum()\n",
    "\n",
    "print \"Total Row Number: %d\" %(n)\n",
    "print \"Distinct IP Number: %d , %.3f \" %(uniq_ip_n, ip_pct) \n",
    "print \"Distinct user ID Number: %d\"%(uniq_uid_n)\n",
    "print \"Null user ID number: %d\"%(null_uid_n)\n",
    "print \"Distinct cookie ID Number: %d\"%(uniq_cookie_n)"
   ]
  },
  {
   "cell_type": "code",
   "execution_count": 44,
   "metadata": {
    "collapsed": false
   },
   "outputs": [
    {
     "data": {
      "text/plain": [
       "<matplotlib.axes.AxesSubplot at 0x110d04510>"
      ]
     },
     "execution_count": 44,
     "metadata": {},
     "output_type": "execute_result"
    },
    {
     "data": {
      "image/png": "[encoded data removed]",
      "text/plain": [
       "<matplotlib.figure.Figure at 0x1105567d0>"
      ]
     },
     "metadata": {},
     "output_type": "display_data"
    }
   ],
   "source": [
    "%matplotlib inline\n",
    "import matplotlib as mpl\n",
    "import matplotlib.pyplot as plt\n",
    "\n",
    "import seaborn as sns\n",
    "from scipy import stats, integrate\n",
    "sns.set(color_codes=True)\n",
    "\n",
    "#tips = sns.load_dataset(\"tips\")\n",
    "\n",
    "#thin_testlog.head(1)\n",
    "#sns.distplot(final_action_2['dt_cnt']);\n",
    "\n",
    "sns.countplot(x=\"act\", data=thin_testlog, palette=\"Greens_d\")"
   ]
  },
  {
   "cell_type": "code",
   "execution_count": 46,
   "metadata": {
    "collapsed": false
   },
   "outputs": [
    {
     "data": {
      "image/png": "[encoded data removed]",
      "text/plain": [
       "<matplotlib.figure.Figure at 0x11629ced0>"
      ]
     },
     "metadata": {},
     "output_type": "display_data"
    }
   ],
   "source": [
    "sns.countplot(y=\"lo\", data=thin_testlog, palette=\"Greens_d\");"
   ]
  },
  {
   "cell_type": "code",
   "execution_count": null,
   "metadata": {
    "collapsed": true
   },
   "outputs": [],
   "source": [
    "sns.boxplot(x=\"tag\", y=\"dis_act_cnt_byDt\", data=final_action_2);"
   ]
  },
  {
   "cell_type": "code",
   "execution_count": null,
   "metadata": {
    "collapsed": true
   },
   "outputs": [],
   "source": [
    "sns.countplot(x=\"hr\", data=thin_testlog[(thin_testlog.tag == 0)], palette=\"Greens_d\");"
   ]
  }
 ],
 "metadata": {
  "kernelspec": {
   "display_name": "Python 2",
   "language": "python",
   "name": "python2"
  },
  "language_info": {
   "codemirror_mode": {
    "name": "ipython",
    "version": 2
   },
   "file_extension": ".py",
   "mimetype": "text/x-python",
   "name": "python",
   "nbconvert_exporter": "python",
   "pygments_lexer": "ipython2",
   "version": "2.7.5"
  }
 },
 "nbformat": 4,
 "nbformat_minor": 0
}
