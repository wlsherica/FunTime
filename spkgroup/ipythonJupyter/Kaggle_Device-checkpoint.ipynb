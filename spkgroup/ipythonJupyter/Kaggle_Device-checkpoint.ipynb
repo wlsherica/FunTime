{
 "cells": [
  {
   "cell_type": "code",
   "execution_count": 1,
   "metadata": {
    "collapsed": true
   },
   "outputs": [],
   "source": [
    "import sqlite3\n",
    "sqlite_file = '/Users/etu/Desktop/kaggle/input/database.sqlite'\n",
    "\n",
    "sqlite_file = 'my_first_db.sqlite'    # name of the sqlite database file\n",
    "table_name = 'my_table_2'   # name of the table to be queried\n",
    "id_column = 'my_1st_column'\n",
    "\n",
    "some_id = 123456\n",
    "column_2 = 'my_2nd_column'\n",
    "column_3 = 'my_3rd_column'\n",
    "\n",
    "# Connecting to the database file\n",
    "conn = sqlite3.connect(sqlite_file)\n",
    "c = conn.cursor()\n",
    "\n",
    "# 1) Contents of all columns for row that match a certain value in 1 column\n",
    "c.execute('SELECT * FROM {tn} WHERE {cn}=\"Hi World\"'.\\\n",
    "        format(tn=table_name, cn=column_2))\n",
    "all_rows = c.fetchall()\n",
    "print('1):', all_rows)\n",
    "\n",
    "conn.commit()\n",
    "conn.close()"
   ]
  },
  {
   "cell_type": "code",
   "execution_count": 13,
   "metadata": {
    "collapsed": false
   },
   "outputs": [],
   "source": [
    "import pandas as pd\n",
    "import numpy as np\n",
    "import matplotlib.pyplot as plt\n",
    "\n",
    "cookie = pd.read_csv('/Users/etu/Desktop/kaggle/input/icdm/cookies.tsv', sep='\\t')\n",
    "#device = pd.read_csv('/Users/etu/Desktop/kaggle/input/icdm/devices.tsv', sep='\\t')\n",
    "#id_ips = pd.read_csv('/Users/etu/Desktop/kaggle/input/icdm/id_ips.tsv', sep='\\t')\n",
    "#id_pro = pd.read_csv('/Users/etu/Desktop/kaggle/input/icdm/id_properties.tsv', sep='\\t')\n",
    "#ips = pd.read_csv('/Users/etu/Desktop/kaggle/input/icdm/ips.tsv', sep='\\t')\n",
    "#prop_cat = pd.read_csv('/Users/etu/Desktop/kaggle/input/icdm/property_categories.tsv', sep='\\t')\n"
   ]
  },
  {
   "cell_type": "code",
   "execution_count": 11,
   "metadata": {
    "collapsed": false
   },
   "outputs": [
    {
     "data": {
      "text/html": [
       "<div>\n",
       "<table border=\"1\" class=\"dataframe\">\n",
       "  <thead>\n",
       "    <tr style=\"text-align: right;\">\n",
       "      <th></th>\n",
       "      <th>drawbridge_handle</th>\n",
       "      <th>cookie_id</th>\n",
       "      <th>computer_os_type</th>\n",
       "      <th>browser_version</th>\n",
       "      <th>country</th>\n",
       "      <th>anonymous_c0</th>\n",
       "      <th>anonymous_c1</th>\n",
       "      <th>anonymous_c2</th>\n",
       "      <th>anonymous_5</th>\n",
       "      <th>anonymous_6</th>\n",
       "      <th>anonymous_7</th>\n",
       "    </tr>\n",
       "  </thead>\n",
       "  <tbody>\n",
       "    <tr>\n",
       "      <th>0</th>\n",
       "      <td>-1</td>\n",
       "      <td>id_10</td>\n",
       "      <td>computer_os_type_203</td>\n",
       "      <td>computer_browser_version_1158</td>\n",
       "      <td>country_146</td>\n",
       "      <td>1</td>\n",
       "      <td>anonymous_c1_1307</td>\n",
       "      <td>anonymous_c2_18778</td>\n",
       "      <td>15</td>\n",
       "      <td>1</td>\n",
       "      <td>204</td>\n",
       "    </tr>\n",
       "    <tr>\n",
       "      <th>1</th>\n",
       "      <td>handle_609762</td>\n",
       "      <td>id_100</td>\n",
       "      <td>computer_os_type_133</td>\n",
       "      <td>computer_browser_version_875</td>\n",
       "      <td>country_146</td>\n",
       "      <td>1</td>\n",
       "      <td>anonymous_c1_753</td>\n",
       "      <td>-1</td>\n",
       "      <td>41</td>\n",
       "      <td>1</td>\n",
       "      <td>204</td>\n",
       "    </tr>\n",
       "  </tbody>\n",
       "</table>\n",
       "</div>"
      ],
      "text/plain": [
       "  drawbridge_handle cookie_id      computer_os_type  \\\n",
       "0                -1     id_10  computer_os_type_203   \n",
       "1     handle_609762    id_100  computer_os_type_133   \n",
       "\n",
       "                 browser_version      country  anonymous_c0  \\\n",
       "0  computer_browser_version_1158  country_146             1   \n",
       "1   computer_browser_version_875  country_146             1   \n",
       "\n",
       "        anonymous_c1        anonymous_c2  anonymous_5  anonymous_6  \\\n",
       "0  anonymous_c1_1307  anonymous_c2_18778           15            1   \n",
       "1   anonymous_c1_753                  -1           41            1   \n",
       "\n",
       "   anonymous_7  \n",
       "0          204  \n",
       "1          204  "
      ]
     },
     "execution_count": 11,
     "metadata": {},
     "output_type": "execute_result"
    }
   ],
   "source": [
    "cookie.head(2)\n",
    "#device.hear(2)"
   ]
  },
  {
   "cell_type": "code",
   "execution_count": 9,
   "metadata": {
    "collapsed": false
   },
   "outputs": [
    {
     "data": {
      "text/plain": [
       "drawbridge_handle    object\n",
       "cookie_id            object\n",
       "computer_os_type     object\n",
       "browser_version      object\n",
       "country              object\n",
       "anonymous_c0          int64\n",
       "anonymous_c1         object\n",
       "anonymous_c2         object\n",
       "anonymous_5           int64\n",
       "anonymous_6           int64\n",
       "anonymous_7           int64\n",
       "dtype: object"
      ]
     },
     "execution_count": 9,
     "metadata": {},
     "output_type": "execute_result"
    }
   ],
   "source": [
    "cookie.dtypes"
   ]
  },
  {
   "cell_type": "code",
   "execution_count": 10,
   "metadata": {
    "collapsed": false
   },
   "outputs": [
    {
     "data": {
      "text/html": [
       "<div>\n",
       "<table border=\"1\" class=\"dataframe\">\n",
       "  <thead>\n",
       "    <tr style=\"text-align: right;\">\n",
       "      <th></th>\n",
       "      <th>anonymous_c0</th>\n",
       "      <th>anonymous_5</th>\n",
       "      <th>anonymous_6</th>\n",
       "      <th>anonymous_7</th>\n",
       "    </tr>\n",
       "  </thead>\n",
       "  <tbody>\n",
       "    <tr>\n",
       "      <th>count</th>\n",
       "      <td>2175520.000000</td>\n",
       "      <td>2175520.000000</td>\n",
       "      <td>2175520.000000</td>\n",
       "      <td>2175520.000000</td>\n",
       "    </tr>\n",
       "    <tr>\n",
       "      <th>mean</th>\n",
       "      <td>-0.013745</td>\n",
       "      <td>20.657237</td>\n",
       "      <td>78.836019</td>\n",
       "      <td>191.828998</td>\n",
       "    </tr>\n",
       "    <tr>\n",
       "      <th>std</th>\n",
       "      <td>0.658348</td>\n",
       "      <td>17.472624</td>\n",
       "      <td>70.793496</td>\n",
       "      <td>17.726981</td>\n",
       "    </tr>\n",
       "    <tr>\n",
       "      <th>min</th>\n",
       "      <td>-1.000000</td>\n",
       "      <td>1.000000</td>\n",
       "      <td>0.000000</td>\n",
       "      <td>0.000000</td>\n",
       "    </tr>\n",
       "    <tr>\n",
       "      <th>25%</th>\n",
       "      <td>0.000000</td>\n",
       "      <td>6.000000</td>\n",
       "      <td>1.000000</td>\n",
       "      <td>185.000000</td>\n",
       "    </tr>\n",
       "    <tr>\n",
       "      <th>50%</th>\n",
       "      <td>0.000000</td>\n",
       "      <td>16.000000</td>\n",
       "      <td>81.000000</td>\n",
       "      <td>202.000000</td>\n",
       "    </tr>\n",
       "    <tr>\n",
       "      <th>75%</th>\n",
       "      <td>0.000000</td>\n",
       "      <td>32.000000</td>\n",
       "      <td>145.000000</td>\n",
       "      <td>204.000000</td>\n",
       "    </tr>\n",
       "    <tr>\n",
       "      <th>max</th>\n",
       "      <td>1.000000</td>\n",
       "      <td>151.000000</td>\n",
       "      <td>204.000000</td>\n",
       "      <td>204.000000</td>\n",
       "    </tr>\n",
       "  </tbody>\n",
       "</table>\n",
       "</div>"
      ],
      "text/plain": [
       "         anonymous_c0     anonymous_5     anonymous_6     anonymous_7\n",
       "count  2175520.000000  2175520.000000  2175520.000000  2175520.000000\n",
       "mean        -0.013745       20.657237       78.836019      191.828998\n",
       "std          0.658348       17.472624       70.793496       17.726981\n",
       "min         -1.000000        1.000000        0.000000        0.000000\n",
       "25%          0.000000        6.000000        1.000000      185.000000\n",
       "50%          0.000000       16.000000       81.000000      202.000000\n",
       "75%          0.000000       32.000000      145.000000      204.000000\n",
       "max          1.000000      151.000000      204.000000      204.000000"
      ]
     },
     "execution_count": 10,
     "metadata": {},
     "output_type": "execute_result"
    }
   ],
   "source": [
    "cookie.describe()"
   ]
  },
  {
   "cell_type": "markdown",
   "metadata": {},
   "source": [
    "##How to execute IPython notebook with pyspark##\n",
    "\n",
    "PYSPARK_DRIVER_PYTHON=ipython PYSPARK_DRIVER_PYTHON_OPTS=\"notebook\" /Users/etu/spark-1.3.0/bin/pyspark\n"
   ]
  },
  {
   "cell_type": "code",
   "execution_count": 4,
   "metadata": {
    "collapsed": false
   },
   "outputs": [
    {
     "name": "stdout",
     "output_type": "stream",
     "text": [
      "Populating the interactive namespace from numpy and matplotlib\n",
      "<pyspark.context.SparkContext object at 0x112882390>\n"
     ]
    }
   ],
   "source": [
    "%pylab inline\n",
    "from pyspark import SparkContext\n",
    "#sc = SparkContext('local', 'pyspark')\n",
    "print sc"
   ]
  },
  {
   "cell_type": "code",
   "execution_count": 6,
   "metadata": {
    "collapsed": false
   },
   "outputs": [],
   "source": [
    "from pyspark.sql import SQLContext, Row\n",
    "sqlContext = SQLContext(sc)\n",
    "\n",
    "sc.addPyFile('/Users/etu/Desktop/kaggle/input/pyspark_csv.py') \n",
    "\n",
    "import os\n",
    "import pyspark_csv as pycsv\n",
    "\n",
    "plaintext_rdd = sc.textFile(\"/Users/etu/Desktop/kaggle/input/icdm/cookies_n20.tsv\")\n",
    "dataframe = pycsv.csvToDataFrame(sqlContext, plaintext_rdd, sep=\"\\t\")\n",
    "\n",
    "#df = sqlContext.parquetFile(\"/Users/etu/Desktop/kaggle/input/icdm/cookies.tsv\")\n",
    "#df.show()\n",
    "#parts = lines.map(lambda l: l.split(\"\\t\"))\n",
    "#people = parts.map(lambda p: Row(name=p[0], age=int(p[1])))"
   ]
  },
  {
   "cell_type": "code",
   "execution_count": 7,
   "metadata": {
    "collapsed": false
   },
   "outputs": [
    {
     "data": {
      "text/plain": [
       "pyspark.sql.dataframe.DataFrame"
      ]
     },
     "execution_count": 7,
     "metadata": {},
     "output_type": "execute_result"
    }
   ],
   "source": [
    "type(dataframe)"
   ]
  },
  {
   "cell_type": "code",
   "execution_count": 8,
   "metadata": {
    "collapsed": false
   },
   "outputs": [
    {
     "data": {
      "text/plain": [
       "StructType(List(StructField(drawbridge_handle,StringType,true),StructField(cookie_id,StringType,true),StructField(computer_os_type,StringType,true),StructField(browser_version,StringType,true),StructField(country,StringType,true),StructField(anonymous_c0,IntegerType,true),StructField(anonymous_c1,StringType,true),StructField(anonymous_c2,StringType,true),StructField(anonymous_5,IntegerType,true),StructField(anonymous_6,IntegerType,true),StructField(anonymous_7,IntegerType,true)))"
      ]
     },
     "execution_count": 8,
     "metadata": {},
     "output_type": "execute_result"
    }
   ],
   "source": [
    "dataframe.schema"
   ]
  },
  {
   "cell_type": "code",
   "execution_count": 9,
   "metadata": {
    "collapsed": false
   },
   "outputs": [
    {
     "data": {
      "text/plain": [
       "Row(drawbridge_handle=u'-1', cookie_id=u'id_10', computer_os_type=u'computer_os_type_203', browser_version=u'computer_browser_version_1158', country=u'country_146', anonymous_c0=1, anonymous_c1=u'anonymous_c1_1307', anonymous_c2=u'anonymous_c2_18778', anonymous_5=15, anonymous_6=1, anonymous_7=204)"
      ]
     },
     "execution_count": 9,
     "metadata": {},
     "output_type": "execute_result"
    }
   ],
   "source": [
    "dataframe.head()"
   ]
  },
  {
   "cell_type": "code",
   "execution_count": 10,
   "metadata": {
    "collapsed": false
   },
   "outputs": [
    {
     "data": {
      "text/plain": [
       "[Row(drawbridge_handle=u'-1', cookie_id=u'id_10', computer_os_type=u'computer_os_type_203', browser_version=u'computer_browser_version_1158', country=u'country_146', anonymous_c0=1, anonymous_c1=u'anonymous_c1_1307', anonymous_c2=u'anonymous_c2_18778', anonymous_5=15, anonymous_6=1, anonymous_7=204),\n",
       " Row(drawbridge_handle=u'handle_609762', cookie_id=u'id_100', computer_os_type=u'computer_os_type_133', browser_version=u'computer_browser_version_875', country=u'country_146', anonymous_c0=1, anonymous_c1=u'anonymous_c1_753', anonymous_c2=u'-1', anonymous_5=41, anonymous_6=1, anonymous_7=204),\n",
       " Row(drawbridge_handle=u'handle_1622320', cookie_id=u'id_1000', computer_os_type=u'computer_os_type_203', browser_version=u'computer_browser_version_36', country=u'country_146', anonymous_c0=0, anonymous_c1=u'anonymous_c1_906', anonymous_c2=u'anonymous_c2_751', anonymous_5=40, anonymous_6=140, anonymous_7=204)]"
      ]
     },
     "execution_count": 10,
     "metadata": {},
     "output_type": "execute_result"
    }
   ],
   "source": [
    "dataframe.take(3)"
   ]
  },
  {
   "cell_type": "code",
   "execution_count": null,
   "metadata": {
    "collapsed": true
   },
   "outputs": [],
   "source": []
  }
 ],
 "metadata": {
  "kernelspec": {
   "display_name": "Python 2",
   "language": "python",
   "name": "python2"
  },
  "language_info": {
   "codemirror_mode": {
    "name": "ipython",
    "version": 2
   },
   "file_extension": ".py",
   "mimetype": "text/x-python",
   "name": "python",
   "nbconvert_exporter": "python",
   "pygments_lexer": "ipython2",
   "version": "2.7.5"
  }
 },
 "nbformat": 4,
 "nbformat_minor": 0
}
