{
 "cells": [
  {
   "cell_type": "code",
   "execution_count": 1,
   "metadata": {
    "collapsed": false
   },
   "outputs": [
    {
     "name": "stdout",
     "output_type": "stream",
     "text": [
      "Congrats! 陳親瑜\n"
     ]
    }
   ],
   "source": [
    "#Lucky Draw for Dragon Restaruant exchange ticket 2015-07-10\n",
    "#-*- coding: utf-8 -*-\n",
    "\n",
    "import time\n",
    "import random\n",
    "\n",
    "#setting \n",
    "n_tickets = 1\n",
    "n_candidate = (\"Pei Chun Yu\", \"Yen-Ling Lin \", \"許睿慈\", \"Min-Hui Kuo\", \"Chia Li\", \"洪貝塔\", \"陳親瑜\", \"Ah nei\", \"丁小雨\")\n",
    "\n",
    "result=random.sample(n_candidate, 1)\n",
    "winner = result[0].decode('utf-8')\n",
    "\n",
    "print 'Congrats!', winner"
   ]
  },
  {
   "cell_type": "code",
   "execution_count": null,
   "metadata": {
    "collapsed": true
   },
   "outputs": [],
   "source": []
  },
  {
   "cell_type": "code",
   "execution_count": null,
   "metadata": {
    "collapsed": true
   },
   "outputs": [],
   "source": []
  }
 ],
 "metadata": {
  "kernelspec": {
   "display_name": "Python 2",
   "language": "python",
   "name": "python2"
  },
  "language_info": {
   "codemirror_mode": {
    "name": "ipython",
    "version": 2
   },
   "file_extension": ".py",
   "mimetype": "text/x-python",
   "name": "python",
   "nbconvert_exporter": "python",
   "pygments_lexer": "ipython2",
   "version": "2.7.10"
  }
 },
 "nbformat": 4,
 "nbformat_minor": 0
}
