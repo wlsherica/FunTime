{
 "cells": [
  {
   "cell_type": "markdown",
   "metadata": {},
   "source": [
    "##How to execute IPython nb w/t Pyspark##\n",
    "$PYSPARK_DRIVER_PYTHON=ipython PYSPARK_DRIVER_PYTHON_OPTS=\"notebook\" /Users/etu/spark-1.3.0/bin/pyspark"
   ]
  },
  {
   "cell_type": "markdown",
   "metadata": {},
   "source": [
    "##Spam Datasets##\n",
    "\n",
    "#### *Table 1:* articles-half-a.json \n",
    "#### *Table 2:* user-action-log.json -> userlog.txt\n",
    "#### *Table 3:* user-is_spam-half-a.json -> userSpam.txt"
   ]
  },
  {
   "cell_type": "code",
   "execution_count": 1,
   "metadata": {
    "collapsed": false
   },
   "outputs": [
    {
     "name": "stdout",
     "output_type": "stream",
     "text": [
      "Duration: 0:00:00.054512\n"
     ]
    }
   ],
   "source": [
    "#Data prepare\n",
    "import json\n",
    "import pandas as pd\n",
    "import os.path\n",
    "from datetime import datetime\n",
    "\n",
    "pd.set_option('display.max_colwidth', -1)\n",
    "\n",
    "inputfile='/Users/etu/Desktop/kaggle/spam/article_test.json'\n",
    "\n",
    "userlog = pd.read_csv('/Users/etu/Desktop/kaggle/spam/userlog.txt', sep=',', header=None, names=['author', 'op_at', 'op_date', 'action'])\n",
    "userspam = pd.read_csv('/Users/etu/Desktop/kaggle/spam/userSpam.txt', sep=',', header=None, names=['spam_author'])\n",
    "\n",
    "start_time = datetime.now()\n",
    "\n",
    "#try:\n",
    "#    with open(inputfile) as file:\n",
    "#        data = json.load(file)\n",
    "#except IOError as e:\n",
    "#    print \"Unable to find Input File\"\n",
    "\n",
    "#file.close()\n",
    "\n",
    "df = pd.read_json(inputfile)\n",
    "\n",
    "#with open(outputfile, 'w') as outf:\n",
    "#    for item in data:\n",
    "#        result = [item['author'], str(item['operate_at']), item['operate_date'], item['action']]\n",
    "#        outf.writelines(\"%s\\n\" % \",\".join(result))\n",
    "\n",
    "#outf.close()\n",
    "\n",
    "end_time = datetime.now()\n",
    "print('Duration: {}'.format(end_time - start_time))"
   ]
  },
  {
   "cell_type": "code",
   "execution_count": 2,
   "metadata": {
    "collapsed": false
   },
   "outputs": [
    {
     "name": "stdout",
     "output_type": "stream",
     "text": [
      "Martin Elias\n"
     ]
    }
   ],
   "source": [
    "#df.head()\n",
    "from bs4 import BeautifulSoup\n",
    "source_code = \"\"\"<span class=\"UserName\"><a href=\"#\">Martin Elias</a></span>\"\"\"\n",
    "soup = BeautifulSoup(source_code, \"html.parser\")\n",
    "\n",
    "print soup.a.string"
   ]
  },
  {
   "cell_type": "code",
   "execution_count": 3,
   "metadata": {
    "collapsed": false
   },
   "outputs": [
    {
     "data": {
      "text/html": [
       "<div>\n",
       "<table border=\"1\" class=\"dataframe\">\n",
       "  <thead>\n",
       "    <tr style=\"text-align: right;\">\n",
       "      <th></th>\n",
       "      <th>author</th>\n",
       "      <th>category</th>\n",
       "      <th>comment_count</th>\n",
       "      <th>comment_ids</th>\n",
       "      <th>content</th>\n",
       "      <th>hits</th>\n",
       "      <th>is_spam</th>\n",
       "      <th>post_at</th>\n",
       "      <th>post_date</th>\n",
       "      <th>tags</th>\n",
       "      <th>title</th>\n",
       "    </tr>\n",
       "  </thead>\n",
       "  <tbody>\n",
       "    <tr>\n",
       "      <th>0</th>\n",
       "      <td>4cdd51df96ca41b1cef7fd8bd49d755e3a66f5b3</td>\n",
       "      <td>數位生活</td>\n",
       "      <td>0</td>\n",
       "      <td>[]</td>\n",
       "      <td>之前也有跟各位推薦過可以將照片上傳的空間,保存相片的優質網路硬碟 Onedrive,但是Onedrive改版之後竟然出現略過上傳非照片的項目，所以今天我們來使用另一款容量更大，而且不挑照片的雲端空間,首先，你要先註冊mega,這邊可以下載：,點我,https://itunes.apple.com/tw/app/mega/id706857885?l=zh&amp;mt=8,或是直接在網頁註冊與登錄,https://mega.co.nz,進入app之後，就會顯示資料夾，,然後我們要點選最右邊的設定，就會出現你的資料，你可以看到mega很大方的直接給你50GB,選擇「相機上傳」後，再選擇「啟用相機上傳」,接著他就會讀取你所有的照片，此時建議你直接將「所有照片」打勾,順便將下面的「上傳影片」、「使用蜂窩連結」（吃到飽用戶才可以）、還有「定期在後台運行」都打開,接著他就會自己啟動上傳了，而且會建立一個「camera uploads」的資料夾,點進去就可以看到妳現在的上傳進度,你也可以選取下方標籤的照片,他會有一個時間排序，但是沒有設計得很好就是了。,但是使用這類的雲端空間還有一個最大的好處，就是你可以直接用電腦的瀏覽器開啟你的照片：,當然也可以全部下載回電腦，便於整理還有備份,我特別安裝windows的版本給大家看一下：,下載或是上傳是會有背景工具,你就可以直接在檔案總管裡面編輯他了,是不是很方便呢？</td>\n",
       "      <td>1587</td>\n",
       "      <td>0</td>\n",
       "      <td>2015-04-30 11:01:36</td>\n",
       "      <td>2015-04-30T19:01:36+08:00</td>\n",
       "      <td>[iOS, 雲端, 照片, 備份]</td>\n",
       "      <td>[iOS]雲端空間推薦 Mega</td>\n",
       "    </tr>\n",
       "  </tbody>\n",
       "</table>\n",
       "</div>"
      ],
      "text/plain": [
       "                                     author category  comment_count  \\\n",
       "0  4cdd51df96ca41b1cef7fd8bd49d755e3a66f5b3  數位生活     0               \n",
       "\n",
       "  comment_ids  \\\n",
       "0  []           \n",
       "\n",
       "                                                                                                                                                                                                                                                                                                                                                                                                                                                                                                                                                                                                                     content  \\\n",
       "0  之前也有跟各位推薦過可以將照片上傳的空間,保存相片的優質網路硬碟 Onedrive,但是Onedrive改版之後竟然出現略過上傳非照片的項目，所以今天我們來使用另一款容量更大，而且不挑照片的雲端空間,首先，你要先註冊mega,這邊可以下載：,點我,https://itunes.apple.com/tw/app/mega/id706857885?l=zh&mt=8,或是直接在網頁註冊與登錄,https://mega.co.nz,進入app之後，就會顯示資料夾，,然後我們要點選最右邊的設定，就會出現你的資料，你可以看到mega很大方的直接給你50GB,選擇「相機上傳」後，再選擇「啟用相機上傳」,接著他就會讀取你所有的照片，此時建議你直接將「所有照片」打勾,順便將下面的「上傳影片」、「使用蜂窩連結」（吃到飽用戶才可以）、還有「定期在後台運行」都打開,接著他就會自己啟動上傳了，而且會建立一個「camera uploads」的資料夾,點進去就可以看到妳現在的上傳進度,你也可以選取下方標籤的照片,他會有一個時間排序，但是沒有設計得很好就是了。,但是使用這類的雲端空間還有一個最大的好處，就是你可以直接用電腦的瀏覽器開啟你的照片：,當然也可以全部下載回電腦，便於整理還有備份,我特別安裝windows的版本給大家看一下：,下載或是上傳是會有背景工具,你就可以直接在檔案總管裡面編輯他了,是不是很方便呢？   \n",
       "\n",
       "   hits  is_spam             post_at                  post_date  \\\n",
       "0  1587  0       2015-04-30 11:01:36  2015-04-30T19:01:36+08:00   \n",
       "\n",
       "                tags              title  \n",
       "0  [iOS, 雲端, 照片, 備份]  [iOS]雲端空間推薦 Mega   "
      ]
     },
     "execution_count": 3,
     "metadata": {},
     "output_type": "execute_result"
    }
   ],
   "source": [
    "#df.head()\n",
    "#.decode('utf8')\n",
    "str_01 = df['content'][1]\n",
    "soup_01 = BeautifulSoup(str_01, \"html.parser\")\n",
    "#for match in soup_01.findAll('span'):\n",
    "#    match.unwrap()\n",
    "test = soup_01.text.strip()\n",
    "\n",
    "lines = (line.strip() for line in test.splitlines())\n",
    "chunks = (phrase.strip() for line in lines for phrase in line.split(\"  \"))\n",
    "text1 = ','.join(chunk for chunk in chunks if chunk)\n",
    "#print text1.encode('utf-8')\n",
    "\n",
    "def convert2str(inputStr):\n",
    "    soup_00 = BeautifulSoup(inputStr, \"html.parser\")\n",
    "    test = soup_00.text.strip()\n",
    "    lines = (line.strip() for line in test.splitlines())\n",
    "    chunks = (phrase.strip() for line in lines for phrase in line.split(\"  \"))\n",
    "    clean_str = ','.join(chunk for chunk in chunks if chunk)\n",
    "    return clean_str\n",
    "\n",
    "df['content'] = df['content'].apply(convert2str)\n",
    "df.head(1)"
   ]
  },
  {
   "cell_type": "code",
   "execution_count": 4,
   "metadata": {
    "collapsed": false
   },
   "outputs": [
    {
     "name": "stdout",
     "output_type": "stream",
     "text": [
      "Duration: 0:00:35.149159\n"
     ]
    }
   ],
   "source": [
    "#read article json in 35s\n",
    "article_all = '/Users/etu/Desktop/kaggle/spam/articles-half-a.json'\n",
    "start_time = datetime.now()\n",
    "\n",
    "try:\n",
    "    with open(article_all) as file:\n",
    "        data = json.load(file)\n",
    "except IOError as e:\n",
    "    print \"Unable to find Input File\"\n",
    "\n",
    "file.close()\n",
    "#json -> list\n",
    "end_time = datetime.now()\n",
    "print('Duration: {}'.format(end_time - start_time))"
   ]
  },
  {
   "cell_type": "code",
   "execution_count": 5,
   "metadata": {
    "collapsed": false
   },
   "outputs": [
    {
     "name": "stdout",
     "output_type": "stream",
     "text": [
      "Duration: 0:16:22.870330\n"
     ]
    },
    {
     "name": "stderr",
     "output_type": "stream",
     "text": [
      "/Library/Python/2.7/site-packages/IPython/kernel/__main__.py:41: SettingWithCopyWarning: \n",
      "A value is trying to be set on a copy of a slice from a DataFrame.\n",
      "Try using .loc[row_indexer,col_indexer] = value instead\n",
      "\n",
      "See the the caveats in the documentation: http://pandas.pydata.org/pandas-docs/stable/indexing.html#indexing-view-versus-copy\n"
     ]
    }
   ],
   "source": [
    "import numpy as np\n",
    "import re \n",
    "\n",
    "start_time = datetime.now()\n",
    "\n",
    "#test= data[0]\n",
    "#article_df = pd.DataFrame.from_dict(test, orient='index')\n",
    "\n",
    "def convert2str0(dfs):\n",
    "    inputStr = dfs['content']\n",
    "    soup_00 = BeautifulSoup(inputStr, \"html.parser\")\n",
    "    test = soup_00.text.strip()\n",
    "    lines = (line.strip() for line in test.splitlines())\n",
    "    chunks = (phrase.strip() for line in lines for phrase in line.split(\"  \"))\n",
    "    clean_str = ','.join(chunk for chunk in chunks if chunk)\n",
    "    return clean_str\n",
    "\n",
    "def convert2str2(dfs):\n",
    "    inputStr = dfs['content']\n",
    "    soup_00 = BeautifulSoup(inputStr, \"html.parser\")\n",
    "    test = soup_00.findAll(text=True)\n",
    "    test2 = ' '.join(re.sub(\",+\" , \"\", chunk.replace('\\n', '').replace(' ', '')) for chunk in test if chunk)\n",
    "    test3 =''.join(test2.split())\n",
    "    return test3  \n",
    " \n",
    "article_df = pd.DataFrame(data)\n",
    "\n",
    "#Remove None index\n",
    "a_df = article_df.dropna(axis=0, how='any', thresh=None, subset=None, inplace=False)\n",
    "\n",
    "#query \n",
    "#print(article_df.loc[article_df['is_spam'] ==0])\n",
    "\n",
    "#sampling\n",
    "#rows = np.random.choice(article_df.index.values, 3)\n",
    "#sampled_df = article_df.ix[rows]\n",
    "\n",
    "#article_df['content'] = article_df['content'].head(10).apply(convert2str2)\n",
    "\n",
    "#19min\n",
    "a_df['content'] = a_df.apply(convert2str0, axis=1)\n",
    "\n",
    "#a_df['content'] = a_df.apply(convert2str0)\n",
    "\n",
    "#sampled_df['content'].apply(convert2str2)\n",
    "\n",
    "#article_df.transpose()\n",
    "\n",
    "#dead end\n",
    "#df = pd.read_json(inputfile)\n",
    "\n",
    "#with open(outputfile, 'w') as outf:\n",
    "#    for item in data:\n",
    "#        result = [item['author'], str(item['operate_at']), item['operate_date'], item['action']]\n",
    "#        outf.writelines(\"%s\\n\" % \",\".join(result))\n",
    "\n",
    "#outf.close()\n",
    "end_time = datetime.now()\n",
    "print('Duration: {}'.format(end_time - start_time))"
   ]
  },
  {
   "cell_type": "code",
   "execution_count": 8,
   "metadata": {
    "collapsed": false
   },
   "outputs": [
    {
     "name": "stdout",
     "output_type": "stream",
     "text": [
      "66760\n",
      "66759\n"
     ]
    }
   ],
   "source": [
    "#import re\n",
    "#a = article_df.loc[[0]]['content']\n",
    "\n",
    "a_df = article_df.dropna(axis=0, how='any', thresh=None, subset=None, inplace=False)\n",
    "\n",
    "print article_df['author'].count()\n",
    "print a_df['author'].count()\n",
    "\n",
    "#print article_df.loc[[6736]]['content']\n",
    "#print a_df.loc[[6736]]['content']\n",
    "\n",
    "\n",
    "#def cleanhtml(raw_html):\n",
    "#  cleanr =re.compile('<.*?>')\n",
    "#  cleantext = re.sub(cleanr,'', raw_html)\n",
    "#  return cleantext"
   ]
  },
  {
   "cell_type": "code",
   "execution_count": 6,
   "metadata": {
    "collapsed": false
   },
   "outputs": [
    {
     "data": {
      "text/plain": [
       "298    艾灸扶陽大法,常常聽人提到要補陽，壯陽，扶陽，那麼究竟什麼是陽氣呢？對我們有什麼作用呢？我們為什麼要補充陽氣呢？ 人體的氣充斥於全身無處不在，按分布及特點不同，可分為元氣，宗氣，營氣，衛氣，中氣五氣,這些都統稱為陽氣。,陽氣對人體起到溫薰臟腑，濡養筋骨的作用，就如陽光普照萬物，植物才能進行光合作用，茁壯成長。陽氣是維持人體生命正常代謝所具備的能量，人一生的陽氣是由弱變強再逐漸衰減枯竭的一個過程。陽氣足則體健，陽氣弱則體衰，陽氣竭則身亡。因此，陽氣決定著人的健康與生命。,現代人由於工作及生活的嚴重壓力，或其自身所有的不良嗜好，經常會出現渾身無力，精神疲乏，失眠健忘，脾氣暴躁等亞健康狀況，甚至有的女性不到四十便提前進入更年期，這些疾病都是由於陽氣消耗過度所致。那麼陽氣是怎麼被消耗掉的呢，由於運動，思考，勞累，精神損耗等因素，都在不知不覺中上點點滴滴的消耗我們的陽氣，當陽氣透支的時候，生命也就畫上了句號。,補陽，壯陽就是為順應自然規律，補充日常消耗的陽氣，使身體達到一個陰陽平衡的狀態，人的生命力才能更加旺盛。艾灸所用的艾草是一種純陽性植物，經過燃燒後，作用力更強，是補充陽氣，延年益壽的最佳捷徑。,古人雲：\"家有三年艾，郎中不用來\"，說的是使用艾灸進行自我調治。,中醫理論認為，艾灸補氣助陽，溫益脾腎，能使人體元氣充足，精力旺盛，抗衰延年。長期施灸保健穴位，還能夠達到調和陰陽，健脾和胃，固本培元，補中益氣，強壯全身，祛病延年的效果。,每當二十四節氣之時，要灸一下關元或者氣海穴。人感天地之氣而生，必然受天地之氣影響。節氣對天地氣機的變化極是劇烈，此時當溫灸下丹田以固根本，可收養生之妙用。,艾灸達人Facebook介紹,達人成立讓艾傳出去FB粉絲專頁,喜歡的記得要去按下讚喔^^粉絲專頁的資訊跟部落格不一樣,加入後可以即時收到更新資訊~喜歡艾灸的朋友可以加入喔!,另有艾灸達人養身抗老研究院 FB社團,歡迎多多加入喔^^\n",
       "dtype: object"
      ]
     },
     "execution_count": 6,
     "metadata": {},
     "output_type": "execute_result"
    }
   ],
   "source": [
    "a_df.loc[[298]].apply(convert2str0, axis=1)"
   ]
  },
  {
   "cell_type": "code",
   "execution_count": 7,
   "metadata": {
    "collapsed": false
   },
   "outputs": [
    {
     "data": {
      "text/html": [
       "<div>\n",
       "<table border=\"1\" class=\"dataframe\">\n",
       "  <thead>\n",
       "    <tr style=\"text-align: right;\">\n",
       "      <th></th>\n",
       "      <th>author</th>\n",
       "      <th>category</th>\n",
       "      <th>comment_count</th>\n",
       "      <th>comment_ids</th>\n",
       "      <th>content</th>\n",
       "      <th>hits</th>\n",
       "      <th>is_spam</th>\n",
       "      <th>post_at</th>\n",
       "      <th>post_date</th>\n",
       "      <th>tags</th>\n",
       "      <th>title</th>\n",
       "    </tr>\n",
       "  </thead>\n",
       "  <tbody>\n",
       "    <tr>\n",
       "      <th>0</th>\n",
       "      <td>4cdd51df96ca41b1cef7fd8bd49d755e3a66f5b3</td>\n",
       "      <td>數位生活</td>\n",
       "      <td>0</td>\n",
       "      <td>[]</td>\n",
       "      <td>之前也有跟各位推薦過可以將照片上傳的空間,保存相片的優質網路硬碟 Onedrive,但是Onedrive改版之後竟然出現略過上傳非照片的項目，所以今天我們來使用另一款容量更大，而且不挑照片的雲端空間,首先，你要先註冊mega,這邊可以下載：,點我,https://itunes.apple.com/tw/app/mega/id706857885?l=zh&amp;mt=8,或是直接在網頁註冊與登錄,https://mega.co.nz,進入app之後，就會顯示資料夾，,然後我們要點選最右邊的設定，就會出現你的資料，你可以看到mega很大方的直接給你50GB,選擇「相機上傳」後，再選擇「啟用相機上傳」,接著他就會讀取你所有的照片，此時建議你直接將「所有照片」打勾,順便將下面的「上傳影片」、「使用蜂窩連結」（吃到飽用戶才可以）、還有「定期在後台運行」都打開,接著他就會自己啟動上傳了，而且會建立一個「camera uploads」的資料夾,點進去就可以看到妳現在的上傳進度,你也可以選取下方標籤的照片,他會有一個時間排序，但是沒有設計得很好就是了。,但是使用這類的雲端空間還有一個最大的好處，就是你可以直接用電腦的瀏覽器開啟你的照片：,當然也可以全部下載回電腦，便於整理還有備份,我特別安裝windows的版本給大家看一下：,下載或是上傳是會有背景工具,你就可以直接在檔案總管裡面編輯他了,是不是很方便呢？</td>\n",
       "      <td>1587</td>\n",
       "      <td>0</td>\n",
       "      <td>1430391696</td>\n",
       "      <td>2015-04-30T19:01:36+08:00</td>\n",
       "      <td>[iOS, 雲端, 照片, 備份]</td>\n",
       "      <td>[iOS]雲端空間推薦 Mega</td>\n",
       "    </tr>\n",
       "  </tbody>\n",
       "</table>\n",
       "</div>"
      ],
      "text/plain": [
       "                                     author category  comment_count  \\\n",
       "0  4cdd51df96ca41b1cef7fd8bd49d755e3a66f5b3  數位生活     0               \n",
       "\n",
       "  comment_ids  \\\n",
       "0  []           \n",
       "\n",
       "                                                                                                                                                                                                                                                                                                                                                                                                                                                                                                                                                                                                                     content  \\\n",
       "0  之前也有跟各位推薦過可以將照片上傳的空間,保存相片的優質網路硬碟 Onedrive,但是Onedrive改版之後竟然出現略過上傳非照片的項目，所以今天我們來使用另一款容量更大，而且不挑照片的雲端空間,首先，你要先註冊mega,這邊可以下載：,點我,https://itunes.apple.com/tw/app/mega/id706857885?l=zh&mt=8,或是直接在網頁註冊與登錄,https://mega.co.nz,進入app之後，就會顯示資料夾，,然後我們要點選最右邊的設定，就會出現你的資料，你可以看到mega很大方的直接給你50GB,選擇「相機上傳」後，再選擇「啟用相機上傳」,接著他就會讀取你所有的照片，此時建議你直接將「所有照片」打勾,順便將下面的「上傳影片」、「使用蜂窩連結」（吃到飽用戶才可以）、還有「定期在後台運行」都打開,接著他就會自己啟動上傳了，而且會建立一個「camera uploads」的資料夾,點進去就可以看到妳現在的上傳進度,你也可以選取下方標籤的照片,他會有一個時間排序，但是沒有設計得很好就是了。,但是使用這類的雲端空間還有一個最大的好處，就是你可以直接用電腦的瀏覽器開啟你的照片：,當然也可以全部下載回電腦，便於整理還有備份,我特別安裝windows的版本給大家看一下：,下載或是上傳是會有背景工具,你就可以直接在檔案總管裡面編輯他了,是不是很方便呢？   \n",
       "\n",
       "   hits  is_spam     post_at                  post_date               tags  \\\n",
       "0  1587  0        1430391696  2015-04-30T19:01:36+08:00  [iOS, 雲端, 照片, 備份]   \n",
       "\n",
       "               title  \n",
       "0  [iOS]雲端空間推薦 Mega   "
      ]
     },
     "execution_count": 7,
     "metadata": {},
     "output_type": "execute_result"
    }
   ],
   "source": [
    "a_df.head(1)"
   ]
  },
  {
   "cell_type": "code",
   "execution_count": 10,
   "metadata": {
    "collapsed": false
   },
   "outputs": [
    {
     "data": {
      "image/png": "[encoded data removed]",
      "text/plain": [
       "<matplotlib.figure.Figure at 0x161a3ca90>"
      ]
     },
     "metadata": {},
     "output_type": "display_data"
    }
   ],
   "source": [
    "%matplotlib inline\n",
    "import seaborn as sns\n",
    "from scipy import stats, integrate\n",
    "sns.set(color_codes=True)\n",
    "\n",
    "#sns.distplot(x, kde=False, rug=True);\n",
    "sns.distplot(a_df['hits'], bins=20, kde=False, rug=True);"
   ]
  },
  {
   "cell_type": "code",
   "execution_count": 244,
   "metadata": {
    "collapsed": false
   },
   "outputs": [
    {
     "data": {
      "image/png": "[encoded data removed]",
      "text/plain": [
       "<matplotlib.figure.Figure at 0x12d93e0d0>"
      ]
     },
     "metadata": {},
     "output_type": "display_data"
    }
   ],
   "source": [
    "sns.boxplot(x=\"is_spam\", y=\"hits\", data=a_df);"
   ]
  },
  {
   "cell_type": "markdown",
   "metadata": {},
   "source": [
    "###Deal with text, remove numer and special characters###"
   ]
  },
  {
   "cell_type": "code",
   "execution_count": 11,
   "metadata": {
    "collapsed": false
   },
   "outputs": [
    {
     "name": "stderr",
     "output_type": "stream",
     "text": [
      "Building prefix dict from /Library/Python/2.7/site-packages/jieba/dict.txt ...\n",
      "DEBUG:jieba:Building prefix dict from /Library/Python/2.7/site-packages/jieba/dict.txt ...\n",
      "Loading model from cache /var/folders/v4/nb8rblts6x39m04_nsgw26vh0000gp/T/jieba.cache\n",
      "DEBUG:jieba:Loading model from cache /var/folders/v4/nb8rblts6x39m04_nsgw26vh0000gp/T/jieba.cache\n",
      "Loading model cost 0.665 seconds.\n",
      "DEBUG:jieba:Loading model cost 0.665 seconds.\n",
      "Prefix dict has been built succesfully.\n",
      "DEBUG:jieba:Prefix dict has been built succesfully.\n"
     ]
    },
    {
     "name": "stdout",
     "output_type": "stream",
     "text": [
      "Input： 部落格需要大家一起來推廣，歡迎加入我們的行列！Yes, you can.\n",
      "Output 精確模式 Full Mode：\n",
      "部落\n",
      "需要\n",
      "大家\n",
      "一起\n",
      "推廣\n",
      "歡迎\n",
      "加入\n",
      "我們\n",
      "行列\n",
      "Yes\n",
      "you\n",
      "can\n"
     ]
    }
   ],
   "source": [
    "import jieba\n",
    "\n",
    "sentence = \"部落格需要大家一起來推廣，歡迎加入我們的行列！Yes, you can.\"\n",
    "print \"Input：\", sentence\n",
    "words = jieba.cut(sentence, cut_all=False)\n",
    "print \"Output 精確模式 Full Mode：\"\n",
    "for word in words:\n",
    "    if len(word) > 1:\n",
    "        print word"
   ]
  },
  {
   "cell_type": "code",
   "execution_count": 293,
   "metadata": {
    "collapsed": false
   },
   "outputs": [
    {
     "data": {
      "text/plain": [
       "0    iOS,雲端,空間,推薦,Mega\n",
       "1    車諾,核災,現況         \n",
       "Name: title, dtype: object"
      ]
     },
     "execution_count": 293,
     "metadata": {},
     "output_type": "execute_result"
    }
   ],
   "source": [
    "def cutTitle(inputstring):\n",
    "    s = re.sub(r'\\w*\\d\\w*', \"\", inputstring).strip()\n",
    "    title_0 = jieba.cut(s, cut_all=False)\n",
    "    title_1 = [i for i in title_0 if len(i) >1]\n",
    "    title_2 = \",\".join(j for j in title_1)\n",
    "    return title_2\n",
    "\n",
    "a_df['title'].head(2).apply(cutTitle)"
   ]
  },
  {
   "cell_type": "code",
   "execution_count": 32,
   "metadata": {
    "collapsed": false
   },
   "outputs": [
    {
     "name": "stdout",
     "output_type": "stream",
     "text": [
      "Duration: 0:00:02.005491\n"
     ]
    },
    {
     "name": "stderr",
     "output_type": "stream",
     "text": [
      "/Library/Python/2.7/site-packages/IPython/kernel/__main__.py:17: SettingWithCopyWarning: \n",
      "A value is trying to be set on a copy of a slice from a DataFrame.\n",
      "Try using .loc[row_indexer,col_indexer] = value instead\n",
      "\n",
      "See the the caveats in the documentation: http://pandas.pydata.org/pandas-docs/stable/indexing.html#indexing-view-versus-copy\n"
     ]
    }
   ],
   "source": [
    "#Create new df for tf file n=66765\n",
    "title_df = a_df[['author', 'is_spam', 'title']]\n",
    "\n",
    "df0 = title_df.head(4000)\n",
    "\n",
    "def cutTitleDF(df):\n",
    "    inputstring = df['title']\n",
    "    s0 = re.sub(r'[?|$|.|!|+|#|&|@]',r'',inputstring)\n",
    "    s = re.sub(r'\\w*\\d\\w*', \"\", s0).strip()\n",
    "    title_0 = jieba.cut(s, cut_all=False)\n",
    "    title_1 = [i for i in title_0 if len(i) >1]\n",
    "    title_2 = \",\".join(j for j in title_1)\n",
    "    return title_2\n",
    "\n",
    "start_time = datetime.now()\n",
    "\n",
    "df0['title'] = df0.apply(cutTitleDF, axis=1)\n",
    "\n",
    "end_time = datetime.now()\n",
    "print('Duration: {}'.format(end_time - start_time))"
   ]
  },
  {
   "cell_type": "code",
   "execution_count": 33,
   "metadata": {
    "collapsed": false
   },
   "outputs": [
    {
     "name": "stdout",
     "output_type": "stream",
     "text": [
      "Duration: 0:00:08.440692\n"
     ]
    },
    {
     "name": "stderr",
     "output_type": "stream",
     "text": [
      "/Library/Python/2.7/site-packages/IPython/kernel/__main__.py:3: SettingWithCopyWarning: \n",
      "A value is trying to be set on a copy of a slice from a DataFrame.\n",
      "Try using .loc[row_indexer,col_indexer] = value instead\n",
      "\n",
      "See the the caveats in the documentation: http://pandas.pydata.org/pandas-docs/stable/indexing.html#indexing-view-versus-copy\n",
      "  app.launch_new_instance()\n"
     ]
    }
   ],
   "source": [
    "start_time = datetime.now()\n",
    "\n",
    "df0['index1'] = df0.index\n",
    "\n",
    "trans_title = pd.concat([pd.Series(str(row['is_spam'])+'#'+str(row['index1']), row['title'].split(',')) \n",
    "                         for _, row in df0.iterrows()]).reset_index()\n",
    "trans_title.columns = ['tf', 'is_spam']\n",
    "\n",
    "s = trans_title['is_spam'].str.split('#').apply(pd.Series, 1)\n",
    "s.columns = ['is_spam','index1']\n",
    "#trans_title.join(s.apply(lambda x: pd.Series(x.split('#'))))\n",
    "\n",
    "del trans_title['is_spam']\n",
    "sim_title = trans_title.join(s)\n",
    "\n",
    "end_time = datetime.now()\n",
    "print('Duration: {}'.format(end_time - start_time))"
   ]
  },
  {
   "cell_type": "code",
   "execution_count": 42,
   "metadata": {
    "collapsed": false
   },
   "outputs": [
    {
     "name": "stdout",
     "output_type": "stream",
     "text": [
      "Duration: 0:00:02.774159\n"
     ]
    }
   ],
   "source": [
    "#sim_title with 516582 count\n",
    "#pd.pivot_table(sim_title, columns='tf', values='is_spam')\n",
    "#.fillna(0)\n",
    "start_time = datetime.now()\n",
    "\n",
    "sim_title['score'] = 1\n",
    "transpose_title = pd.pivot_table(sim_title ,values='score', index='index1',columns='tf').fillna(0)\n",
    "\n",
    "#transpose_title = sim_title.pivot('index1', 'tf', 'score').fillna(0)\n",
    "\n",
    "#sim_title.pivot(index='index1', columns='tf', values='score').fillna(0)\n",
    "end_time = datetime.now()\n",
    "print('Duration: {}'.format(end_time - start_time))"
   ]
  },
  {
   "cell_type": "code",
   "execution_count": 44,
   "metadata": {
    "collapsed": false
   },
   "outputs": [
    {
     "data": {
      "text/plain": [
       "Index([        u'AB',        u'ABC',         u'AD', u'ADDICITION',\n",
       "        u'ADORATION',        u'AFP',      u'AGORA',      u'AHAVA',\n",
       "              u'AIR',    u'AJPEACE', \n",
       "       ...\n",
       "               u'鼻影',        u'鼻漁港',         u'鼻祖',         u'齊全',\n",
       "               u'齒模',         u'龍少',        u'龍潭儷',         u'龍王',\n",
       "               u'龍貓',         u'龐龐'],\n",
       "      dtype='object', name=u'tf', length=11985)"
      ]
     },
     "execution_count": 44,
     "metadata": {},
     "output_type": "execute_result"
    }
   ],
   "source": [
    "#transpose_title.join(df0['is_spam'])\n",
    "#df0['title'].iloc[1011]\n",
    "\n",
    "del transpose_title['']\n",
    "transpose_title.columns"
   ]
  },
  {
   "cell_type": "code",
   "execution_count": null,
   "metadata": {
    "collapsed": true
   },
   "outputs": [],
   "source": [
    "import pandas as pd\n",
    "import pylab as pl\n",
    "from sklearn import metrics\n",
    "from sklearn.metrics import confusion_matrix\n",
    "from sklearn.neighbors import KNeighborsClassifier\n",
    " \n",
    "#df = pd.read_csv(\"https://s3.amazonaws.com/demo-datasets/wine.csv\")\n",
    " \n",
    "test_idx = np.random.uniform(0, 1, len(df)) <= 0.3\n",
    "train = df[test_idx==True]\n",
    "test = df[test_idx==False]\n",
    " \n",
    "features = ['density', 'sulphates', 'residual_sugar']\n",
    " \n",
    "results = []\n",
    "for n in range(1, 51, 2):\n",
    "    clf = KNeighborsClassifier(n_neighbors=n)\n",
    "    clf.fit(train[features], train['high_quality'])\n",
    "    preds = clf.predict(test[features])\n",
    "    accuracy = np.where(preds==test['high_quality'], 1, 0).sum() / float(len(test))\n",
    "    print \"Neighbors: %d, Accuracy: %3f\" % (n, accuracy)\n",
    " \n",
    "    results.append([n, accuracy])\n",
    " \n",
    "results = pd.DataFrame(results, columns=[\"n\", \"accuracy\"])\n",
    " \n",
    "\n",
    "#con_mat = confusion_matrix(true_values, pred_values, [0, 1])\n",
    "con_mat = confusion_matrix(test['high_quality'], preds)\n",
    "print('K Nearest Neighbor Classifier:\\n {}\\n'.format(metrics.classification_report(test['high_quality'], preds)))"
   ]
  },
  {
   "cell_type": "code",
   "execution_count": 155,
   "metadata": {
    "collapsed": false
   },
   "outputs": [
    {
     "name": "stdout",
     "output_type": "stream",
     "text": [
      "Total Number: 66759\n",
      "Number of Spams: 57547\n",
      "86.20%\n"
     ]
    }
   ],
   "source": [
    "total_cnt = a_df['is_spam'].count()\n",
    "spam_cnt = a_df['is_spam'].sum()\n",
    "print \"Total Number: %s\"%(total_cnt)\n",
    "print \"Number of Spams: %s\"%(spam_cnt)\n",
    "print \"%.2f%%\"%(spam_cnt/float(total_cnt)*100)"
   ]
  },
  {
   "cell_type": "code",
   "execution_count": 158,
   "metadata": {
    "collapsed": false
   },
   "outputs": [
    {
     "data": {
      "text/html": [
       "<div>\n",
       "<table border=\"1\" class=\"dataframe\">\n",
       "  <thead>\n",
       "    <tr style=\"text-align: right;\">\n",
       "      <th></th>\n",
       "      <th></th>\n",
       "      <th>comment_count</th>\n",
       "      <th>hits</th>\n",
       "      <th>post_at</th>\n",
       "    </tr>\n",
       "    <tr>\n",
       "      <th>is_spam</th>\n",
       "      <th></th>\n",
       "      <th></th>\n",
       "      <th></th>\n",
       "      <th></th>\n",
       "    </tr>\n",
       "  </thead>\n",
       "  <tbody>\n",
       "    <tr>\n",
       "      <th rowspan=\"8\" valign=\"top\">0</th>\n",
       "      <th>count</th>\n",
       "      <td>9212.000000</td>\n",
       "      <td>9212.000000</td>\n",
       "      <td>9.212000e+03</td>\n",
       "    </tr>\n",
       "    <tr>\n",
       "      <th>mean</th>\n",
       "      <td>2.365936</td>\n",
       "      <td>3273.349870</td>\n",
       "      <td>1.429139e+09</td>\n",
       "    </tr>\n",
       "    <tr>\n",
       "      <th>std</th>\n",
       "      <td>14.071654</td>\n",
       "      <td>14905.489959</td>\n",
       "      <td>7.548597e+05</td>\n",
       "    </tr>\n",
       "    <tr>\n",
       "      <th>min</th>\n",
       "      <td>0.000000</td>\n",
       "      <td>0.000000</td>\n",
       "      <td>1.427818e+09</td>\n",
       "    </tr>\n",
       "    <tr>\n",
       "      <th>25%</th>\n",
       "      <td>0.000000</td>\n",
       "      <td>14.000000</td>\n",
       "      <td>1.428497e+09</td>\n",
       "    </tr>\n",
       "    <tr>\n",
       "      <th>50%</th>\n",
       "      <td>0.000000</td>\n",
       "      <td>196.000000</td>\n",
       "      <td>1.429146e+09</td>\n",
       "    </tr>\n",
       "    <tr>\n",
       "      <th>75%</th>\n",
       "      <td>0.000000</td>\n",
       "      <td>1491.250000</td>\n",
       "      <td>1.429776e+09</td>\n",
       "    </tr>\n",
       "    <tr>\n",
       "      <th>max</th>\n",
       "      <td>808.000000</td>\n",
       "      <td>659623.000000</td>\n",
       "      <td>1.430409e+09</td>\n",
       "    </tr>\n",
       "    <tr>\n",
       "      <th rowspan=\"8\" valign=\"top\">1</th>\n",
       "      <th>count</th>\n",
       "      <td>57547.000000</td>\n",
       "      <td>57547.000000</td>\n",
       "      <td>5.754700e+04</td>\n",
       "    </tr>\n",
       "    <tr>\n",
       "      <th>mean</th>\n",
       "      <td>0.000730</td>\n",
       "      <td>52.401898</td>\n",
       "      <td>1.429368e+09</td>\n",
       "    </tr>\n",
       "    <tr>\n",
       "      <th>std</th>\n",
       "      <td>0.041680</td>\n",
       "      <td>2933.280888</td>\n",
       "      <td>6.704956e+05</td>\n",
       "    </tr>\n",
       "    <tr>\n",
       "      <th>min</th>\n",
       "      <td>0.000000</td>\n",
       "      <td>0.000000</td>\n",
       "      <td>1.427818e+09</td>\n",
       "    </tr>\n",
       "    <tr>\n",
       "      <th>25%</th>\n",
       "      <td>0.000000</td>\n",
       "      <td>0.000000</td>\n",
       "      <td>1.428982e+09</td>\n",
       "    </tr>\n",
       "    <tr>\n",
       "      <th>50%</th>\n",
       "      <td>0.000000</td>\n",
       "      <td>0.000000</td>\n",
       "      <td>1.429463e+09</td>\n",
       "    </tr>\n",
       "    <tr>\n",
       "      <th>75%</th>\n",
       "      <td>0.000000</td>\n",
       "      <td>0.000000</td>\n",
       "      <td>1.429925e+09</td>\n",
       "    </tr>\n",
       "    <tr>\n",
       "      <th>max</th>\n",
       "      <td>4.000000</td>\n",
       "      <td>466945.000000</td>\n",
       "      <td>1.430410e+09</td>\n",
       "    </tr>\n",
       "  </tbody>\n",
       "</table>\n",
       "</div>"
      ],
      "text/plain": [
       "               comment_count           hits       post_at\n",
       "is_spam                                                  \n",
       "0       count  9212.000000    9212.000000    9.212000e+03\n",
       "        mean   2.365936       3273.349870    1.429139e+09\n",
       "        std    14.071654      14905.489959   7.548597e+05\n",
       "        min    0.000000       0.000000       1.427818e+09\n",
       "        25%    0.000000       14.000000      1.428497e+09\n",
       "        50%    0.000000       196.000000     1.429146e+09\n",
       "        75%    0.000000       1491.250000    1.429776e+09\n",
       "        max    808.000000     659623.000000  1.430409e+09\n",
       "1       count  57547.000000   57547.000000   5.754700e+04\n",
       "        mean   0.000730       52.401898      1.429368e+09\n",
       "        std    0.041680       2933.280888    6.704956e+05\n",
       "        min    0.000000       0.000000       1.427818e+09\n",
       "        25%    0.000000       0.000000       1.428982e+09\n",
       "        50%    0.000000       0.000000       1.429463e+09\n",
       "        75%    0.000000       0.000000       1.429925e+09\n",
       "        max    4.000000       466945.000000  1.430410e+09"
      ]
     },
     "execution_count": 158,
     "metadata": {},
     "output_type": "execute_result"
    }
   ],
   "source": [
    "a_df.groupby(['is_spam']).describe()"
   ]
  },
  {
   "cell_type": "code",
   "execution_count": 176,
   "metadata": {
    "collapsed": false
   },
   "outputs": [
    {
     "data": {
      "text/plain": [
       "array([<matplotlib.axes.AxesSubplot object at 0x1237cc750>,\n",
       "       <matplotlib.axes.AxesSubplot object at 0x123871150>], dtype=object)"
      ]
     },
     "execution_count": 176,
     "metadata": {},
     "output_type": "execute_result"
    },
    {
     "data": {
      "image/png": "[encoded data removed]",
      "text/plain": [
       "<matplotlib.figure.Figure at 0x123670190>"
      ]
     },
     "metadata": {},
     "output_type": "display_data"
    },
    {
     "data": {
      "image/png": "[encoded data removed]",
      "text/plain": [
       "<matplotlib.figure.Figure at 0x1237cc110>"
      ]
     },
     "metadata": {},
     "output_type": "display_data"
    }
   ],
   "source": [
    "%matplotlib inline\n",
    "import matplotlib.pyplot as plt\n",
    "\n",
    "#plt.figure();\n",
    "#a_df['is_spam','comment_count'].plot(kind='hist', alpha=0.5)\n",
    "\n",
    "#plt.figure()\n",
    "\n",
    "#plt.hist(a_df['comment_count'], log=True) \n",
    "a_df['comment_count'].hist(by=a_df['is_spam'], log=True)\n",
    "a_df['hits'].hist(by=a_df['is_spam'], log=True)"
   ]
  },
  {
   "cell_type": "markdown",
   "metadata": {},
   "source": [
    "##User Tables##\n",
    "\n",
    "####*\"author\":\"1959c3059114ab170b170eaf4ba4e49b8a0f048f\"*####\n",
    "####*\"operate_at\"1427817600,*####\n",
    "####*\"operate_date\":\"2015-04-01T00:00:00+08:00\"*####\n",
    "####*\"action\":\"c1cc78dd7f67dd388967603b72547b4856f97c37\"*####"
   ]
  },
  {
   "cell_type": "code",
   "execution_count": 225,
   "metadata": {
    "collapsed": false,
    "scrolled": true
   },
   "outputs": [
    {
     "data": {
      "text/html": [
       "<div>\n",
       "<table border=\"1\" class=\"dataframe\">\n",
       "  <thead>\n",
       "    <tr style=\"text-align: right;\">\n",
       "      <th></th>\n",
       "      <th>author</th>\n",
       "      <th>op_at</th>\n",
       "      <th>op_date</th>\n",
       "      <th>action</th>\n",
       "    </tr>\n",
       "  </thead>\n",
       "  <tbody>\n",
       "    <tr>\n",
       "      <th>0</th>\n",
       "      <td>5a6d781843fd051e42bf6a37ee064e9ca0a3e14a</td>\n",
       "      <td>1427817600</td>\n",
       "      <td>2015-04-01T00:00:00+08:00</td>\n",
       "      <td>87a4425c5b350b685a97b5c7aa123e74599dd481</td>\n",
       "    </tr>\n",
       "    <tr>\n",
       "      <th>1</th>\n",
       "      <td>5a6d781843fd051e42bf6a37ee064e9ca0a3e14a</td>\n",
       "      <td>1427817600</td>\n",
       "      <td>2015-04-01T00:00:00+08:00</td>\n",
       "      <td>87a4425c5b350b685a97b5c7aa123e74599dd481</td>\n",
       "    </tr>\n",
       "    <tr>\n",
       "      <th>2</th>\n",
       "      <td>5a6d781843fd051e42bf6a37ee064e9ca0a3e14a</td>\n",
       "      <td>1427817600</td>\n",
       "      <td>2015-04-01T00:00:00+08:00</td>\n",
       "      <td>87a4425c5b350b685a97b5c7aa123e74599dd481</td>\n",
       "    </tr>\n",
       "  </tbody>\n",
       "</table>\n",
       "</div>"
      ],
      "text/plain": [
       "                                     author       op_at  \\\n",
       "0  5a6d781843fd051e42bf6a37ee064e9ca0a3e14a  1427817600   \n",
       "1  5a6d781843fd051e42bf6a37ee064e9ca0a3e14a  1427817600   \n",
       "2  5a6d781843fd051e42bf6a37ee064e9ca0a3e14a  1427817600   \n",
       "\n",
       "                     op_date                                    action  \n",
       "0  2015-04-01T00:00:00+08:00  87a4425c5b350b685a97b5c7aa123e74599dd481  \n",
       "1  2015-04-01T00:00:00+08:00  87a4425c5b350b685a97b5c7aa123e74599dd481  \n",
       "2  2015-04-01T00:00:00+08:00  87a4425c5b350b685a97b5c7aa123e74599dd481  "
      ]
     },
     "execution_count": 225,
     "metadata": {},
     "output_type": "execute_result"
    }
   ],
   "source": [
    "userlog.head(3)\n",
    "#userspam.head(1)"
   ]
  },
  {
   "cell_type": "code",
   "execution_count": 191,
   "metadata": {
    "collapsed": false
   },
   "outputs": [
    {
     "name": "stdout",
     "output_type": "stream",
     "text": [
      "         date  duration user_id\n",
      "0  2013-04-01  30        0001  \n",
      "1  2013-04-01  15        0001  \n",
      "2  2013-04-01  20        0002  \n",
      "3  2013-04-02  15        0002  \n",
      "4  2013-04-02  30        0002  \n"
     ]
    },
    {
     "data": {
      "text/plain": [
       "user_id\n",
       "0001    2\n",
       "0002    3\n",
       "Name: date, dtype: int64"
      ]
     },
     "execution_count": 191,
     "metadata": {},
     "output_type": "execute_result"
    }
   ],
   "source": [
    "#example\n",
    "df = pd.DataFrame({'date': ['2013-04-01','2013-04-01','2013-04-01','2013-04-02', '2013-04-02'],\n",
    "    'user_id': ['0001', '0001', '0002', '0002', '0002'],\n",
    "    'duration': [30, 15, 20, 15, 30]})\n",
    "\n",
    "print df\n",
    "#df.groupby(\"date\").agg({\"duration\": np.sum, \"user_id\": pd.Series.nunique})\n",
    "df.groupby(['user_id'])['date'].count()"
   ]
  },
  {
   "cell_type": "code",
   "execution_count": 47,
   "metadata": {
    "collapsed": false
   },
   "outputs": [],
   "source": [
    "#fit_userlog from the future\n",
    "#Remove useless userlog\n",
    "article_user = a_df.drop_duplicates(subset='author', take_last=True)\n",
    "fit_userlog = userlog[userlog['author'].isin(article_user['author'])]\n",
    "\n",
    "userA = fit_userlog #userlog[(userlog.author == '5a6d781843fd051e42bf6a37ee064e9ca0a3e14a')]\n",
    "uniq_action = userA.groupby(['author', 'op_date'])['action'].nunique().reset_index()\n",
    "num_action = userA.groupby(['author', 'op_date'])['action'].count().reset_index()\n",
    "\n",
    "#uniq_action.head()"
   ]
  },
  {
   "cell_type": "code",
   "execution_count": 50,
   "metadata": {
    "collapsed": false
   },
   "outputs": [
    {
     "data": {
      "text/html": [
       "<div>\n",
       "<table border=\"1\" class=\"dataframe\">\n",
       "  <thead>\n",
       "    <tr style=\"text-align: right;\">\n",
       "      <th></th>\n",
       "      <th>author</th>\n",
       "      <th>op_date</th>\n",
       "    </tr>\n",
       "  </thead>\n",
       "  <tbody>\n",
       "    <tr>\n",
       "      <th>0</th>\n",
       "      <td>002da29df9da2d4c64a3809912b0e3dfefe97af6</td>\n",
       "      <td>2</td>\n",
       "    </tr>\n",
       "    <tr>\n",
       "      <th>1</th>\n",
       "      <td>004c26426a3397155b2dc91f5e5d70f863b815ba</td>\n",
       "      <td>1</td>\n",
       "    </tr>\n",
       "    <tr>\n",
       "      <th>2</th>\n",
       "      <td>00614a4c42a2be41324b56774d3a96769fb6aeca</td>\n",
       "      <td>2</td>\n",
       "    </tr>\n",
       "  </tbody>\n",
       "</table>\n",
       "</div>"
      ],
      "text/plain": [
       "                                     author  op_date\n",
       "0  002da29df9da2d4c64a3809912b0e3dfefe97af6  2      \n",
       "1  004c26426a3397155b2dc91f5e5d70f863b815ba  1      \n",
       "2  00614a4c42a2be41324b56774d3a96769fb6aeca  2      "
      ]
     },
     "execution_count": 50,
     "metadata": {},
     "output_type": "execute_result"
    }
   ],
   "source": [
    "num_date = userA.groupby(['author'])['op_date'].nunique().reset_index()\n",
    "#uniq_opat = userA.groupby(['author'])['op_at'].nunique().reset_index()\n",
    "num_date.head(3)\n",
    "#uniq_opat.head(3)"
   ]
  },
  {
   "cell_type": "code",
   "execution_count": 51,
   "metadata": {
    "collapsed": false
   },
   "outputs": [],
   "source": [
    "#uniq_action.groupby('author').mean()\n",
    "#uniq_action.groupby('author').mean().head(10)\n",
    "#tt=num_action[(num_action.author == '1959c3059114ab170b170eaf4ba4e49b8a0f048f')]\n",
    "#tt\n",
    "uniq_action_grp = uniq_action.groupby('author').mean().reset_index()\n",
    "num_action_grp = num_action.groupby('author').mean().reset_index()"
   ]
  },
  {
   "cell_type": "code",
   "execution_count": 52,
   "metadata": {
    "collapsed": false
   },
   "outputs": [
    {
     "data": {
      "text/html": [
       "<div>\n",
       "<table border=\"1\" class=\"dataframe\">\n",
       "  <thead>\n",
       "    <tr style=\"text-align: right;\">\n",
       "      <th></th>\n",
       "      <th>author</th>\n",
       "      <th>raw_act_cnt_byDt</th>\n",
       "      <th>dis_act_cnt_byDt</th>\n",
       "      <th>dt_cnt</th>\n",
       "    </tr>\n",
       "  </thead>\n",
       "  <tbody>\n",
       "    <tr>\n",
       "      <th>0</th>\n",
       "      <td>002da29df9da2d4c64a3809912b0e3dfefe97af6</td>\n",
       "      <td>46</td>\n",
       "      <td>8.5</td>\n",
       "      <td>2</td>\n",
       "    </tr>\n",
       "    <tr>\n",
       "      <th>1</th>\n",
       "      <td>004c26426a3397155b2dc91f5e5d70f863b815ba</td>\n",
       "      <td>3</td>\n",
       "      <td>3.0</td>\n",
       "      <td>1</td>\n",
       "    </tr>\n",
       "    <tr>\n",
       "      <th>2</th>\n",
       "      <td>00614a4c42a2be41324b56774d3a96769fb6aeca</td>\n",
       "      <td>1</td>\n",
       "      <td>1.0</td>\n",
       "      <td>2</td>\n",
       "    </tr>\n",
       "  </tbody>\n",
       "</table>\n",
       "</div>"
      ],
      "text/plain": [
       "                                     author  raw_act_cnt_byDt  \\\n",
       "0  002da29df9da2d4c64a3809912b0e3dfefe97af6  46                 \n",
       "1  004c26426a3397155b2dc91f5e5d70f863b815ba  3                  \n",
       "2  00614a4c42a2be41324b56774d3a96769fb6aeca  1                  \n",
       "\n",
       "   dis_act_cnt_byDt  dt_cnt  \n",
       "0  8.5               2       \n",
       "1  3.0               1       \n",
       "2  1.0               2       "
      ]
     },
     "execution_count": 52,
     "metadata": {},
     "output_type": "execute_result"
    }
   ],
   "source": [
    "#uniq_action2 = uniq_action.to_frame(name='prcp')\n",
    "num_action_grp.columns = ['author', 'raw_act_cnt_byDt']\n",
    "uniq_action_grp.columns = ['author', 'dis_act_cnt_byDt']\n",
    "num_date.columns = ['author', 'dt_cnt']\n",
    "\n",
    "final_action = pd.merge(pd.merge(num_action_grp, uniq_action_grp, on='author', how='inner'), num_date, on='author', how='inner')\n",
    "#final_action = pd.merge(final_action_0, uniq_opat, on='author', how='inner')\n",
    "final_action.head(3)\n",
    "#pd.concat([num_action_grp, uniq_action_grp], axis=1).head(10)"
   ]
  },
  {
   "cell_type": "markdown",
   "metadata": {},
   "source": [
    "###Box-plot###"
   ]
  },
  {
   "cell_type": "code",
   "execution_count": 165,
   "metadata": {
    "collapsed": false
   },
   "outputs": [
    {
     "data": {
      "text/plain": [
       "{'boxes': [<matplotlib.lines.Line2D at 0x12a1c9510>],\n",
       " 'caps': [<matplotlib.lines.Line2D at 0x129b95ad0>,\n",
       "  <matplotlib.lines.Line2D at 0x129b95fd0>],\n",
       " 'fliers': [<matplotlib.lines.Line2D at 0x12a1c9f10>,\n",
       "  <matplotlib.lines.Line2D at 0x12a1cc310>],\n",
       " 'medians': [<matplotlib.lines.Line2D at 0x12a1c9a10>],\n",
       " 'whiskers': [<matplotlib.lines.Line2D at 0x129b95110>,\n",
       "  <matplotlib.lines.Line2D at 0x129b955d0>]}"
      ]
     },
     "execution_count": 165,
     "metadata": {},
     "output_type": "execute_result"
    },
    {
     "data": {
      "image/png": "[encoded data removed]",
      "text/plain": [
       "<matplotlib.figure.Figure at 0x12a26bd50>"
      ]
     },
     "metadata": {},
     "output_type": "display_data"
    }
   ],
   "source": [
    "%matplotlib inline\n",
    "final_action.boxplot(column='dt_cnt')"
   ]
  },
  {
   "cell_type": "code",
   "execution_count": 169,
   "metadata": {
    "collapsed": false
   },
   "outputs": [
    {
     "data": {
      "text/plain": [
       "{'boxes': [<matplotlib.lines.Line2D at 0x12a4120d0>],\n",
       " 'caps': [<matplotlib.lines.Line2D at 0x12a40d790>,\n",
       "  <matplotlib.lines.Line2D at 0x12a40db90>],\n",
       " 'fliers': [<matplotlib.lines.Line2D at 0x12a412ad0>,\n",
       "  <matplotlib.lines.Line2D at 0x12a412f90>],\n",
       " 'medians': [<matplotlib.lines.Line2D at 0x12a4125d0>],\n",
       " 'whiskers': [<matplotlib.lines.Line2D at 0x12a408d50>,\n",
       "  <matplotlib.lines.Line2D at 0x12a40d290>]}"
      ]
     },
     "execution_count": 169,
     "metadata": {},
     "output_type": "execute_result"
    },
    {
     "data": {
      "image/png": "[encoded data removed]",
      "text/plain": [
       "<matplotlib.figure.Figure at 0x12a7f9910>"
      ]
     },
     "metadata": {},
     "output_type": "display_data"
    }
   ],
   "source": [
    "final_action.boxplot(column='dis_act_cnt_byDt')"
   ]
  },
  {
   "cell_type": "code",
   "execution_count": 36,
   "metadata": {
    "collapsed": false
   },
   "outputs": [
    {
     "name": "stdout",
     "output_type": "stream",
     "text": [
      "Number of distinct userID is: 160037\n"
     ]
    }
   ],
   "source": [
    "print \"Number of distinct userID is: %d\" % userlog['author'].nunique()"
   ]
  },
  {
   "cell_type": "code",
   "execution_count": 43,
   "metadata": {
    "collapsed": false
   },
   "outputs": [],
   "source": [
    "uniq_userID_log = userlog['author'].nunique()\n",
    "uniq_userID_art = a_df['author'].unique()\n",
    "\n",
    "c = np.intersect1d(uniq_userID_art, uniq_userID_log)\n",
    "#y = uniq_userID_art.isin(uniq_userID_log)"
   ]
  },
  {
   "cell_type": "code",
   "execution_count": 53,
   "metadata": {
    "collapsed": false
   },
   "outputs": [
    {
     "name": "stdout",
     "output_type": "stream",
     "text": [
      "Number of unique userID from article 1074\n"
     ]
    }
   ],
   "source": [
    "print \"Number of unique userID from article %d\" % len(uniq_userID_art)"
   ]
  },
  {
   "cell_type": "code",
   "execution_count": 54,
   "metadata": {
    "collapsed": true
   },
   "outputs": [],
   "source": [
    "#Remove useless userlog\n",
    "#article_user = a_df.drop_duplicates(subset='author', take_last=True)"
   ]
  },
  {
   "cell_type": "code",
   "execution_count": 81,
   "metadata": {
    "collapsed": false
   },
   "outputs": [],
   "source": [
    "#distinct article user = 1074, total user = 66759\n",
    "#fit_userlog = userlog[userlog['author'].isin(a_df['author'])]"
   ]
  },
  {
   "cell_type": "code",
   "execution_count": 82,
   "metadata": {
    "collapsed": false
   },
   "outputs": [
    {
     "data": {
      "text/plain": [
       "1066"
      ]
     },
     "execution_count": 82,
     "metadata": {},
     "output_type": "execute_result"
    }
   ],
   "source": [
    "#11596760 -> 130971(1066)\n",
    "fit_userlog['author'].nunique()\n",
    "#a_df['author'].head(3)\n",
    "#a_df[(a_df.author == '4cdd51df96ca41b1cef7fd8bd49d755e3a66f5b3')]\n",
    "\n",
    "#userlog[(userlog.author == '4cdd51df96ca41b1cef7fd8bd49d755e3a66f5b3')].head(1)"
   ]
  },
  {
   "cell_type": "code",
   "execution_count": 83,
   "metadata": {
    "collapsed": false
   },
   "outputs": [
    {
     "name": "stdout",
     "output_type": "stream",
     "text": [
      "Only 1066 user with log data\n"
     ]
    }
   ],
   "source": [
    "#how many users are not in log\n",
    "fit_userarticle = article_user[article_user['author'].isin(userlog['author'])]\n",
    "\n",
    "print \"Only %d user with log data\"% fit_userarticle['author'].nunique()"
   ]
  },
  {
   "cell_type": "code",
   "execution_count": 155,
   "metadata": {
    "collapsed": false
   },
   "outputs": [
    {
     "data": {
      "text/html": [
       "<div>\n",
       "<table border=\"1\" class=\"dataframe\">\n",
       "  <thead>\n",
       "    <tr style=\"text-align: right;\">\n",
       "      <th></th>\n",
       "      <th>author</th>\n",
       "      <th>op_at</th>\n",
       "      <th>op_date</th>\n",
       "      <th>action</th>\n",
       "    </tr>\n",
       "  </thead>\n",
       "  <tbody>\n",
       "    <tr>\n",
       "      <th>80</th>\n",
       "      <td>b361611830a81197e5203a640de5e1612a48902e</td>\n",
       "      <td>1427817600</td>\n",
       "      <td>2015-04-01T00:00:00+08:00</td>\n",
       "      <td>ebc7e5557e16f501dec63cacf585fd25fcbc6565</td>\n",
       "    </tr>\n",
       "  </tbody>\n",
       "</table>\n",
       "</div>"
      ],
      "text/plain": [
       "                                      author       op_at  \\\n",
       "80  b361611830a81197e5203a640de5e1612a48902e  1427817600   \n",
       "\n",
       "                      op_date                                    action  \n",
       "80  2015-04-01T00:00:00+08:00  ebc7e5557e16f501dec63cacf585fd25fcbc6565  "
      ]
     },
     "execution_count": 155,
     "metadata": {},
     "output_type": "execute_result"
    }
   ],
   "source": [
    "#number of action = 1677, date = 30 \n",
    "fit_userlog.head(1)"
   ]
  },
  {
   "cell_type": "code",
   "execution_count": null,
   "metadata": {
    "collapsed": false
   },
   "outputs": [],
   "source": [
    "#userlog.stack().value_counts().head(3)\n",
    "userlog_gp['Counts'] = userlog.groupby(['author', 'op_date']).transform(len)"
   ]
  },
  {
   "cell_type": "code",
   "execution_count": 53,
   "metadata": {
    "collapsed": false
   },
   "outputs": [],
   "source": [
    "#userspam.head(1)\n",
    "userspam['tag'] = 1\n",
    "userspam.columns = ['author', 'tag']\n",
    "\n",
    "#join whether in spam file or not\n",
    "final_action_2 = pd.merge(final_action, userspam, on='author', how='left')"
   ]
  },
  {
   "cell_type": "code",
   "execution_count": 54,
   "metadata": {
    "collapsed": false
   },
   "outputs": [
    {
     "data": {
      "text/html": [
       "<div>\n",
       "<table border=\"1\" class=\"dataframe\">\n",
       "  <thead>\n",
       "    <tr style=\"text-align: right;\">\n",
       "      <th></th>\n",
       "      <th>author</th>\n",
       "      <th>raw_act_cnt_byDt</th>\n",
       "      <th>dis_act_cnt_byDt</th>\n",
       "      <th>dt_cnt</th>\n",
       "      <th>tag</th>\n",
       "    </tr>\n",
       "  </thead>\n",
       "  <tbody>\n",
       "    <tr>\n",
       "      <th>0</th>\n",
       "      <td>002da29df9da2d4c64a3809912b0e3dfefe97af6</td>\n",
       "      <td>46.000000</td>\n",
       "      <td>8.500000</td>\n",
       "      <td>2</td>\n",
       "      <td>0</td>\n",
       "    </tr>\n",
       "    <tr>\n",
       "      <th>1</th>\n",
       "      <td>004c26426a3397155b2dc91f5e5d70f863b815ba</td>\n",
       "      <td>3.000000</td>\n",
       "      <td>3.000000</td>\n",
       "      <td>1</td>\n",
       "      <td>0</td>\n",
       "    </tr>\n",
       "    <tr>\n",
       "      <th>2</th>\n",
       "      <td>00614a4c42a2be41324b56774d3a96769fb6aeca</td>\n",
       "      <td>1.000000</td>\n",
       "      <td>1.000000</td>\n",
       "      <td>2</td>\n",
       "      <td>0</td>\n",
       "    </tr>\n",
       "    <tr>\n",
       "      <th>3</th>\n",
       "      <td>00689b1c0ce18034a447ac13a0a1cdac97131429</td>\n",
       "      <td>13.928571</td>\n",
       "      <td>3.357143</td>\n",
       "      <td>14</td>\n",
       "      <td>0</td>\n",
       "    </tr>\n",
       "  </tbody>\n",
       "</table>\n",
       "</div>"
      ],
      "text/plain": [
       "                                     author  raw_act_cnt_byDt  \\\n",
       "0  002da29df9da2d4c64a3809912b0e3dfefe97af6  46.000000          \n",
       "1  004c26426a3397155b2dc91f5e5d70f863b815ba  3.000000           \n",
       "2  00614a4c42a2be41324b56774d3a96769fb6aeca  1.000000           \n",
       "3  00689b1c0ce18034a447ac13a0a1cdac97131429  13.928571          \n",
       "\n",
       "   dis_act_cnt_byDt  dt_cnt  tag  \n",
       "0  8.500000          2       0    \n",
       "1  3.000000          1       0    \n",
       "2  1.000000          2       0    \n",
       "3  3.357143          14      0    "
      ]
     },
     "execution_count": 54,
     "metadata": {},
     "output_type": "execute_result"
    }
   ],
   "source": [
    "final_action_2['tag'].fillna(0, inplace=True)\n",
    "final_action_2.head(4)"
   ]
  },
  {
   "cell_type": "code",
   "execution_count": 200,
   "metadata": {
    "collapsed": false
   },
   "outputs": [
    {
     "data": {
      "text/plain": [
       "<matplotlib.axes.AxesSubplot at 0x12a428750>"
      ]
     },
     "execution_count": 200,
     "metadata": {},
     "output_type": "execute_result"
    },
    {
     "data": {
      "image/png": "[encoded data removed]",
      "text/plain": [
       "<matplotlib.figure.Figure at 0x12a827550>"
      ]
     },
     "metadata": {},
     "output_type": "display_data"
    }
   ],
   "source": [
    "%matplotlib inline\n",
    "\n",
    "final_action_2.boxplot(column='dt_cnt', by='tag')"
   ]
  },
  {
   "cell_type": "code",
   "execution_count": 205,
   "metadata": {
    "collapsed": false
   },
   "outputs": [
    {
     "data": {
      "text/plain": [
       "<matplotlib.axes.AxesSubplot at 0x12d8b7e10>"
      ]
     },
     "execution_count": 205,
     "metadata": {},
     "output_type": "execute_result"
    },
    {
     "data": {
      "image/png": "[encoded data removed]",
      "text/plain": [
       "<matplotlib.figure.Figure at 0x12a424dd0>"
      ]
     },
     "metadata": {},
     "output_type": "display_data"
    }
   ],
   "source": [
    "import seaborn as sns\n",
    "from scipy import stats, integrate\n",
    "sns.set(color_codes=True)\n",
    "\n",
    "sns.distplot(final_action_2['dt_cnt']);\n",
    "#sns.distplot(final_action_2['tag']);\n",
    "\n",
    "#final_action_2.boxplot(column='dt_cnt', by='tag')"
   ]
  },
  {
   "cell_type": "code",
   "execution_count": 214,
   "metadata": {
    "collapsed": false
   },
   "outputs": [
    {
     "data": {
      "image/png": "[encoded data removed]",
      "text/plain": [
       "<matplotlib.figure.Figure at 0x12d690490>"
      ]
     },
     "metadata": {},
     "output_type": "display_data"
    }
   ],
   "source": [
    "#sns.stripplot(x=\"tag\", y=\"dt_cnt\", data=final_action_2);\n",
    "sns.boxplot(x=\"tag\", y=\"dis_act_cnt_byDt\", data=final_action_2);"
   ]
  },
  {
   "cell_type": "code",
   "execution_count": 215,
   "metadata": {
    "collapsed": false
   },
   "outputs": [
    {
     "data": {
      "image/png": "[encoded data removed]",
      "text/plain": [
       "<matplotlib.figure.Figure at 0x12a424f90>"
      ]
     },
     "metadata": {},
     "output_type": "display_data"
    }
   ],
   "source": [
    "sns.boxplot(x=\"tag\", y=\"dt_cnt\", data=final_action_2);"
   ]
  },
  {
   "cell_type": "code",
   "execution_count": 232,
   "metadata": {
    "collapsed": false
   },
   "outputs": [
    {
     "data": {
      "image/png": "[encoded data removed]",
      "text/plain": [
       "<matplotlib.figure.Figure at 0x12d998d90>"
      ]
     },
     "metadata": {},
     "output_type": "display_data"
    }
   ],
   "source": [
    "#sns.boxplot(x=\"tag\", y=\"raw_act_cnt_byDt\", data=final_action_2);\n",
    "#sns.violinplot(x=\"tag\", y=\"raw_act_cnt_byDt\", data=final_action_2);\n",
    "sns.stripplot(x=\"tag\", y=\"raw_act_cnt_byDt\", data=final_action_2);"
   ]
  },
  {
   "cell_type": "code",
   "execution_count": 55,
   "metadata": {
    "collapsed": false
   },
   "outputs": [
    {
     "data": {
      "text/html": [
       "<div>\n",
       "<table border=\"1\" class=\"dataframe\">\n",
       "  <thead>\n",
       "    <tr style=\"text-align: right;\">\n",
       "      <th></th>\n",
       "      <th>author</th>\n",
       "      <th>raw_act_cnt_byDt</th>\n",
       "      <th>dis_act_cnt_byDt</th>\n",
       "      <th>dt_cnt</th>\n",
       "    </tr>\n",
       "    <tr>\n",
       "      <th>tag</th>\n",
       "      <th></th>\n",
       "      <th></th>\n",
       "      <th></th>\n",
       "      <th></th>\n",
       "    </tr>\n",
       "  </thead>\n",
       "  <tbody>\n",
       "    <tr>\n",
       "      <th>0</th>\n",
       "      <td>863</td>\n",
       "      <td>863</td>\n",
       "      <td>863</td>\n",
       "      <td>863</td>\n",
       "    </tr>\n",
       "    <tr>\n",
       "      <th>1</th>\n",
       "      <td>203</td>\n",
       "      <td>203</td>\n",
       "      <td>203</td>\n",
       "      <td>203</td>\n",
       "    </tr>\n",
       "  </tbody>\n",
       "</table>\n",
       "</div>"
      ],
      "text/plain": [
       "     author  raw_act_cnt_byDt  dis_act_cnt_byDt  dt_cnt\n",
       "tag                                                    \n",
       "0    863     863               863               863   \n",
       "1    203     203               203               203   "
      ]
     },
     "execution_count": 55,
     "metadata": {},
     "output_type": "execute_result"
    }
   ],
   "source": [
    "final_action_2.groupby(['tag']).count() \n",
    "# Spam = 23.5%"
   ]
  },
  {
   "cell_type": "markdown",
   "metadata": {
    "collapsed": true
   },
   "source": [
    "###KNN for User Log###"
   ]
  },
  {
   "cell_type": "code",
   "execution_count": 56,
   "metadata": {
    "collapsed": false
   },
   "outputs": [
    {
     "data": {
      "text/html": [
       "<div>\n",
       "<table border=\"1\" class=\"dataframe\">\n",
       "  <thead>\n",
       "    <tr style=\"text-align: right;\">\n",
       "      <th></th>\n",
       "      <th>author</th>\n",
       "      <th>raw_act_cnt_byDt</th>\n",
       "      <th>dis_act_cnt_byDt</th>\n",
       "      <th>dt_cnt</th>\n",
       "      <th>tag</th>\n",
       "    </tr>\n",
       "  </thead>\n",
       "  <tbody>\n",
       "    <tr>\n",
       "      <th>0</th>\n",
       "      <td>002da29df9da2d4c64a3809912b0e3dfefe97af6</td>\n",
       "      <td>46</td>\n",
       "      <td>8.5</td>\n",
       "      <td>2</td>\n",
       "      <td>0</td>\n",
       "    </tr>\n",
       "    <tr>\n",
       "      <th>1</th>\n",
       "      <td>004c26426a3397155b2dc91f5e5d70f863b815ba</td>\n",
       "      <td>3</td>\n",
       "      <td>3.0</td>\n",
       "      <td>1</td>\n",
       "      <td>0</td>\n",
       "    </tr>\n",
       "    <tr>\n",
       "      <th>2</th>\n",
       "      <td>00614a4c42a2be41324b56774d3a96769fb6aeca</td>\n",
       "      <td>1</td>\n",
       "      <td>1.0</td>\n",
       "      <td>2</td>\n",
       "      <td>0</td>\n",
       "    </tr>\n",
       "  </tbody>\n",
       "</table>\n",
       "</div>"
      ],
      "text/plain": [
       "                                     author  raw_act_cnt_byDt  \\\n",
       "0  002da29df9da2d4c64a3809912b0e3dfefe97af6  46                 \n",
       "1  004c26426a3397155b2dc91f5e5d70f863b815ba  3                  \n",
       "2  00614a4c42a2be41324b56774d3a96769fb6aeca  1                  \n",
       "\n",
       "   dis_act_cnt_byDt  dt_cnt  tag  \n",
       "0  8.5               2       0    \n",
       "1  3.0               1       0    \n",
       "2  1.0               2       0    "
      ]
     },
     "execution_count": 56,
     "metadata": {},
     "output_type": "execute_result"
    }
   ],
   "source": [
    "final_action_2.head(3)"
   ]
  },
  {
   "cell_type": "code",
   "execution_count": null,
   "metadata": {
    "collapsed": true
   },
   "outputs": [],
   "source": []
  }
 ],
 "metadata": {
  "kernelspec": {
   "display_name": "Python 2",
   "language": "python",
   "name": "python2"
  },
  "language_info": {
   "codemirror_mode": {
    "name": "ipython",
    "version": 2
   },
   "file_extension": ".py",
   "mimetype": "text/x-python",
   "name": "python",
   "nbconvert_exporter": "python",
   "pygments_lexer": "ipython2",
   "version": "2.7.5"
  }
 },
 "nbformat": 4,
 "nbformat_minor": 0
}
